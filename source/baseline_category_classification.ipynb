{
  "nbformat": 4,
  "nbformat_minor": 0,
  "metadata": {
    "kernelspec": {
      "display_name": "Python 3",
      "language": "python",
      "name": "python3"
    },
    "language_info": {
      "codemirror_mode": {
        "name": "ipython",
        "version": 3
      },
      "file_extension": ".py",
      "mimetype": "text/x-python",
      "name": "python",
      "nbconvert_exporter": "python",
      "pygments_lexer": "ipython3",
      "version": "3.7.6"
    },
    "colab": {
      "name": "Copy of baseline-category-classification.ipynb",
      "provenance": [],
      "collapsed_sections": [],
      "include_colab_link": true
    }
  },
  "cells": [
    {
      "cell_type": "markdown",
      "metadata": {
        "id": "view-in-github",
        "colab_type": "text"
      },
      "source": [
        "<a href=\"https://colab.research.google.com/github/wliangxy/advertiser-quality-from-sites/blob/master/source/baseline_category_classification.ipynb\" target=\"_parent\"><img src=\"https://colab.research.google.com/assets/colab-badge.svg\" alt=\"Open In Colab\"/></a>"
      ]
    },
    {
      "cell_type": "code",
      "metadata": {
        "id": "t3OPxX0N3f_5",
        "colab_type": "code",
        "colab": {}
      },
      "source": [
        "import sys\n",
        "import os\n",
        "import math\n",
        "import datetime\n",
        "from tqdm import tqdm\n",
        "import pandas as pd\n",
        "import numpy as np\n",
        "\n",
        "import tensorflow as tf\n",
        "from tensorflow import keras\n",
        "\n",
        "from bs4 import BeautifulSoup\n",
        "from bs4.element import Comment\n",
        "import re\n",
        "from langdetect import detect_langs\n",
        "# import nltk\n",
        "# from nltk.corpus import stopwords\n",
        "\n",
        "from bert import BertModelLayer\n",
        "from bert.loader import StockBertConfig, map_stock_config_to_params, load_stock_weights\n",
        "from bert.tokenization.bert_tokenization import FullTokenizer\n",
        "\n",
        "import seaborn as sns\n",
        "import matplotlib.pyplot as plt\n",
        "\n",
        "from sklearn.metrics import classification_report\n",
        "\n",
        "%matplotlib inline\n",
        "%config InlineBackend.figure_format='retina'\n"
      ],
      "execution_count": 1,
      "outputs": []
    },
    {
      "cell_type": "code",
      "metadata": {
        "id": "MIBnztDI4al8",
        "colab_type": "code",
        "colab": {
          "base_uri": "https://localhost:8080/",
          "height": 34
        },
        "outputId": "4e9b7b70-0b36-484d-d427-054889af03f3"
      },
      "source": [
        "os. getcwd()"
      ],
      "execution_count": 2,
      "outputs": [
        {
          "output_type": "execute_result",
          "data": {
            "text/plain": [
              "'/home/wliang_google_com/Documents/workspace/notebook'"
            ]
          },
          "metadata": {
            "tags": []
          },
          "execution_count": 2
        }
      ]
    },
    {
      "cell_type": "code",
      "metadata": {
        "scrolled": true,
        "id": "XQc7ejGp3gAE",
        "colab_type": "code",
        "colab": {
          "base_uri": "https://localhost:8080/",
          "height": 233
        },
        "outputId": "0153ede4-4ecd-46c1-98a3-319c33197b18"
      },
      "source": [
        "df = pd.read_csv(os.path.join('/home/vahidsanei_google_com/data/yelp_data/updated', 'bussiness_with_corpus.csv'))\n",
        "df.head()"
      ],
      "execution_count": 3,
      "outputs": [
        {
          "output_type": "execute_result",
          "data": {
            "text/plain": [
              "   Unnamed: 0             business_id                          name  \\\n",
              "0           0  f9NumwFMBDn751xgFiRbNA      The Range At Lake Norman   \n",
              "1           1  XNoUzKckATkOD1hP6vghZg                       Felinus   \n",
              "2           2  51M2Kk903DFYI6gnB5I6SQ       USE MY GUY SERVICES LLC   \n",
              "3           3  cKyLV5oWZJ2NudWgqs8VZw   Oasis Auto Center - Gilbert   \n",
              "4           4  ScYkbYNkDgCneBrD9vqhCQ  Junction Tire & Auto Service   \n",
              "\n",
              "                     address       city state postal_code   latitude  \\\n",
              "0            10913 Bailey Rd  Cornelius    NC       28031  35.462724   \n",
              "1      3554 Rue Notre-Dame O   Montreal    QC     H4C 1P4  45.479984   \n",
              "2         4827 E Downing Cir       Mesa    AZ       85205  33.428065   \n",
              "3  1720 W Elliot Rd, Ste 105    Gilbert    AZ       85233  33.350399   \n",
              "4        6910 E Southern Ave       Mesa    AZ       85209  33.393885   \n",
              "\n",
              "    longitude  stars  ...  1.5  2.0 2.5 3.0 3.5 4.0 4.5  5.0  is_eng  \\\n",
              "0  -80.852612    3.5  ...    0    0   0   0   1   0   0    0    True   \n",
              "1  -73.580070    5.0  ...    0    0   0   0   0   0   0    1   False   \n",
              "2 -111.726648    4.5  ...    0    0   0   0   0   0   1    0    True   \n",
              "3 -111.827142    4.5  ...    0    0   0   0   0   0   1    0    True   \n",
              "4 -111.682226    5.0  ...    0    0   0   0   0   0   0    1    True   \n",
              "\n",
              "                                      webpage_corpus  \n",
              "0  Shooting Ranges Gun Rental Charlotte NC The Ra...  \n",
              "1                                                NaN  \n",
              "2  Home Renovations and Repairs Phoenix AZ Home U...  \n",
              "3  Home Oasis Auto CenterOasis Auto Center Pages ...  \n",
              "4  Contact Junction Tire Tires Auto Repair Shop i...  \n",
              "\n",
              "[5 rows x 28 columns]"
            ],
            "text/html": [
              "<div>\n",
              "<style scoped>\n",
              "    .dataframe tbody tr th:only-of-type {\n",
              "        vertical-align: middle;\n",
              "    }\n",
              "\n",
              "    .dataframe tbody tr th {\n",
              "        vertical-align: top;\n",
              "    }\n",
              "\n",
              "    .dataframe thead th {\n",
              "        text-align: right;\n",
              "    }\n",
              "</style>\n",
              "<table border=\"1\" class=\"dataframe\">\n",
              "  <thead>\n",
              "    <tr style=\"text-align: right;\">\n",
              "      <th></th>\n",
              "      <th>Unnamed: 0</th>\n",
              "      <th>business_id</th>\n",
              "      <th>name</th>\n",
              "      <th>address</th>\n",
              "      <th>city</th>\n",
              "      <th>state</th>\n",
              "      <th>postal_code</th>\n",
              "      <th>latitude</th>\n",
              "      <th>longitude</th>\n",
              "      <th>stars</th>\n",
              "      <th>...</th>\n",
              "      <th>1.5</th>\n",
              "      <th>2.0</th>\n",
              "      <th>2.5</th>\n",
              "      <th>3.0</th>\n",
              "      <th>3.5</th>\n",
              "      <th>4.0</th>\n",
              "      <th>4.5</th>\n",
              "      <th>5.0</th>\n",
              "      <th>is_eng</th>\n",
              "      <th>webpage_corpus</th>\n",
              "    </tr>\n",
              "  </thead>\n",
              "  <tbody>\n",
              "    <tr>\n",
              "      <th>0</th>\n",
              "      <td>0</td>\n",
              "      <td>f9NumwFMBDn751xgFiRbNA</td>\n",
              "      <td>The Range At Lake Norman</td>\n",
              "      <td>10913 Bailey Rd</td>\n",
              "      <td>Cornelius</td>\n",
              "      <td>NC</td>\n",
              "      <td>28031</td>\n",
              "      <td>35.462724</td>\n",
              "      <td>-80.852612</td>\n",
              "      <td>3.5</td>\n",
              "      <td>...</td>\n",
              "      <td>0</td>\n",
              "      <td>0</td>\n",
              "      <td>0</td>\n",
              "      <td>0</td>\n",
              "      <td>1</td>\n",
              "      <td>0</td>\n",
              "      <td>0</td>\n",
              "      <td>0</td>\n",
              "      <td>True</td>\n",
              "      <td>Shooting Ranges Gun Rental Charlotte NC The Ra...</td>\n",
              "    </tr>\n",
              "    <tr>\n",
              "      <th>1</th>\n",
              "      <td>1</td>\n",
              "      <td>XNoUzKckATkOD1hP6vghZg</td>\n",
              "      <td>Felinus</td>\n",
              "      <td>3554 Rue Notre-Dame O</td>\n",
              "      <td>Montreal</td>\n",
              "      <td>QC</td>\n",
              "      <td>H4C 1P4</td>\n",
              "      <td>45.479984</td>\n",
              "      <td>-73.580070</td>\n",
              "      <td>5.0</td>\n",
              "      <td>...</td>\n",
              "      <td>0</td>\n",
              "      <td>0</td>\n",
              "      <td>0</td>\n",
              "      <td>0</td>\n",
              "      <td>0</td>\n",
              "      <td>0</td>\n",
              "      <td>0</td>\n",
              "      <td>1</td>\n",
              "      <td>False</td>\n",
              "      <td>NaN</td>\n",
              "    </tr>\n",
              "    <tr>\n",
              "      <th>2</th>\n",
              "      <td>2</td>\n",
              "      <td>51M2Kk903DFYI6gnB5I6SQ</td>\n",
              "      <td>USE MY GUY SERVICES LLC</td>\n",
              "      <td>4827 E Downing Cir</td>\n",
              "      <td>Mesa</td>\n",
              "      <td>AZ</td>\n",
              "      <td>85205</td>\n",
              "      <td>33.428065</td>\n",
              "      <td>-111.726648</td>\n",
              "      <td>4.5</td>\n",
              "      <td>...</td>\n",
              "      <td>0</td>\n",
              "      <td>0</td>\n",
              "      <td>0</td>\n",
              "      <td>0</td>\n",
              "      <td>0</td>\n",
              "      <td>0</td>\n",
              "      <td>1</td>\n",
              "      <td>0</td>\n",
              "      <td>True</td>\n",
              "      <td>Home Renovations and Repairs Phoenix AZ Home U...</td>\n",
              "    </tr>\n",
              "    <tr>\n",
              "      <th>3</th>\n",
              "      <td>3</td>\n",
              "      <td>cKyLV5oWZJ2NudWgqs8VZw</td>\n",
              "      <td>Oasis Auto Center - Gilbert</td>\n",
              "      <td>1720 W Elliot Rd, Ste 105</td>\n",
              "      <td>Gilbert</td>\n",
              "      <td>AZ</td>\n",
              "      <td>85233</td>\n",
              "      <td>33.350399</td>\n",
              "      <td>-111.827142</td>\n",
              "      <td>4.5</td>\n",
              "      <td>...</td>\n",
              "      <td>0</td>\n",
              "      <td>0</td>\n",
              "      <td>0</td>\n",
              "      <td>0</td>\n",
              "      <td>0</td>\n",
              "      <td>0</td>\n",
              "      <td>1</td>\n",
              "      <td>0</td>\n",
              "      <td>True</td>\n",
              "      <td>Home Oasis Auto CenterOasis Auto Center Pages ...</td>\n",
              "    </tr>\n",
              "    <tr>\n",
              "      <th>4</th>\n",
              "      <td>4</td>\n",
              "      <td>ScYkbYNkDgCneBrD9vqhCQ</td>\n",
              "      <td>Junction Tire &amp; Auto Service</td>\n",
              "      <td>6910 E Southern Ave</td>\n",
              "      <td>Mesa</td>\n",
              "      <td>AZ</td>\n",
              "      <td>85209</td>\n",
              "      <td>33.393885</td>\n",
              "      <td>-111.682226</td>\n",
              "      <td>5.0</td>\n",
              "      <td>...</td>\n",
              "      <td>0</td>\n",
              "      <td>0</td>\n",
              "      <td>0</td>\n",
              "      <td>0</td>\n",
              "      <td>0</td>\n",
              "      <td>0</td>\n",
              "      <td>0</td>\n",
              "      <td>1</td>\n",
              "      <td>True</td>\n",
              "      <td>Contact Junction Tire Tires Auto Repair Shop i...</td>\n",
              "    </tr>\n",
              "  </tbody>\n",
              "</table>\n",
              "<p>5 rows × 28 columns</p>\n",
              "</div>"
            ]
          },
          "metadata": {
            "tags": []
          },
          "execution_count": 3
        }
      ]
    },
    {
      "cell_type": "code",
      "metadata": {
        "id": "KY8nQSVn3gAK",
        "colab_type": "code",
        "colab": {
          "base_uri": "https://localhost:8080/",
          "height": 119
        },
        "outputId": "2f345afe-cd12-4400-b96c-06ebae61161e"
      },
      "source": [
        "df.columns"
      ],
      "execution_count": 4,
      "outputs": [
        {
          "output_type": "execute_result",
          "data": {
            "text/plain": [
              "Index(['Unnamed: 0', 'business_id', 'name', 'address', 'city', 'state',\n",
              "       'postal_code', 'latitude', 'longitude', 'stars', 'review_count',\n",
              "       'is_open', 'attributes', 'categories', 'hours', 'url', 'webpage_text',\n",
              "       '1.0', '1.5', '2.0', '2.5', '3.0', '3.5', '4.0', '4.5', '5.0', 'is_eng',\n",
              "       'webpage_corpus'],\n",
              "      dtype='object')"
            ]
          },
          "metadata": {
            "tags": []
          },
          "execution_count": 4
        }
      ]
    },
    {
      "cell_type": "code",
      "metadata": {
        "scrolled": true,
        "id": "purqxpuO3gAO",
        "colab_type": "code",
        "colab": {
          "base_uri": "https://localhost:8080/",
          "height": 612
        },
        "outputId": "9d70caa1-ce22-47e4-9b5e-1ae677deaa7b"
      },
      "source": [
        "df = df[df['categories'].notnull()]\n",
        "df.info()"
      ],
      "execution_count": 5,
      "outputs": [
        {
          "output_type": "stream",
          "text": [
            "<class 'pandas.core.frame.DataFrame'>\n",
            "Int64Index: 55963 entries, 0 to 56064\n",
            "Data columns (total 28 columns):\n",
            " #   Column          Non-Null Count  Dtype  \n",
            "---  ------          --------------  -----  \n",
            " 0   Unnamed: 0      55963 non-null  int64  \n",
            " 1   business_id     55963 non-null  object \n",
            " 2   name            55963 non-null  object \n",
            " 3   address         53592 non-null  object \n",
            " 4   city            55963 non-null  object \n",
            " 5   state           55963 non-null  object \n",
            " 6   postal_code     55854 non-null  object \n",
            " 7   latitude        55963 non-null  float64\n",
            " 8   longitude       55963 non-null  float64\n",
            " 9   stars           55963 non-null  float64\n",
            " 10  review_count    55963 non-null  int64  \n",
            " 11  is_open         55963 non-null  int64  \n",
            " 12  attributes      48188 non-null  object \n",
            " 13  categories      55963 non-null  object \n",
            " 14  hours           45045 non-null  object \n",
            " 15  url             55963 non-null  object \n",
            " 16  webpage_text    50380 non-null  object \n",
            " 17  1.0             55963 non-null  int64  \n",
            " 18  1.5             55963 non-null  int64  \n",
            " 19  2.0             55963 non-null  int64  \n",
            " 20  2.5             55963 non-null  int64  \n",
            " 21  3.0             55963 non-null  int64  \n",
            " 22  3.5             55963 non-null  int64  \n",
            " 23  4.0             55963 non-null  int64  \n",
            " 24  4.5             55963 non-null  int64  \n",
            " 25  5.0             55963 non-null  int64  \n",
            " 26  is_eng          55963 non-null  bool   \n",
            " 27  webpage_corpus  32531 non-null  object \n",
            "dtypes: bool(1), float64(3), int64(12), object(12)\n",
            "memory usage: 12.0+ MB\n"
          ],
          "name": "stdout"
        }
      ]
    },
    {
      "cell_type": "code",
      "metadata": {
        "id": "-iJF5Z8m3gAU",
        "colab_type": "code",
        "colab": {}
      },
      "source": [
        "df['categories'] = df['categories'].apply(lambda x: re.split('[,;&]', x))"
      ],
      "execution_count": 6,
      "outputs": []
    },
    {
      "cell_type": "code",
      "metadata": {
        "scrolled": true,
        "id": "oUQ-FWMJ3gAZ",
        "colab_type": "code",
        "colab": {
          "base_uri": "https://localhost:8080/",
          "height": 335
        },
        "outputId": "1862d5e7-d82f-4784-e182-64ff4a418bf5"
      },
      "source": [
        "Categories={}\n",
        "\n",
        "for x in df.categories:\n",
        "    for cls in x:\n",
        "        cls = cls.strip()\n",
        "        if len(cls) < 2: continue\n",
        "        if cls not in Categories: Categories[cls]=1\n",
        "        else: Categories[cls]+=1\n",
        "\n",
        "All_categories=list(Categories.keys())\n",
        "classes=[[x,Categories[x]] for x in All_categories]\n",
        "classes=sorted(classes, key=lambda x: x[1], reverse=True)\n",
        "all_classes = classes\n",
        "classes=classes[:10]\n",
        "plt.bar(range(len(classes)),[x[1] for x in classes] ,align='center', color='rgybk')\n",
        "plt.xticks(range(len(classes)), [x[0] for x in classes], rotation=30);"
      ],
      "execution_count": 7,
      "outputs": [
        {
          "output_type": "stream",
          "text": [
            "/opt/conda/lib/python3.7/site-packages/ipykernel_launcher.py:15: MatplotlibDeprecationWarning: Using a string of single character colors as a color sequence is deprecated. Use an explicit list instead.\n",
            "  from ipykernel import kernelapp as app\n"
          ],
          "name": "stderr"
        },
        {
          "output_type": "display_data",
          "data": {
            "text/plain": [
              "<Figure size 432x288 with 1 Axes>"
            ],
            "image/png": "[encoded data removed]"
          },
          "metadata": {
            "tags": [],
            "image/png": {
              "width": 388,
              "height": 284
            },
            "needs_background": "light"
          }
        }
      ]
    },
    {
      "cell_type": "code",
      "metadata": {
        "id": "62nEyCTf3gAe",
        "colab_type": "code",
        "colab": {}
      },
      "source": [
        "all_classes=sorted(all_classes, key=lambda x: x[1], reverse=True)"
      ],
      "execution_count": 8,
      "outputs": []
    },
    {
      "cell_type": "code",
      "metadata": {
        "id": "YfMkgb6-3gAi",
        "colab_type": "code",
        "colab": {}
      },
      "source": [
        "map_classes = {\n",
        "                'Restaurants': 'Food', 'Food': 'Food', 'Frozen Yogurt': 'Food', 'Pizza': 'Food', 'Bars': 'Food', 'Coffee': 'Food',\n",
        "                'Cafes': 'Food', 'Fast Food': 'Food', 'Bakeries': 'Food', 'Tea' : 'Food', 'Breakfast': 'Food',\n",
        "                'Wine': 'Food', 'Sandwiches': 'Food', 'Burgers': 'Food', 'Brunch': 'Food', 'Breakfast': 'Food', 'Desserts': 'Food',\n",
        "                'Vegetarian': 'Food', 'Vegan': 'Food', \n",
        "\n",
        "                'Health': 'Health', 'Dentists': 'Health', 'Doctors': 'Health', 'Medical Centers': 'Health', 'Drugstores': 'Health',\n",
        "                'Local Services': 'Health', \n",
        "\n",
        "                'Local Services': 'Local Services', 'Car Dealers': 'Local Services', 'Professional Services': 'Local Services', \n",
        "                'Home Services': 'Local Services','Garden': 'Local Services', 'Real Estate': 'Local Services',\n",
        "                'Auto Repair': 'Local Services', 'Pet Services': 'Local Services', 'Home Cleaning': 'Local Services', \n",
        "                'Public Services': 'Local Services', 'Home Decor': 'Local Services', \n",
        "                'Automotive': 'Local Services', 'Pets': 'Local Services',\n",
        "    \n",
        "                'Hair Salons': 'Salons', 'Nail Salons': 'Salons', 'Beauty': 'Salons', 'Hair Salons': 'Salons', 'Makeup Artists': 'Salons',\n",
        "                'Hair Removal': 'Salons', 'Massage': 'Salons', 'Barbers': 'Salons', 'Beauty Supply': 'Salons',\n",
        "                \n",
        "                'Entertainment': 'Entertainment', 'Event Planning': 'Entertainment', 'Golf': 'Entertainment',\n",
        "                'Active Life': 'Entertainment', 'Nightlife': 'Entertainment',\n",
        "\n",
        "                'Hotels': 'Travel', 'Travel': 'Travel',\n",
        "    \n",
        "                'Jewelry': 'Shopping', 'Shopping': 'Shopping', 'Hobby Shops': 'Shopping', \n",
        "\n",
        "                'Fitness': 'Fitness', 'Sporting Goods': 'Fitness', 'Gyms': 'Fitness', 'Sports Bars': 'Fitness', \n",
        "    \n",
        "                'Churches': 'Religious','Religious Organizations': 'Religious',\n",
        "    \n",
        "                'Education': 'Education',\n",
        "    \n",
        "                'Banks': 'Financial Services', 'Financial Services': 'Financial Services',\n",
        "    \n",
        "                'Mass Media': 'Media'\n",
        "        }"
      ],
      "execution_count": 9,
      "outputs": []
    },
    {
      "cell_type": "code",
      "metadata": {
        "id": "XF1XRoSq3gAm",
        "colab_type": "code",
        "colab": {}
      },
      "source": [
        "map_classes = {\n",
        "                'Restaurants': 'Food', 'Food': 'Food', 'Frozen Yogurt': 'Food', 'Pizza': 'Food', 'Bars': 'Food', 'Coffee': 'Food',\n",
        "                'Cafes': 'Food', 'Fast Food': 'Food', 'Bakeries': 'Food', 'Tea' : 'Food', 'Breakfast': 'Food',\n",
        "                'Wine': 'Food', 'Sandwiches': 'Food', 'Burgers': 'Food', 'Brunch': 'Food', 'Breakfast': 'Food', 'Desserts': 'Food',\n",
        "                'Vegetarian': 'Food', 'Vegan': 'Food', \n",
        "\n",
        "                'Health': 'Health', 'Dentists': 'Health', 'Doctors': 'Health', 'Medical Centers': 'Health', 'Drugstores': 'Health',\n",
        "                'Local Services': 'Health', \n",
        "\n",
        "                'Local Services': 'Local Services', 'Car Dealers': 'Local Services', 'Professional Services': 'Local Services', \n",
        "                'Home Services': 'Local Services','Garden': 'Local Services', 'Real Estate': 'Local Services',\n",
        "                'Auto Repair': 'Local Services', 'Pet Services': 'Local Services', 'Home Cleaning': 'Local Services', \n",
        "                'Public Services': 'Local Services', 'Home Decor': 'Local Services', \n",
        "                'Automotive': 'Local Services', 'Pets': 'Local Services',\n",
        "    \n",
        "                'Hair Salons': 'Local Services', 'Nail Salons': 'Local Services', 'Beauty': 'Local Services', 'Hair Salons': 'Local Services', 'Makeup Artists': 'Local Services',\n",
        "                'Hair Removal': 'Local Services', 'Massage': 'Local Services', 'Barbers': 'Local Services', 'Beauty Supply': 'Local Services',\n",
        "                \n",
        "                'Entertainment': 'Entertainment', 'Event Planning': 'Entertainment', 'Golf': 'Entertainment',\n",
        "                'Active Life': 'Entertainment', 'Nightlife': 'Entertainment',\n",
        "\n",
        "                'Hotels': 'Entertainment', 'Travel': 'Entertainment',\n",
        "    \n",
        "                'Jewelry': 'Entertainment', 'Shopping': 'Entertainment', 'Hobby Shops': 'Entertainment', \n",
        "\n",
        "                'Fitness': 'Entertainment', 'Sporting Goods': 'Entertainment', 'Gyms': 'Entertainment', 'Sports Bars': 'Entertainment', \n",
        "            \n",
        "                'Banks': 'Financial Services', 'Financial Services': 'Financial Services',\n",
        "    \n",
        "                'Mass Media': 'Entertainment'\n",
        "        }"
      ],
      "execution_count": 10,
      "outputs": []
    },
    {
      "cell_type": "code",
      "metadata": {
        "scrolled": false,
        "id": "XHa3lBd-3gAq",
        "colab_type": "code",
        "colab": {
          "base_uri": "https://localhost:8080/",
          "height": 1000
        },
        "outputId": "324ac851-a282-455d-90da-0377aa19aa19"
      },
      "source": [
        "cat = {}\n",
        "bad = []\n",
        "for x in df.categories:\n",
        "    flg = False\n",
        "    for cls in x:\n",
        "        cls = cls.strip()\n",
        "        if not cls in map_classes: continue\n",
        "        flg = True\n",
        "        mapped_cls = map_classes[cls]\n",
        "        if mapped_cls not in cat: cat[mapped_cls]=1\n",
        "        else: cat[mapped_cls]+=1\n",
        "    if flg is False:\n",
        "        bad.append(x)\n",
        "        \n",
        "print(len(bad))\n",
        "bad[:100]"
      ],
      "execution_count": 11,
      "outputs": [
        {
          "output_type": "stream",
          "text": [
            "450\n"
          ],
          "name": "stdout"
        },
        {
          "output_type": "execute_result",
          "data": {
            "text/plain": [
              "[['Churches', ' Religious Organizations'],\n",
              " ['Churches', ' Religious Organizations'],\n",
              " ['Driving Schools', ' Specialty Schools', ' Education'],\n",
              " ['Education', ' Preschools'],\n",
              " ['Preschools', ' Education'],\n",
              " ['Churches', ' Religious Organizations'],\n",
              " ['Preschools',\n",
              "  ' Elementary Schools',\n",
              "  ' Education',\n",
              "  ' Middle Schools ',\n",
              "  ' High Schools',\n",
              "  ' Educational Services'],\n",
              " ['Education', ' Test Preparation'],\n",
              " ['Churches', ' Religious Organizations'],\n",
              " ['Religious Organizations'],\n",
              " ['Education',\n",
              "  ' Colleges ',\n",
              "  ' Universities',\n",
              "  ' Specialty Schools',\n",
              "  ' Adult Education',\n",
              "  ' Vocational ',\n",
              "  ' Technical School'],\n",
              " ['Preschools', ' Elementary Schools', ' Education'],\n",
              " ['Elementary Schools', ' Education'],\n",
              " ['Specialty Schools', ' Cosmetology Schools', ' Education'],\n",
              " ['Education', ' Middle Schools ', ' High Schools', ' Elementary Schools'],\n",
              " ['Education', ' Colleges ', ' Universities'],\n",
              " ['Religious Organizations', ' Churches'],\n",
              " ['Churches', ' Religious Organizations'],\n",
              " ['Religious Organizations', ' Churches'],\n",
              " ['Churches', ' Religious Organizations'],\n",
              " ['Art Schools', ' Education', ' Specialty Schools'],\n",
              " ['Religious Organizations', ' Churches'],\n",
              " ['Religious Organizations', ' Churches'],\n",
              " ['Education', ' Bartending Schools', ' Specialty Schools'],\n",
              " ['Montessori Schools',\n",
              "  ' Middle Schools ',\n",
              "  ' High Schools',\n",
              "  ' Education',\n",
              "  ' Elementary Schools',\n",
              "  ' Preschools'],\n",
              " ['Education', ' Special Education', ' Tutoring Centers'],\n",
              " ['Elementary Schools', ' Education'],\n",
              " ['Churches', ' Religious Organizations'],\n",
              " ['Religious Organizations', ' Churches'],\n",
              " ['Education', ' Driving Schools', ' Specialty Schools'],\n",
              " ['Specialty Schools', ' Education', ' Vocational ', ' Technical School'],\n",
              " ['Churches', ' Religious Organizations'],\n",
              " ['Churches', ' Religious Organizations'],\n",
              " ['Education', ' Tutoring Centers'],\n",
              " ['Education', ' Preschools'],\n",
              " ['Preschools',\n",
              "  ' Education',\n",
              "  ' Middle Schools ',\n",
              "  ' High Schools',\n",
              "  ' Elementary Schools'],\n",
              " ['Education', ' Driving Schools', ' Specialty Schools'],\n",
              " ['Religious Organizations', ' Churches'],\n",
              " ['Preschools', ' Education'],\n",
              " ['Tutoring Centers', ' Education', ' Educational Services'],\n",
              " ['Religious Organizations', ' Churches'],\n",
              " ['Churches', ' Religious Organizations'],\n",
              " ['Specialty Schools', ' Driving Schools', ' Education'],\n",
              " ['Tutoring Centers',\n",
              "  ' Adult Education',\n",
              "  ' Test Preparation',\n",
              "  ' Education',\n",
              "  ' Specialty Schools',\n",
              "  ' Vocational ',\n",
              "  ' Technical School'],\n",
              " ['Specialty Schools', ' Education', ' CPR Classes', ' First Aid Classes'],\n",
              " ['Religious Organizations', ' Churches'],\n",
              " ['Specialty Schools',\n",
              "  ' Vocational ',\n",
              "  ' Technical School',\n",
              "  ' Adult Education',\n",
              "  ' Colleges ',\n",
              "  ' Universities',\n",
              "  ' Education'],\n",
              " ['Dance Schools', ' Specialty Schools', ' Education'],\n",
              " ['Local Flavor'],\n",
              " ['Local Flavor'],\n",
              " ['Private Tutors', ' Education'],\n",
              " ['Education', ' Preschools', ' Montessori Schools'],\n",
              " ['Religious Organizations', ' Buddhist Temples'],\n",
              " ['CPR Classes',\n",
              "  ' Specialty Schools',\n",
              "  ' First Aid Classes',\n",
              "  ' Education',\n",
              "  ' Adult Education'],\n",
              " ['College Counseling', ' Education', ' Colleges ', ' Universities'],\n",
              " ['Education', ' Preschools'],\n",
              " ['Education', ' Preschools'],\n",
              " ['Education', ' Middle Schools ', ' High Schools'],\n",
              " ['Education', ' Middle Schools ', ' High Schools', ' Elementary Schools'],\n",
              " ['Elementary Schools', ' Middle Schools ', ' High Schools', ' Education'],\n",
              " ['Middle Schools ', ' High Schools', ' Education'],\n",
              " ['Education', ' Colleges ', ' Universities'],\n",
              " ['Education', ' Specialty Schools', ' Driving Schools'],\n",
              " ['Colleges ', ' Universities', ' Education'],\n",
              " ['Churches', ' Religious Organizations'],\n",
              " ['Private Tutors', ' Driving Schools', ' Education', ' Specialty Schools'],\n",
              " ['Education', ' Specialty Schools', ' Bartending Schools'],\n",
              " ['Churches',\n",
              "  ' Preschools',\n",
              "  ' Education',\n",
              "  ' Religious Organizations',\n",
              "  ' Elementary Schools',\n",
              "  ' Middle Schools ',\n",
              "  ' High Schools'],\n",
              " ['Religious Organizations', ' Churches'],\n",
              " ['Religious Organizations', ' Churches'],\n",
              " ['Preschools', ' Education'],\n",
              " ['Test Preparation',\n",
              "  ' Tutoring Centers',\n",
              "  ' Education',\n",
              "  ' Educational Services'],\n",
              " ['Education', ' Preschools'],\n",
              " ['Colleges ', ' Universities', ' Education', ' Adult Education'],\n",
              " ['Religious Organizations',\n",
              "  ' Education',\n",
              "  ' Churches',\n",
              "  ' Educational Services',\n",
              "  ' Synagogues'],\n",
              " ['Religious Organizations', ' Churches'],\n",
              " ['Montessori Schools',\n",
              "  ' Education',\n",
              "  ' Preschools',\n",
              "  ' Elementary Schools',\n",
              "  ' Middle Schools ',\n",
              "  ' High Schools'],\n",
              " ['Churches', ' Religious Organizations'],\n",
              " ['Middle Schools ',\n",
              "  ' High Schools',\n",
              "  ' Education',\n",
              "  ' Elementary Schools',\n",
              "  ' Montessori Schools'],\n",
              " ['Religious Organizations', ' Churches'],\n",
              " ['Churches', ' Religious Organizations'],\n",
              " ['Religious Organizations', ' Churches'],\n",
              " ['Religious Organizations', ' Churches'],\n",
              " ['Middle Schools ', ' High Schools', ' Elementary Schools', ' Education'],\n",
              " ['Colleges ',\n",
              "  ' Universities',\n",
              "  ' Education',\n",
              "  ' Vocational ',\n",
              "  ' Technical School',\n",
              "  ' Specialty Schools'],\n",
              " ['Specialty Schools', ' Driving Schools', ' Tutoring Centers', ' Education'],\n",
              " ['Religious Organizations', ' Churches'],\n",
              " ['Education', ' Flight Instruction', ' Specialty Schools'],\n",
              " ['Driving Schools',\n",
              "  ' Specialty Schools',\n",
              "  ' Education',\n",
              "  ' Educational Services'],\n",
              " ['Churches', ' Religious Organizations'],\n",
              " ['Religious Organizations', ' Churches'],\n",
              " ['Preschools',\n",
              "  ' Elementary Schools',\n",
              "  ' Middle Schools ',\n",
              "  ' High Schools',\n",
              "  ' Education'],\n",
              " ['Education',\n",
              "  ' Colleges ',\n",
              "  ' Universities',\n",
              "  ' Middle Schools ',\n",
              "  ' High Schools'],\n",
              " ['Education', ' Tutoring Centers', ' Test Preparation'],\n",
              " ['Religious Organizations', ' Churches'],\n",
              " ['Buddhist Temples',\n",
              "  ' Education',\n",
              "  ' Religious Organizations',\n",
              "  ' Specialty Schools'],\n",
              " ['Middle Schools ', ' High Schools', ' Elementary Schools', ' Education'],\n",
              " ['Art Schools', ' Education', ' Educational Services', ' Specialty Schools'],\n",
              " ['Churches', ' Religious Organizations'],\n",
              " ['Preschools', ' Specialty Schools', ' Education']]"
            ]
          },
          "metadata": {
            "tags": []
          },
          "execution_count": 11
        }
      ]
    },
    {
      "cell_type": "code",
      "metadata": {
        "id": "vyjjWVx23gAv",
        "colab_type": "code",
        "colab": {
          "base_uri": "https://localhost:8080/",
          "height": 34
        },
        "outputId": "76074333-0f66-4a58-8c4a-9ed1f2f2ba6f"
      },
      "source": [
        "classes_set = set(map_classes.values())\n",
        "classes_set"
      ],
      "execution_count": 12,
      "outputs": [
        {
          "output_type": "execute_result",
          "data": {
            "text/plain": [
              "{'Entertainment', 'Financial Services', 'Food', 'Health', 'Local Services'}"
            ]
          },
          "metadata": {
            "tags": []
          },
          "execution_count": 12
        }
      ]
    },
    {
      "cell_type": "code",
      "metadata": {
        "id": "1IiDFnyG3gAz",
        "colab_type": "code",
        "colab": {}
      },
      "source": [
        "test = []\n",
        "val = 0\n",
        "for arr in df['categories']:\n",
        "    test.append(None)\n",
        "    for x in arr:\n",
        "        cls = x.strip()\n",
        "        if not cls in map_classes:\n",
        "            continue\n",
        "        val += 1\n",
        "        test[-1] = map_classes[cls]\n",
        "        break"
      ],
      "execution_count": 13,
      "outputs": []
    },
    {
      "cell_type": "code",
      "metadata": {
        "id": "UtqMrfrP3gA3",
        "colab_type": "code",
        "colab": {}
      },
      "source": [
        "df['categories'] = test\n",
        "df = df[df['categories'].notnull()]"
      ],
      "execution_count": 14,
      "outputs": []
    },
    {
      "cell_type": "code",
      "metadata": {
        "scrolled": true,
        "id": "F4IiiLo23gA7",
        "colab_type": "code",
        "colab": {
          "base_uri": "https://localhost:8080/",
          "height": 374
        },
        "outputId": "4589f5cc-7ebf-4691-f99e-decd3492a734"
      },
      "source": [
        "chart = sns.countplot(df['categories'], palette='hls')\n",
        "plt.title('Number of business per Category')\n",
        "chart.set_xticklabels(chart.get_xticklabels(), horizontalalignment='center', rotation=90);"
      ],
      "execution_count": 15,
      "outputs": [
        {
          "output_type": "display_data",
          "data": {
            "text/plain": [
              "<Figure size 432x288 with 1 Axes>"
            ],
            "image/png": "[encoded data removed]"
          },
          "metadata": {
            "tags": [],
            "image/png": {
              "width": 401,
              "height": 357
            },
            "needs_background": "light"
          }
        }
      ]
    },
    {
      "cell_type": "code",
      "metadata": {
        "id": "tvYiYLRA3gA_",
        "colab_type": "code",
        "colab": {
          "base_uri": "https://localhost:8080/",
          "height": 612
        },
        "outputId": "415c8948-85e8-4425-a4aa-43c37eebc1b9"
      },
      "source": [
        "df.info()"
      ],
      "execution_count": 16,
      "outputs": [
        {
          "output_type": "stream",
          "text": [
            "<class 'pandas.core.frame.DataFrame'>\n",
            "Int64Index: 55513 entries, 0 to 56064\n",
            "Data columns (total 28 columns):\n",
            " #   Column          Non-Null Count  Dtype  \n",
            "---  ------          --------------  -----  \n",
            " 0   Unnamed: 0      55513 non-null  int64  \n",
            " 1   business_id     55513 non-null  object \n",
            " 2   name            55513 non-null  object \n",
            " 3   address         53149 non-null  object \n",
            " 4   city            55513 non-null  object \n",
            " 5   state           55513 non-null  object \n",
            " 6   postal_code     55405 non-null  object \n",
            " 7   latitude        55513 non-null  float64\n",
            " 8   longitude       55513 non-null  float64\n",
            " 9   stars           55513 non-null  float64\n",
            " 10  review_count    55513 non-null  int64  \n",
            " 11  is_open         55513 non-null  int64  \n",
            " 12  attributes      48106 non-null  object \n",
            " 13  categories      55513 non-null  object \n",
            " 14  hours           44794 non-null  object \n",
            " 15  url             55513 non-null  object \n",
            " 16  webpage_text    49966 non-null  object \n",
            " 17  1.0             55513 non-null  int64  \n",
            " 18  1.5             55513 non-null  int64  \n",
            " 19  2.0             55513 non-null  int64  \n",
            " 20  2.5             55513 non-null  int64  \n",
            " 21  3.0             55513 non-null  int64  \n",
            " 22  3.5             55513 non-null  int64  \n",
            " 23  4.0             55513 non-null  int64  \n",
            " 24  4.5             55513 non-null  int64  \n",
            " 25  5.0             55513 non-null  int64  \n",
            " 26  is_eng          55513 non-null  bool   \n",
            " 27  webpage_corpus  32245 non-null  object \n",
            "dtypes: bool(1), float64(3), int64(12), object(12)\n",
            "memory usage: 14.4+ MB\n"
          ],
          "name": "stdout"
        }
      ]
    },
    {
      "cell_type": "code",
      "metadata": {
        "id": "eO9NSXvX3gBD",
        "colab_type": "code",
        "colab": {
          "base_uri": "https://localhost:8080/",
          "height": 68
        },
        "outputId": "538f2798-f690-46cd-9d7c-3fed74577118"
      },
      "source": [
        "folder_path = os.path.join('/home/vahidsanei_google_com/data', 'uncased_L-12_H-768_A-12')\n",
        "\n",
        "print (folder_path)\n",
        "tokenizer = FullTokenizer(vocab_file=os.path.join(folder_path, 'vocab.txt'))\n",
        "\n",
        "bert_ckpt_file = os.path.join(folder_path, 'bert_model.ckpt')\n",
        "bert_config_file = os.path.join(folder_path, 'bert_config.json')\n",
        "\n",
        "tokens_test = tokenizer.tokenize('This is an open-source project for category detection of businesses based on their website contents!')\n",
        "print(tokens_test)\n",
        "print(tokenizer.convert_tokens_to_ids(tokens_test))"
      ],
      "execution_count": 17,
      "outputs": [
        {
          "output_type": "stream",
          "text": [
            "/home/vahidsanei_google_com/data/uncased_L-12_H-768_A-12\n",
            "['this', 'is', 'an', 'open', '-', 'source', 'project', 'for', 'category', 'detection', 'of', 'businesses', 'based', 'on', 'their', 'website', 'contents', '!']\n",
            "[2023, 2003, 2019, 2330, 1011, 3120, 2622, 2005, 4696, 10788, 1997, 5661, 2241, 2006, 2037, 4037, 8417, 999]\n"
          ],
          "name": "stdout"
        }
      ]
    },
    {
      "cell_type": "code",
      "metadata": {
        "id": "JXXZLnLC3gBH",
        "colab_type": "code",
        "colab": {}
      },
      "source": [
        "class categoryDetection:    \n",
        "    def __init__(self, train, test, tokenizer: FullTokenizer, text_colname=None, label_colname=None, max_seq_len=128):\n",
        "        \"\"\"  \n",
        "        \"\"\"\n",
        "        self.text_colname = 'webpage_corpus' if text_colname is None else text_colname\n",
        "        if not self.text_colname in train.columns or not self.text_colname in test.columns:\n",
        "            print('Error: Please specify a proper column name in the input dataframe as the corpus.')\n",
        "            return\n",
        "        \n",
        "        self.label_colname = 'categories' if label_colname is None else label_colname\n",
        "        if not self.label_colname in train.columns or not self.label_colname in test.columns:\n",
        "            print('Error: Please specify a proper column name in the input dataframe as the labels.')\n",
        "            return\n",
        "        \n",
        "        self.classes = train[self.label_colname].unique().tolist()\n",
        "        self.classes.sort()\n",
        "        \n",
        "        train = train.dropna(subset=[self.text_colname])\n",
        "        test = test.dropna(subset=[self.text_colname])\n",
        "        \n",
        "        self.max_seq_len = 512\n",
        "        self.tokenizer = tokenizer\n",
        "        (self.train_x, self.train_y), (self.test_x, self.test_y) = map(self._tokanize, [train, test])\n",
        "        self.max_seq_len = min(self.max_seq_len, max_seq_len)\n",
        "        self.train_x, self.test_x = map(self._cut_with_padding, [self.train_x, self.test_x])\n",
        "    \n",
        "    def build_model(self, bert_config_file, bert_ckpt_file, dropout=0.6):\n",
        "        \"\"\"\n",
        "        \"\"\"\n",
        "        bert = self._load_bert(bert_config_file, bert_ckpt_file)\n",
        "        input_ = keras.layers.Input(shape=(self.max_seq_len, ), dtype='int64', name=\"input_ids\")\n",
        "        x = bert(input_)\n",
        "        #get the first embedding from the output of BERT\n",
        "        x = keras.layers.Lambda(lambda seq: seq[:,0,:])(x)\n",
        "        \n",
        "        x = keras.layers.Dropout(dropout)(x)\n",
        "        #x = keras.layers.Dense(300, activation='relu')(x)\n",
        "        #x = keras.layers.Dense(300, activation='relu')(x)\n",
        "        output_ = keras.layers.Dense(units=len(self.classes), activation='relu')(x)\n",
        "        \n",
        "        model = keras.Model(inputs=input_, outputs=output_)\n",
        "        model.build(input_shape=(None, self.max_seq_len))\n",
        "        \n",
        "        load_stock_weights(bert, bert_ckpt_file)\n",
        "        \n",
        "        return model\n",
        "    \n",
        "    def _load_bert(self, bert_config_file, bert_ckpt_file):\n",
        "        try:\n",
        "            with tf.io.gfile.GFile(bert_config_file, 'r') as gf:\n",
        "                bert_config = StockBertConfig.from_json_string(gf.read())\n",
        "                bert_params = map_stock_config_to_params(bert_config)\n",
        "                bert_params.adapter_size = None\n",
        "                bert = BertModelLayer.from_params(bert_params, name='bert')\n",
        "                return bert\n",
        "        except Exception as e:\n",
        "            print(e)\n",
        "    \n",
        "    def _tokanize(self, df):\n",
        "        \"\"\"\n",
        "        \"\"\"\n",
        "        X, y = [], []\n",
        "        all_tokens = []\n",
        "        for _, entry in tqdm(df.iterrows()):\n",
        "            corpus, label = entry[self.text_colname], entry[self.label_colname]\n",
        "            tokens = self.tokenizer.tokenize(corpus)\n",
        "            tokens = self._clean_tokens(tokens)\n",
        "            tokens = ['[CLS]'] + tokens + ['[SEP]']\n",
        "            L = 0\n",
        "            for x in tokens:\n",
        "                if '#' in x: continue\n",
        "                L += 1\n",
        "            L -= 2\n",
        "            if L <= 50:\n",
        "            #    print(tokens)\n",
        "                continue\n",
        "            all_tokens.append(tokens)\n",
        "            ids = self.tokenizer.convert_tokens_to_ids(tokens)\n",
        "            self.max_seq_len = max(self.max_seq_len, len(ids))\n",
        "            X.append(ids)\n",
        "            y.append(self.classes.index(label))\n",
        "            \n",
        "        print('{}%'.format(len(X) / len(df) * 100.0))\n",
        "        all_tokens = sorted(all_tokens, key=lambda x: len(x))\n",
        "        print(all_tokens[:20])\n",
        "        \n",
        "        return np.asarray(X), np.asarray(y)\n",
        "    \n",
        "    \n",
        "    def _clean_tokens(self, tokens):\n",
        "        # STOPS = set(stopwords.words('english'))\n",
        "        clean_tokens = []\n",
        "        for token in tokens:\n",
        "            if any(map(str.isdigit, token)): \n",
        "                continue\n",
        "            clean_tokens.append(token)\n",
        "        return clean_tokens\n",
        "    def _cut_with_padding(self, ids):\n",
        "        \"\"\"\n",
        "        \"\"\"\n",
        "        X = []\n",
        "        CLS_id = self.tokenizer.convert_tokens_to_ids(['[CLS]'])\n",
        "        SEP_id = self.tokenizer.convert_tokens_to_ids(['[SEP]'])\n",
        "        for token_id in ids:\n",
        "            # ignore tokens '[CLS]' and '[SEP]' for now\n",
        "            arr = token_id[1:-1]\n",
        "            sz = min(len(arr), self.max_seq_len - 2)\n",
        "            arr = CLS_id + arr[:sz] + SEP_id\n",
        "            # pad the remaining cells with zero\n",
        "            arr = arr + [0] * (self.max_seq_len - len(arr))\n",
        "            X.append(np.asarray(arr))\n",
        "        return np.asarray(X)"
      ],
      "execution_count": 29,
      "outputs": []
    },
    {
      "cell_type": "code",
      "metadata": {
        "id": "m-vbMu8Q3gBN",
        "colab_type": "code",
        "colab": {}
      },
      "source": [
        "def compile_model(cat:categoryDetection, model, validation_split=0.05, batch_size=16, n_epochs=50, shuffle=True):\n",
        "    log_dir = \"/home/wliang_google_com/Documents/workspace/notebook/.log/website_rating/\" + datetime.datetime.now().strftime(\"%Y%m%d-%H%M%s\")\n",
        "    tensorboard_callback = keras.callbacks.TensorBoard(log_dir=log_dir)\n",
        "    \n",
        "\n",
        "    model.compile(optimizer=keras.optimizers.Adam(1e-5),\n",
        "              loss=keras.losses.SparseCategoricalCrossentropy(from_logits=True),\n",
        "              metrics=[keras.metrics.SparseCategoricalAccuracy(name='acc')])\n",
        "    print(model.summary())\n",
        "    # early_stopping = tf.keras.callbacks.EarlyStopping(monitor='loss', patience=5)\n",
        "    history = model.fit(\n",
        "        x=cat.train_x,\n",
        "        y=cat.train_y,\n",
        "        validation_split=validation_split,\n",
        "        batch_size=batch_size,\n",
        "        shuffle=shuffle,\n",
        "        verbose=1,\n",
        "        epochs=n_epochs,\n",
        "        callbacks=[tensorboard_callback],\n",
        "    )"
      ],
      "execution_count": 42,
      "outputs": []
    },
    {
      "cell_type": "code",
      "metadata": {
        "id": "I_KI1aqt3gBS",
        "colab_type": "code",
        "colab": {}
      },
      "source": [
        "split_sz = int(len(df) * 0.8)\n",
        "train = df[:split_sz]\n",
        "test = df[split_sz:]"
      ],
      "execution_count": 37,
      "outputs": []
    },
    {
      "cell_type": "code",
      "metadata": {
        "id": "jd9IT57A3gBW",
        "colab_type": "code",
        "colab": {
          "base_uri": "https://localhost:8080/",
          "height": 139
        },
        "outputId": "0c27573f-e130-40e2-e270-773f191e2638"
      },
      "source": [
        "cat = categoryDetection(train, test, tokenizer, max_seq_len=256)"
      ],
      "execution_count": 38,
      "outputs": [
        {
          "output_type": "stream",
          "text": [
            "25809it [06:05, 70.57it/s] \n"
          ],
          "name": "stderr"
        },
        {
          "output_type": "stream",
          "text": [
            "81.20810569956217%\n",
            "[['[CLS]', 'newman', 'arms', 'vegas', 'home', 'about', 'newman', 'contact', 'products', 'used', 'guns', 'specials', 'coating', '##s', 'modifications', 'events', 'home', 'about', 'newman', 'contact', 'products', 'used', 'guns', 'specials', 'coating', '##s', 'modifications', 'events', 'home', 'click', 'here', 'click', 'here', 'click', 'here', 'click', 'here', 'click', 'here', 'location', 'north', 'boulder', 'highway', 'suite', 'a', 'henderson', 'nevada', 'follow', 'contact', 'us', 'powered', 'by', 'red', 'wing', 'solutions', '[SEP]'], ['[CLS]', 'page', 'not', 'found', 'page', 'not', 'found', 'sorry', 'for', 'the', 'inc', '##on', '##ven', '##ience', 'the', 'page', 'you', 'are', 'trying', 'to', 'view', 'is', 'not', 'at', 'this', 'link', 'the', 'page', 'location', 'may', 'have', 'changed', 'or', 'the', 'ur', '##l', 'may', 'be', 'entered', 'incorrectly', 'here', 'are', 'some', 'alternatives', 'to', 'locate', 'the', 'information', 'you', 'seek', 'home', 'page', 'contact', 'us', 'site', 'map', '[SEP]'], ['[CLS]', 'sunrise', 'coffee', 'main', 'mail', '##ing', 'list', 'drink', 'menu', 'food', 'menu', 'about', 'contact', 'online', 'ordering', 'menu', 'e', 'sunset', 'rd', 'ste', 'a', 'las', 'vegas', 'n', '##v', 'your', 'neighborhood', 'coffee', 'shop', 'your', 'custom', 'text', 'here', 'main', 'mail', '##ing', 'list', 'drink', 'menu', 'food', 'menu', 'about', 'contact', 'online', 'ordering', 'you', 'must', 'select', 'a', 'collection', 'to', 'display', 'powered', 'by', 'squares', '##pace', '[SEP]'], ['[CLS]', 'hard', 'rock', 'hotel', 'casino', 'in', 'las', 'vegas', 'is', 'closed', 'get', 'on', 'the', 'list', 'click', 'here', 'to', 'get', 'exciting', 'updates', 'on', 'our', 'transformation', 'guest', 'relations', 'call', 'or', 'email', 'email', 'protected', 'billing', 'questions', 'call', 'or', 'email', 'email', 'protected', 'for', 'events', 'meetings', 'conventions', 'click', 'here', 'for', 'all', 'other', 'group', 'inquiries', 'click', 'here', 'contact', 'us', 'monday', 'friday', '##am', '##pm', 'call', '[SEP]'], ['[CLS]', 'hard', 'rock', 'hotel', 'casino', 'in', 'las', 'vegas', 'is', 'closed', 'get', 'on', 'the', 'list', 'click', 'here', 'to', 'get', 'exciting', 'updates', 'on', 'our', 'transformation', 'guest', 'relations', 'call', 'or', 'email', 'email', 'protected', 'billing', 'questions', 'call', 'or', 'email', 'email', 'protected', 'for', 'events', 'meetings', 'conventions', 'click', 'here', 'for', 'all', 'other', 'group', 'inquiries', 'click', 'here', 'contact', 'us', 'monday', 'friday', '##am', '##pm', 'call', '[SEP]'], ['[CLS]', 'hard', 'rock', 'hotel', 'casino', 'in', 'las', 'vegas', 'is', 'closed', 'get', 'on', 'the', 'list', 'click', 'here', 'to', 'get', 'exciting', 'updates', 'on', 'our', 'transformation', 'guest', 'relations', 'call', 'or', 'email', 'email', 'protected', 'billing', 'questions', 'call', 'or', 'email', 'email', 'protected', 'for', 'events', 'meetings', 'conventions', 'click', 'here', 'for', 'all', 'other', 'group', 'inquiries', 'click', 'here', 'contact', 'us', 'monday', 'friday', '##am', '##pm', 'call', '[SEP]'], ['[CLS]', 'hard', 'rock', 'hotel', 'casino', 'in', 'las', 'vegas', 'is', 'closed', 'get', 'on', 'the', 'list', 'click', 'here', 'to', 'get', 'exciting', 'updates', 'on', 'our', 'transformation', 'guest', 'relations', 'call', 'or', 'email', 'email', 'protected', 'billing', 'questions', 'call', 'or', 'email', 'email', 'protected', 'for', 'events', 'meetings', 'conventions', 'click', 'here', 'for', 'all', 'other', 'group', 'inquiries', 'click', 'here', 'contact', 'us', 'monday', 'friday', '##am', '##pm', 'call', '[SEP]'], ['[CLS]', 'new', 'york', 'fries', 'accessible', 'customer', 'service', 'policy', 'privacy', 'policy', 'menu', 'our', 'food', 'loyalty', 'program', 'gift', 'cards', 'locations', 'international', 'locations', 'view', 'all', 'ny', '##f', 'locations', 'work', 'here', 'franchise', 'contact', 'contact', 'information', 'customer', 'service', 'work', 'here', 'franchise', 'information', 'promotions', 'facebook', 'twitter', 'ins', '##tagram', 'ny', '##f', 'location', 'mark', '##ville', 'shopping', 'centre', 'open', 'highway', 'at', 'mcc', '##owa', '##n', 'markham', 'ontario', 'canada', '[SEP]'], ['[CLS]', 'page', 'not', 'found', 'pa', '##vao', 'meat', '##s', 'del', '##i', 'home', 'about', 'blog', 'careers', 'contact', 'shop', 'online', 'select', 'page', 'no', 'results', 'found', 'the', 'page', 'you', 'requested', 'could', 'not', 'be', 'found', 'try', 'refining', 'your', 'search', 'or', 'use', 'the', 'navigation', 'above', 'to', 'locate', 'the', 'post', 'facebook', 'twitter', 'google', 'ins', '##tagram', 'rs', '##s', 'designed', 'by', 'elegant', 'themes', 'powered', 'by', 'word', '##press', '[SEP]'], ['[CLS]', 'foley', '##s', 'ac', 'serving', 'the', 'east', 'valley', 'heating', 'cooling', 'for', 'fast', 'service', 'call', 'us', 'to', '##ggle', 'navigation', 'home', 'services', 'reviews', 'contact', 'us', 'free', 'instant', 'quote', 'thank', 'you', 'for', 'your', 'interest', 'in', 'a', 'new', 'unit', 'your', 'name', 'required', 'your', 'email', 'required', 'size', 'of', 'unit', 'needed', 'required', 'subject', 'your', 'message', 'home', 'have', 'any', 'questions', 'call', 'now', 'foley', '##sa', '##cco', '##m', '[SEP]'], ['[CLS]', 'two', 'bucks', 'happy', 'hour', 'every', 'hour', 'detroit', 'road', 'avon', 'ohio', 'home', 'menu', 'locations', 'order', 'online', 'gallery', 'fundraising', 'jobs', 'contact', 'us', 'more', 'follow', 'us', 'all', 'dining', 'rooms', 'and', 'patio', '##s', 'are', 'open', 'with', 'social', 'di', '##stan', '##cing', 'rules', 'in', 'effect', 'thank', 'you', 'for', 'your', 'continued', 'support', 'curb', '##side', 'pickup', 'delivery', 'available', 'now', 'place', 'an', 'order', 'check', 'us', 'out', 'on', '[SEP]'], ['[CLS]', 'dance', 'and', 'fitness', 'studio', 'cornerstone', 'studio', 'east', 'toronto', 'dance', 'fitness', 'together', 'welcome', 'to', 'the', 'cornerstone', 'studio', 'a', 'boutique', 'east', 'end', 'community', 'hub', 'offering', 'dance', 'and', 'fitness', 'programs', 'to', 'the', 'families', 'of', 'the', 'ge', '##rrard', 'india', 'bazaar', 'since', 'im', 'interested', 'in', 'dance', 'im', 'interested', 'in', 'fitness', 'im', 'interested', 'in', 'dance', 'im', 'interested', 'in', 'fitness', 'facebook', 'twitter', 'ins', '##tagram', 'youtube', '[SEP]'], ['[CLS]', 'l', '##ve', '##eve', '##gas', 'copyright', 'all', 'rights', 'reserved', 'the', 'sponsored', 'listings', 'displayed', 'above', 'are', 'served', 'automatically', 'by', 'a', 'third', 'party', 'neither', 'the', 'service', 'provider', 'nor', 'the', 'domain', 'owner', 'maintain', 'any', 'relationship', 'with', 'the', 'ad', '##vert', '##iser', '##s', 'in', 'case', 'of', 'trademark', 'issues', 'please', 'contact', 'the', 'domain', 'owner', 'directly', 'contact', 'information', 'can', 'be', 'found', 'in', 'who', '##is', 'privacy', 'policy', '[SEP]'], ['[CLS]', 'dancing', 'leaf', 'spa', 'escape', 'cornelius', 'north', 'carolina', 'welcome', 'about', 'us', 'salon', 'services', 'skin', 'care', 'classic', 'facial', 'treatments', 'pu', '##ri', '##fying', 'age', 'def', '##ying', 'spa', 'extras', 'body', 'treatments', 'massage', 'therapy', 'general', 'spa', 'info', 'join', 'our', 'team', 'gift', 'certificates', 'contact', 'us', 'take', 'a', 'virtual', 'tour', 'click', 'here', 'for', 'an', 'online', 'tour', 'of', 'our', 'salon', 'dancing', 'leaf', 'spa', 'all', 'rights', 'reserved', '[SEP]'], ['[CLS]', 'the', 'barker', 'lounge', 'dogg', '##y', 'day', '##care', 'boarding', 'groom', '##ing', 'and', 'training', 'find', 'your', 'lounge', 'florida', 'fort', 'myers', 'jupiter', 'coming', 'soon', 'georgia', 'alpha', '##ret', '##ta', 'new', 'jersey', 'cr', '##an', '##ford', 'east', 'brunswick', 'livingston', 'coming', 'soon', 'south', 'morris', 'county', 'coming', 'soon', 'north', 'carolina', 'charlotte', 'east', 'charlotte', 'south', 'carolina', 'charleston', 'find', 'your', 'location', 'why', 'tb', '##l', 'sign', 'up', 'now', 'reserve', 'online', '[SEP]'], ['[CLS]', 'breakout', 'calgary', 'escape', 'game', 'close', 'form', 'no', 'wi', '##dget', 'add', 'the', 'wi', '##dgets', 'here', 'close', 'form', 'breakout', 'calgary', 'is', 'now', 'closed', 'breakout', 'calgary', 'is', 'officially', 'closed', 'please', 'visit', 'our', 'other', 'locations', 'in', 'edmonton', 'our', 'edmonton', 'locations', 'would', 'gladly', 'red', '##eem', 'any', 'gift', 'cards', 'purchased', 'at', 'our', 'calgary', 'location', 'view', 'edmonton', '##s', 'website', 'copyright', 'x', '##c', '##xa', 'by', 'breakout', 'entertainment', '[SEP]'], ['[CLS]', 'food', 'society', 'x', 'home', 'beauty', 'chronic', 'pain', 'weight', 'loss', 'contact', 'us', 'home', 'beauty', 'chronic', 'pain', 'weight', 'loss', 'contact', 'us', 'no', 'results', 'were', 'sorry', 'but', 'your', 'query', 'did', 'not', 'match', 'can', '##t', 'find', 'what', 'you', 'need', 'take', 'a', 'moment', 'and', 'do', 'a', 'search', 'below', 'or', 'start', 'from', 'our', 'home', '##page', 'search', 'for', 'recent', 'comments', 'copyright', 'x', '##c', '##xa', 'all', 'rights', 'reserved', '[SEP]'], ['[CLS]', 'store', 'lo', '##cat', '##or', 'staples', 'stores', '##sta', '##ples', '##ca', 'skip', 'to', 'content', 'quick', 'order', 'cart', 'menu', 'fran', '##ais', 'quick', 'order', 'sign', 'in', 'skip', 'to', 'main', 'no', 'results', 'found', 'search', 'for', 'a', 'location', 'find', 'a', 'store', 'search', 'for', 'a', 'store', 'privacy', 'policy', 'help', 'center', 'staples', 'canada', 'ul', '##c', 'all', 'rights', 'reserved', 'this', 'website', 'is', 'intended', 'only', 'for', 'use', 'by', 'canadian', 'residents', '[SEP]'], ['[CLS]', 'store', 'temporarily', 'closed', 'for', 'maintenance', 'due', 'to', 'the', 'national', 'corona', '##virus', 'emergency', 'and', 'shortage', 'of', 'am', '##mo', 'we', 'are', 'not', 'accepting', 'online', 'orders', 'at', 'this', 'time', 'feel', 'free', 'to', 'visit', 'our', 'store', 'in', 'person', 'good', '##year', 'arizona', 'for', 'your', 'firearms', 'and', 'am', '##mo', 'needs', 'our', 'store', 'is', 'located', 'at', 'w', 'roosevelt', 'st', 'good', '##year', 'az', 'thank', 'you', 'for', 'your', 'patience', '[SEP]'], ['[CLS]', 'el', 'tori', '##to', 'we', 'know', 'mexican', 'skip', 'to', 'main', 'content', 'online', 'order', 'online', 'catering', 'menu', 'online', 'order', 'online', 'catering', 'menu', 'locations', 'catering', 'private', 'events', 'careers', 'order', 'now', 'facebook', 'ins', '##tagram', 'twitter', 'about', 'us', 'careers', 'contact', 'us', 'accessibility', 'privacy', 'policy', 'gift', 'cards', 'el', 'tori', '##to', 'ec', '##lub', 'x', '##c', '##xa', 'xp', '##erie', '##nce', 'restaurant', 'group', 'all', 'rights', 'reserved', 'back', 'to', 'top', '[SEP]']]\n"
          ],
          "name": "stdout"
        },
        {
          "output_type": "stream",
          "text": [
            "6436it [01:29, 72.01it/s]\n"
          ],
          "name": "stderr"
        },
        {
          "output_type": "stream",
          "text": [
            "80.73337476693598%\n",
            "[['[CLS]', 'new', 'york', 'fries', 'accessible', 'customer', 'service', 'policy', 'privacy', 'policy', 'menu', 'our', 'food', 'loyalty', 'program', 'gift', 'cards', 'locations', 'international', 'locations', 'view', 'all', 'ny', '##f', 'locations', 'work', 'here', 'franchise', 'contact', 'contact', 'information', 'customer', 'service', 'work', 'here', 'franchise', 'information', 'promotions', 'facebook', 'twitter', 'ins', '##tagram', 'ny', '##f', 'location', 'south', 'centre', 'mall', 'open', 'anderson', 'road', 'se', 'calgary', 'alberta', 'canada', '[SEP]'], ['[CLS]', 'hard', 'rock', 'hotel', 'casino', 'in', 'las', 'vegas', 'is', 'closed', 'get', 'on', 'the', 'list', 'click', 'here', 'to', 'get', 'exciting', 'updates', 'on', 'our', 'transformation', 'guest', 'relations', 'call', 'or', 'email', 'email', 'protected', 'billing', 'questions', 'call', 'or', 'email', 'email', 'protected', 'for', 'events', 'meetings', 'conventions', 'click', 'here', 'for', 'all', 'other', 'group', 'inquiries', 'click', 'here', 'contact', 'us', 'monday', 'friday', '##am', '##pm', 'call', '[SEP]'], ['[CLS]', 'hampton', 'hampton', 'collections', 'home', 'reports', 'nr', '##s', 'contact', 'us', 'who', 'we', 'are', 'hampton', 'hampton', 'collections', 'llc', 'collects', 'del', '##in', '##quent', 'assessments', 'for', 'community', 'associations', 'in', 'nevada', 'we', 'believe', 'our', 'experienced', 'and', 'professional', 'staff', 'provides', 'the', 'highest', 'quality', 'service', 'to', 'community', 'associations', 'please', 'contact', 'our', 'office', 'for', 'more', 'information', 'regarding', 'our', 'services', 'x', '##c', '##xa', 'hampton', 'hampton', '[SEP]'], ['[CLS]', 'reasons', 'banquet', 'and', 'events', 'hall', 'were', 'open', 'the', 'state', 'of', 'nevada', 'has', 'given', 'our', 'hall', 'permission', 'to', 're', '##open', 'under', 'specific', 'limitations', 'we', 'will', 'start', 'accepting', 'reservations', 'for', 'dates', 'starting', 'in', 'late', 'june', 'the', 'state', 'has', 'currently', 'placed', 'a', 'limit', 'on', 'the', 'number', 'of', 'occupants', 'please', 'call', 'or', 'email', 'for', 'more', 'information', 'thank', 'you', 'explore', 'our', 'website', 'contact', 'us', '[SEP]'], ['[CLS]', 'simply', 'wellness', '##si', '##mp', '##ly', 'yoga', 'wellness', 'join', 'us', 'private', 'in', '##person', 'sessions', 'or', 'virtual', 'june', 'visit', 'our', 'schedule', 'to', 'register', 'check', 'the', 'how', 'to', 'register', 'page', 'to', 'get', 'plug', '##ged', 'into', 'class', 'may', 'you', 'be', 'happy', 'may', 'you', 'be', 'healthy', 'may', 'you', 'be', 'safe', 'may', 'you', 'live', 'with', 'ease', 'app', 'store', 'or', 'google', 'schedule', 'enter', 'site', 'y', '##tt', 'purchase', '[SEP]'], ['[CLS]', 'find', 'a', 'salon', 'fantastic', 'sam', '##s', 'jump', 'to', 'navigation', 'find', 'a', 'salon', 'about', 'regions', 'news', 'awards', 'franchise', 'opportunities', 'working', 'for', 'fantastic', 'sam', '##s', 'services', 'all', 'salon', 'services', 'hair', '##cut', '##s', 'color', 'fa', '##q', '##s', 'products', 'women', '##s', 'men', '##s', 'own', 'a', 'salon', 'careers', 'corporate', 'careers', 'salon', 'careers', 'about', 'services', 'products', 'own', 'a', 'salon', 'careers', 'no', 'result', 'found', 'please', 'try', 'another', 'location', '[SEP]'], ['[CLS]', 'howard', 'johnson', 'hotels', 'site', 'temporarily', 'unavailable', 'this', 'website', 'is', 'temporarily', 'unavailable', 'but', 'well', 'be', 'back', 'soon', 'for', 'reservations', 'dial', 'when', 'calling', 'outside', 'of', 'the', 'us', 'or', 'canada', 'dial', 'we', 'apologize', 'for', 'any', 'inc', '##on', '##ven', '##ience', 'and', 'appreciate', 'your', 'patience', 'thank', 'you', 'for', 'visiting', 'howard', 'johnson', 'hotels', 'howard', 'johnson', 'international', 'inc', 'all', 'rights', 'reserved', 'all', 'hotels', 'are', 'independently', 'owned', 'and', 'operated', '[SEP]'], ['[CLS]', 'home', 'the', 'wrap', 'shop', '##pe', 'is', 'no', 'longer', 'in', 'business', 'fortunately', 'there', 'are', 'options', 'for', 'you', 'moving', 'forward', 'arizona', 'color', 'is', 'the', 'original', 'wrap', 'shop', 'in', 'the', 'deer', 'valley', 'area', 'and', 'would', 'be', 'more', 'than', 'happy', 'to', 'help', 'with', 'your', 'needs', 'click', 'here', 'to', 'be', 'forward', '##ed', 'to', 'arizona', '##color', '##com', 'arizona', 'color', 'made', 'with', 'remix', '##er', 'by', 'dream', '##hos', '##t', '[SEP]'], ['[CLS]', 'us', 'national', 'white', '##water', 'center', 'the', 'worlds', 'premier', 'outdoor', 'facility', 'play', 'activities', 'activity', 'passes', 'white', '##water', 'race', 'series', 'relax', 'festivals', 'river', 'jam', 'food', 'beverage', 'white', '##water', 'film', 'series', 'yoga', 'adventure', 'dining', 'learn', 'summer', 'camp', 'team', 'development', 'instruction', 'certification', 'field', 'trips', 'visit', 'calendar', 'buy', 'groups', 'about', 'contact', 'us', 'national', 'white', '##water', 'center', 'white', '##water', 'center', 'parkway', 'charlotte', 'nc', 'info', '##us', '##n', '##wc', '##org', '[SEP]'], ['[CLS]', 'phoenix', 'rising', 'fc', 'arizona', '##s', 'highest', 'level', 'professional', 'soccer', 'team', 'skip', 'navigation', 'phoenix', 'rising', 'fc', 'arizona', '##s', 'highest', 'level', 'professional', 'soccer', 'team', 'stop', 'play', 'sports', '##eng', '##ine', 'inc', 'this', 'website', 'is', 'powered', 'by', 'the', 'sports', '##eng', '##ine', 'platform', 'but', 'is', 'owned', 'by', 'and', 'subject', 'to', 'the', 'phoenix', 'rising', 'fc', 'arizona', '##s', 'highest', 'level', 'professional', 'soccer', 'team', 'privacy', 'policy', 'privacy', 'policy', 'log', '##in', '[SEP]'], ['[CLS]', 'the', 'tea', '##pot', 'a', 'family', 'friendly', 'coffee', 'shop', 'event', 'space', 'about', 'hours', 'events', 'contact', 'lets', 'get', 'social', 'the', 'tea', '##pot', 'blog', 'shop', 'the', 'coffee', 'shop', 'is', 'now', 'closed', 'for', 'summer', 'we', 'start', 'back', 'in', 'action', 'september', 'follow', 'us', 'here', 'hours', 'th', '##urs', '##sun', 'email', 'info', '##the', '##tea', '##pot', '##us', '##com', 'about', 'hours', 'events', 'contact', 'lets', 'get', 'social', 'the', 'tea', '##pot', 'blog', 'shop', '[SEP]'], ['[CLS]', 'ga', '##rgan', '##os', 'catering', 'home', 'welcome', 'to', 'ga', '##ragan', '##os', 'open', 'days', 'a', 'week', '##am', '##pm', 'located', 'at', 'west', 'street', 'cleveland', 'ohio', 'ph', 'ph', 'check', 'your', 'gift', 'card', 'balance', 'copyright', 'x', '##c', '##xa', 'ga', '##rgan', '##os', 'all', 'rights', 'reserved', 'new', 'gift', 'loyalty', 'program', 'spend', 'get', 'cash', '##back', 'visit', 'times', 'get', 'off', 'next', 'visit', 'contact', 'us', 'for', 'more', 'details', 'home', 'restaurant', 'menu', 'catering', 'menu', '[SEP]'], ['[CLS]', 'my', 'mothers', 'house', 'welcome', 'my', 'mothers', 'house', 'las', 'vegas', 'n', '##v', 'welcome', 'about', 'us', 'menu', 'contact', 'online', 'ordering', 'entertainment', 'social', 'links', 'b', 'r', 'x', 'hours', 'of', 'operation', 'tuesday', 'thursday', 'am', 'pm', 'friday', 'saturday', '##am', '##pm', 'sundays', 'am', 'pm', 'mondays', 'closed', 'null', 'my', 'mothers', 'house', 'on', 'the', 'blend', 'video', 'my', 'mothers', 'house', 'welcome', 'about', 'us', 'menu', 'contact', 'online', 'ordering', 'entertainment', 'made', 'with', 'spot', '##on', '[SEP]'], ['[CLS]', 'call', 'the', 'cater', '##er', 'las', 'vegas', 'welcome', 'to', 'call', 'the', 'cater', '##er', 'michael', 'call', 'executive', 'chef', 'pork', 'lo', '##in', 'ass', '##orted', 'dessert', 'tray', 'shrimp', 'cocktail', 'let', 'us', 'make', 'your', 'next', 'event', 'delicious', 'make', 'every', 'occasion', 'delicious', 'x', '##c', '##xa', 'call', 'the', 'cater', '##er', 'all', 'rights', 'reserved', 'las', 'vegas', 'n', '##v', 'home', 'our', 'story', 'services', 'test', '##imo', '##nia', '##ls', 'events', 'gallery', 'contact', 'us', 'more', '[SEP]'], ['[CLS]', 'horizontal', 'books', 'content', 'on', 'this', 'page', 'requires', 'a', 'newer', 'version', 'of', 'adobe', 'flash', 'player', 'copyright', 'x', '##a', 'horizontal', 'books', 'all', 'rights', 'reserved', 'a', 'place', 'to', 'find', 'new', 'books', 'at', 'deeply', 'discount', '##ed', 'prices', 'we', 'are', 'an', 'independent', 'locally', 'owned', 'operated', 'bookstore', 'just', 'steps', 'from', 'the', 'west', '##side', 'market', 'in', 'the', 'historic', 'ohio', 'city', 'neighborhood', 'of', 'cleveland', 'our', 'selection', 'changes', 'daily', 'stop', 'in', 'visit', '[SEP]'], ['[CLS]', 'maple', 'dragon', 'chinese', 'restaurant', 'ui', '##nt', 'b', 'major', 'mackenzie', 'dr', 'glen', 'square', 'long', '##o', 'plaza', 'maple', 'phone', 'business', 'hours', 'monday', 'thursday', 'am', 'pm', 'friday', 'am', 'pm', 'saturday', 'pm', 'pm', 'sunday', 'pm', 'pm', 'delivery', 'charges', 'apply', 'vary', 'by', 'location', 'please', 'call', 'for', 'more', 'information', 'major', 'mackenzie', 'dr', 'unit', 'b', 'glen', 'square', 'long', '##o', 'plaza', 'maple', 'ontario', 'tel', 'hunan', 'mandarin', 's', '##ze', '##chua', '##n', 'cantonese', 'style', '[SEP]'], ['[CLS]', 'internal', 'server', 'error', 'internal', 'server', 'error', 'the', 'server', 'encountered', 'an', 'internal', 'error', 'or', 'mis', '##con', '##fi', '##gur', '##ation', 'and', 'was', 'unable', 'to', 'complete', 'your', 'request', 'please', 'contact', 'the', 'server', 'administrator', 'and', 'inform', 'them', 'of', 'the', 'time', 'the', 'error', 'occurred', 'and', 'anything', 'you', 'might', 'have', 'done', 'that', 'may', 'have', 'caused', 'the', 'error', 'more', 'information', 'about', 'this', 'error', 'may', 'be', 'available', 'in', 'the', 'server', 'error', 'log', '[SEP]'], ['[CLS]', 'cotton', 'copper', 'te', '##mp', '##e', 'bar', 'restaurant', 'honest', 'provisions', 'for', 'all', 'we', 'have', 'reopened', 'for', 'take', '##away', 'only', 'for', 'now', 'order', 'take', '##away', 'now', 'order', 'cc', 'take', '##away', 'online', 'click', 'to', 'view', 'menu', 'and', 'order', 'now', 'view', 'menu', 'order', 'connect', 'with', 'us', 'lets', 'chat', 'east', 'warner', 'road', 'te', '##mp', '##e', 'az', 'email', 'us', 'ins', '##tagram', 'facebook', 'x', '##c', '##xa', 'cotton', 'copper', 'all', 'rights', 'reserved', '[SEP]'], ['[CLS]', 'internal', 'server', 'error', 'internal', 'server', 'error', 'the', 'server', 'encountered', 'an', 'internal', 'error', 'or', 'mis', '##con', '##fi', '##gur', '##ation', 'and', 'was', 'unable', 'to', 'complete', 'your', 'request', 'please', 'contact', 'the', 'server', 'administrator', 'and', 'inform', 'them', 'of', 'the', 'time', 'the', 'error', 'occurred', 'and', 'anything', 'you', 'might', 'have', 'done', 'that', 'may', 'have', 'caused', 'the', 'error', 'more', 'information', 'about', 'this', 'error', 'may', 'be', 'available', 'in', 'the', 'server', 'error', 'log', '[SEP]'], ['[CLS]', 'd', '##ns', 'update', 'required', 'd', '##ns', 'update', 'required', 'the', 'site', 'you', 'were', 'looking', 'for', 'is', 'no', 'longer', 'available', 'at', 'this', 'ip', 'address', 'this', 'ip', 'address', 'is', 'de', '##pre', '##cated', 'and', 'is', 'no', 'longer', 'able', 'to', 'serve', 'the', 'requested', 'domain', 'if', 'this', 'is', 'your', 'site', 'please', 'update', 'your', 'd', '##ns', 'to', 'use', 'the', 'correct', 'ip', 'address', 'or', 'cn', '##ame', 'still', 'have', 'questions', 'contact', 'us', 'hosted', 'by', '[SEP]']]\n"
          ],
          "name": "stdout"
        }
      ]
    },
    {
      "cell_type": "code",
      "metadata": {
        "id": "66tzgg72IdtE",
        "colab_type": "code",
        "colab": {
          "base_uri": "https://localhost:8080/",
          "height": 34
        },
        "outputId": "525eee87-77f4-45e9-cc92-7e9f599a781a"
      },
      "source": [
        "len(cat.train_x)"
      ],
      "execution_count": 39,
      "outputs": [
        {
          "output_type": "execute_result",
          "data": {
            "text/plain": [
              "20959"
            ]
          },
          "metadata": {
            "tags": []
          },
          "execution_count": 39
        }
      ]
    },
    {
      "cell_type": "code",
      "metadata": {
        "id": "6A5mFyJN3gBa",
        "colab_type": "code",
        "colab": {
          "base_uri": "https://localhost:8080/",
          "height": 221
        },
        "outputId": "5b0b0009-6585-45ee-8385-6764a16b8fa6"
      },
      "source": [
        "model = cat.build_model(bert_config_file, bert_ckpt_file)"
      ],
      "execution_count": 43,
      "outputs": [
        {
          "output_type": "stream",
          "text": [
            "Done loading 196 BERT weights from: /home/vahidsanei_google_com/data/uncased_L-12_H-768_A-12/bert_model.ckpt into <bert.model.BertModelLayer object at 0x7f7d8f4b7090> (prefix:bert_4). Count of weights not found in the checkpoint was: [0]. Count of weights with mismatched shape: [0]\n",
            "Unused weights from checkpoint: \n",
            "\tbert/embeddings/token_type_embeddings\n",
            "\tbert/pooler/dense/bias\n",
            "\tbert/pooler/dense/kernel\n",
            "\tcls/predictions/output_bias\n",
            "\tcls/predictions/transform/LayerNorm/beta\n",
            "\tcls/predictions/transform/LayerNorm/gamma\n",
            "\tcls/predictions/transform/dense/bias\n",
            "\tcls/predictions/transform/dense/kernel\n",
            "\tcls/seq_relationship/output_bias\n",
            "\tcls/seq_relationship/output_weights\n"
          ],
          "name": "stdout"
        }
      ]
    },
    {
      "cell_type": "code",
      "metadata": {
        "id": "iWgHWDoE3gBd",
        "colab_type": "code",
        "colab": {
          "base_uri": "https://localhost:8080/",
          "height": 765
        },
        "outputId": "0085cb58-d36f-477b-80b7-dcfc37652cbe"
      },
      "source": [
        "compile_model(cat, model)"
      ],
      "execution_count": null,
      "outputs": [
        {
          "output_type": "stream",
          "text": [
            "Model: \"model_4\"\n",
            "_________________________________________________________________\n",
            "Layer (type)                 Output Shape              Param #   \n",
            "=================================================================\n",
            "input_ids (InputLayer)       [(None, 256)]             0         \n",
            "_________________________________________________________________\n",
            "bert (BertModelLayer)        (None, 256, 768)          108890112 \n",
            "_________________________________________________________________\n",
            "lambda_4 (Lambda)            (None, 768)               0         \n",
            "_________________________________________________________________\n",
            "dropout_4 (Dropout)          (None, 768)               0         \n",
            "_________________________________________________________________\n",
            "dense_6 (Dense)              (None, 5)                 3845      \n",
            "=================================================================\n",
            "Total params: 108,893,957\n",
            "Trainable params: 108,893,957\n",
            "Non-trainable params: 0\n",
            "_________________________________________________________________\n",
            "None\n",
            "Epoch 1/50\n",
            "   2/1245 [..............................] - ETA: 29:35 - loss: 2.0782 - acc: 0.1875WARNING:tensorflow:Method (on_train_batch_end) is slow compared to the batch update (1.210710). Check your callbacks.\n",
            "1245/1245 [==============================] - 561s 451ms/step - loss: 1.3840 - acc: 0.4084 - val_loss: 1.4626 - val_acc: 0.3340\n",
            "Epoch 2/50\n",
            "1245/1245 [==============================] - 557s 447ms/step - loss: 1.2850 - acc: 0.4667 - val_loss: 1.4470 - val_acc: 0.3225\n",
            "Epoch 3/50\n",
            "1245/1245 [==============================] - 557s 448ms/step - loss: 1.2447 - acc: 0.4914 - val_loss: 1.4389 - val_acc: 0.3244\n",
            "Epoch 4/50\n",
            "1245/1245 [==============================] - 560s 450ms/step - loss: 1.2053 - acc: 0.5096 - val_loss: 1.4671 - val_acc: 0.3273\n",
            "Epoch 5/50\n",
            "1245/1245 [==============================] - 577s 463ms/step - loss: 1.1539 - acc: 0.5376 - val_loss: 1.5510 - val_acc: 0.3235\n",
            "Epoch 6/50\n",
            "1245/1245 [==============================] - 551s 443ms/step - loss: 1.0896 - acc: 0.5675 - val_loss: 1.5505 - val_acc: 0.3282\n",
            "Epoch 7/50\n",
            "1245/1245 [==============================] - 572s 460ms/step - loss: 1.0017 - acc: 0.6096 - val_loss: 1.8349 - val_acc: 0.3044\n",
            "Epoch 8/50\n",
            "1245/1245 [==============================] - 555s 446ms/step - loss: 0.9165 - acc: 0.6454 - val_loss: 1.8140 - val_acc: 0.3311\n",
            "Epoch 9/50\n",
            "1245/1245 [==============================] - 547s 439ms/step - loss: 0.8203 - acc: 0.6859 - val_loss: 1.9032 - val_acc: 0.3254\n",
            "Epoch 10/50\n",
            "1245/1245 [==============================] - 561s 451ms/step - loss: 0.7323 - acc: 0.7233 - val_loss: 2.1951 - val_acc: 0.3263\n",
            "Epoch 11/50\n",
            "1245/1245 [==============================] - 569s 457ms/step - loss: 0.6619 - acc: 0.7507 - val_loss: 2.2144 - val_acc: 0.3263\n",
            "Epoch 12/50\n",
            " 777/1245 [=================>............] - ETA: 3:32 - loss: 0.5926 - acc: 0.7728"
          ],
          "name": "stdout"
        }
      ]
    },
    {
      "cell_type": "code",
      "metadata": {
        "id": "tMGfk9Us3gBh",
        "colab_type": "code",
        "colab": {}
      },
      "source": [
        "model.evaluate(cat.test_x, cat.test_y)"
      ],
      "execution_count": null,
      "outputs": []
    },
    {
      "cell_type": "code",
      "metadata": {
        "id": "vhYZ03Pq3gBk",
        "colab_type": "code",
        "colab": {}
      },
      "source": [
        ""
      ],
      "execution_count": null,
      "outputs": []
    }
  ]
}