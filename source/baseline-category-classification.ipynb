{
  "nbformat": 4,
  "nbformat_minor": 0,
  "metadata": {
    "kernelspec": {
      "display_name": "Python 3",
      "language": "python",
      "name": "python3"
    },
    "language_info": {
      "codemirror_mode": {
        "name": "ipython",
        "version": 3
      },
      "file_extension": ".py",
      "mimetype": "text/x-python",
      "name": "python",
      "nbconvert_exporter": "python",
      "pygments_lexer": "ipython3",
      "version": "3.7.6"
    },
    "colab": {
      "name": "Copy of baseline-category-classification.ipynb",
      "provenance": [],
      "collapsed_sections": [],
      "include_colab_link": true
    }
  },
  "cells": [
    {
      "cell_type": "markdown",
      "metadata": {
        "id": "view-in-github",
        "colab_type": "text"
      },
      "source": [
        "<a href=\"https://colab.research.google.com/github/wliangxy/advertiser-quality-from-sites/blob/master/source/baseline-category-classification.ipynb\" target=\"_parent\"><img src=\"https://colab.research.google.com/assets/colab-badge.svg\" alt=\"Open In Colab\"/></a>"
      ]
    },
    {
      "cell_type": "code",
      "metadata": {
        "id": "t3OPxX0N3f_5",
        "colab_type": "code",
        "colab": {}
      },
      "source": [
        "import sys\n",
        "import os\n",
        "import math\n",
        "import datetime\n",
        "from tqdm import tqdm\n",
        "import pandas as pd\n",
        "import numpy as np\n",
        "\n",
        "import tensorflow as tf\n",
        "from tensorflow import keras\n",
        "\n",
        "from bs4 import BeautifulSoup\n",
        "from bs4.element import Comment\n",
        "import re\n",
        "from langdetect import detect_langs\n",
        "# import nltk\n",
        "# from nltk.corpus import stopwords\n",
        "\n",
        "from bert import BertModelLayer\n",
        "from bert.loader import StockBertConfig, map_stock_config_to_params, load_stock_weights\n",
        "from bert.tokenization.bert_tokenization import FullTokenizer\n",
        "\n",
        "import seaborn as sns\n",
        "import matplotlib.pyplot as plt\n",
        "\n",
        "from sklearn.metrics import classification_report\n",
        "\n",
        "%matplotlib inline\n",
        "%config InlineBackend.figure_format='retina'\n"
      ],
      "execution_count": 1,
      "outputs": []
    },
    {
      "cell_type": "code",
      "metadata": {
        "id": "MIBnztDI4al8",
        "colab_type": "code",
        "colab": {
          "base_uri": "https://localhost:8080/",
          "height": 34
        },
        "outputId": "dca5366f-964e-44c6-f629-15afadb5d49c"
      },
      "source": [
        "os. getcwd()"
      ],
      "execution_count": 2,
      "outputs": [
        {
          "output_type": "execute_result",
          "data": {
            "text/plain": [
              "'/home/wliang_google_com/Documents/workspace/notebook'"
            ]
          },
          "metadata": {
            "tags": []
          },
          "execution_count": 2
        }
      ]
    },
    {
      "cell_type": "code",
      "metadata": {
        "scrolled": true,
        "id": "XQc7ejGp3gAE",
        "colab_type": "code",
        "colab": {
          "base_uri": "https://localhost:8080/",
          "height": 233
        },
        "outputId": "a89b5197-83c9-49a7-8f53-a4b7315349b6"
      },
      "source": [
        "df = pd.read_csv(os.path.join('/home/vahidsanei_google_com/data/yelp_data/updated', 'bussiness_with_corpus.csv'))\n",
        "df = df.sample(frac=1)\n",
        "df.head()"
      ],
      "execution_count": 3,
      "outputs": [
        {
          "output_type": "execute_result",
          "data": {
            "text/plain": [
              "       Unnamed: 0             business_id                   name  \\\n",
              "26583       26583  W2kdwTHO5-vXtoSgSD4Nbw         Bunker's Glass   \n",
              "16692       16692  ztXQPy-Yo1BIN9wb1PCo0g  Ten Thousand Villages   \n",
              "37683       37683  xBq7I2cBn92RQ7UqsOp2SA               T-Mobile   \n",
              "53223       53223  emM1NK8tCf2b02JSrWVKCw           Sin City K-9   \n",
              "42524       42524  shIO7Ms7CzlHJsPcvjHXsg               Gamestop   \n",
              "\n",
              "                     address             city state postal_code   latitude  \\\n",
              "26583        8625 N 27th Ave          Phoenix    AZ       85051  33.563110   \n",
              "16692  300 S Sharon Amity Rd        Charlotte    NC       28211  35.176222   \n",
              "37683             777 S Mill            Tempe    AZ       85281  33.422186   \n",
              "53223                    NaN        Henderson    NV       89074  36.037645   \n",
              "42524  3820 W Lake Mead Blvd  North Las Vegas    NV       89032  36.198408   \n",
              "\n",
              "        longitude  stars  ...  1.5  2.0 2.5 3.0 3.5 4.0 4.5  5.0  is_eng  \\\n",
              "26583 -112.116720    2.5  ...    0    0   1   0   0   0   0    0   False   \n",
              "16692  -80.802375    4.5  ...    0    0   0   0   0   0   1    0   False   \n",
              "37683 -111.939657    3.0  ...    0    0   0   1   0   0   0    0   False   \n",
              "53223 -115.076254    4.5  ...    0    0   0   0   0   0   1    0   False   \n",
              "42524 -115.189543    3.5  ...    0    0   0   0   1   0   0    0    True   \n",
              "\n",
              "                                          webpage_corpus  \n",
              "26583                                                NaN  \n",
              "16692                                                NaN  \n",
              "37683                                                NaN  \n",
              "53223                                                NaN  \n",
              "42524  James Place Home About Reservations Newsletter...  \n",
              "\n",
              "[5 rows x 28 columns]"
            ],
            "text/html": [
              "<div>\n",
              "<style scoped>\n",
              "    .dataframe tbody tr th:only-of-type {\n",
              "        vertical-align: middle;\n",
              "    }\n",
              "\n",
              "    .dataframe tbody tr th {\n",
              "        vertical-align: top;\n",
              "    }\n",
              "\n",
              "    .dataframe thead th {\n",
              "        text-align: right;\n",
              "    }\n",
              "</style>\n",
              "<table border=\"1\" class=\"dataframe\">\n",
              "  <thead>\n",
              "    <tr style=\"text-align: right;\">\n",
              "      <th></th>\n",
              "      <th>Unnamed: 0</th>\n",
              "      <th>business_id</th>\n",
              "      <th>name</th>\n",
              "      <th>address</th>\n",
              "      <th>city</th>\n",
              "      <th>state</th>\n",
              "      <th>postal_code</th>\n",
              "      <th>latitude</th>\n",
              "      <th>longitude</th>\n",
              "      <th>stars</th>\n",
              "      <th>...</th>\n",
              "      <th>1.5</th>\n",
              "      <th>2.0</th>\n",
              "      <th>2.5</th>\n",
              "      <th>3.0</th>\n",
              "      <th>3.5</th>\n",
              "      <th>4.0</th>\n",
              "      <th>4.5</th>\n",
              "      <th>5.0</th>\n",
              "      <th>is_eng</th>\n",
              "      <th>webpage_corpus</th>\n",
              "    </tr>\n",
              "  </thead>\n",
              "  <tbody>\n",
              "    <tr>\n",
              "      <th>26583</th>\n",
              "      <td>26583</td>\n",
              "      <td>W2kdwTHO5-vXtoSgSD4Nbw</td>\n",
              "      <td>Bunker's Glass</td>\n",
              "      <td>8625 N 27th Ave</td>\n",
              "      <td>Phoenix</td>\n",
              "      <td>AZ</td>\n",
              "      <td>85051</td>\n",
              "      <td>33.563110</td>\n",
              "      <td>-112.116720</td>\n",
              "      <td>2.5</td>\n",
              "      <td>...</td>\n",
              "      <td>0</td>\n",
              "      <td>0</td>\n",
              "      <td>1</td>\n",
              "      <td>0</td>\n",
              "      <td>0</td>\n",
              "      <td>0</td>\n",
              "      <td>0</td>\n",
              "      <td>0</td>\n",
              "      <td>False</td>\n",
              "      <td>NaN</td>\n",
              "    </tr>\n",
              "    <tr>\n",
              "      <th>16692</th>\n",
              "      <td>16692</td>\n",
              "      <td>ztXQPy-Yo1BIN9wb1PCo0g</td>\n",
              "      <td>Ten Thousand Villages</td>\n",
              "      <td>300 S Sharon Amity Rd</td>\n",
              "      <td>Charlotte</td>\n",
              "      <td>NC</td>\n",
              "      <td>28211</td>\n",
              "      <td>35.176222</td>\n",
              "      <td>-80.802375</td>\n",
              "      <td>4.5</td>\n",
              "      <td>...</td>\n",
              "      <td>0</td>\n",
              "      <td>0</td>\n",
              "      <td>0</td>\n",
              "      <td>0</td>\n",
              "      <td>0</td>\n",
              "      <td>0</td>\n",
              "      <td>1</td>\n",
              "      <td>0</td>\n",
              "      <td>False</td>\n",
              "      <td>NaN</td>\n",
              "    </tr>\n",
              "    <tr>\n",
              "      <th>37683</th>\n",
              "      <td>37683</td>\n",
              "      <td>xBq7I2cBn92RQ7UqsOp2SA</td>\n",
              "      <td>T-Mobile</td>\n",
              "      <td>777 S Mill</td>\n",
              "      <td>Tempe</td>\n",
              "      <td>AZ</td>\n",
              "      <td>85281</td>\n",
              "      <td>33.422186</td>\n",
              "      <td>-111.939657</td>\n",
              "      <td>3.0</td>\n",
              "      <td>...</td>\n",
              "      <td>0</td>\n",
              "      <td>0</td>\n",
              "      <td>0</td>\n",
              "      <td>1</td>\n",
              "      <td>0</td>\n",
              "      <td>0</td>\n",
              "      <td>0</td>\n",
              "      <td>0</td>\n",
              "      <td>False</td>\n",
              "      <td>NaN</td>\n",
              "    </tr>\n",
              "    <tr>\n",
              "      <th>53223</th>\n",
              "      <td>53223</td>\n",
              "      <td>emM1NK8tCf2b02JSrWVKCw</td>\n",
              "      <td>Sin City K-9</td>\n",
              "      <td>NaN</td>\n",
              "      <td>Henderson</td>\n",
              "      <td>NV</td>\n",
              "      <td>89074</td>\n",
              "      <td>36.037645</td>\n",
              "      <td>-115.076254</td>\n",
              "      <td>4.5</td>\n",
              "      <td>...</td>\n",
              "      <td>0</td>\n",
              "      <td>0</td>\n",
              "      <td>0</td>\n",
              "      <td>0</td>\n",
              "      <td>0</td>\n",
              "      <td>0</td>\n",
              "      <td>1</td>\n",
              "      <td>0</td>\n",
              "      <td>False</td>\n",
              "      <td>NaN</td>\n",
              "    </tr>\n",
              "    <tr>\n",
              "      <th>42524</th>\n",
              "      <td>42524</td>\n",
              "      <td>shIO7Ms7CzlHJsPcvjHXsg</td>\n",
              "      <td>Gamestop</td>\n",
              "      <td>3820 W Lake Mead Blvd</td>\n",
              "      <td>North Las Vegas</td>\n",
              "      <td>NV</td>\n",
              "      <td>89032</td>\n",
              "      <td>36.198408</td>\n",
              "      <td>-115.189543</td>\n",
              "      <td>3.5</td>\n",
              "      <td>...</td>\n",
              "      <td>0</td>\n",
              "      <td>0</td>\n",
              "      <td>0</td>\n",
              "      <td>0</td>\n",
              "      <td>1</td>\n",
              "      <td>0</td>\n",
              "      <td>0</td>\n",
              "      <td>0</td>\n",
              "      <td>True</td>\n",
              "      <td>James Place Home About Reservations Newsletter...</td>\n",
              "    </tr>\n",
              "  </tbody>\n",
              "</table>\n",
              "<p>5 rows × 28 columns</p>\n",
              "</div>"
            ]
          },
          "metadata": {
            "tags": []
          },
          "execution_count": 3
        }
      ]
    },
    {
      "cell_type": "code",
      "metadata": {
        "id": "KY8nQSVn3gAK",
        "colab_type": "code",
        "colab": {
          "base_uri": "https://localhost:8080/",
          "height": 119
        },
        "outputId": "44586497-6106-409f-8496-19cb727862e7"
      },
      "source": [
        "df.columns"
      ],
      "execution_count": 4,
      "outputs": [
        {
          "output_type": "execute_result",
          "data": {
            "text/plain": [
              "Index(['Unnamed: 0', 'business_id', 'name', 'address', 'city', 'state',\n",
              "       'postal_code', 'latitude', 'longitude', 'stars', 'review_count',\n",
              "       'is_open', 'attributes', 'categories', 'hours', 'url', 'webpage_text',\n",
              "       '1.0', '1.5', '2.0', '2.5', '3.0', '3.5', '4.0', '4.5', '5.0', 'is_eng',\n",
              "       'webpage_corpus'],\n",
              "      dtype='object')"
            ]
          },
          "metadata": {
            "tags": []
          },
          "execution_count": 4
        }
      ]
    },
    {
      "cell_type": "code",
      "metadata": {
        "scrolled": true,
        "id": "purqxpuO3gAO",
        "colab_type": "code",
        "colab": {
          "base_uri": "https://localhost:8080/",
          "height": 612
        },
        "outputId": "95fc748e-0491-4a3d-c750-5f15698f1eb0"
      },
      "source": [
        "df = df[df['categories'].notnull()]\n",
        "df.info()"
      ],
      "execution_count": 5,
      "outputs": [
        {
          "output_type": "stream",
          "text": [
            "<class 'pandas.core.frame.DataFrame'>\n",
            "Int64Index: 55963 entries, 26583 to 49416\n",
            "Data columns (total 28 columns):\n",
            " #   Column          Non-Null Count  Dtype  \n",
            "---  ------          --------------  -----  \n",
            " 0   Unnamed: 0      55963 non-null  int64  \n",
            " 1   business_id     55963 non-null  object \n",
            " 2   name            55963 non-null  object \n",
            " 3   address         53592 non-null  object \n",
            " 4   city            55963 non-null  object \n",
            " 5   state           55963 non-null  object \n",
            " 6   postal_code     55854 non-null  object \n",
            " 7   latitude        55963 non-null  float64\n",
            " 8   longitude       55963 non-null  float64\n",
            " 9   stars           55963 non-null  float64\n",
            " 10  review_count    55963 non-null  int64  \n",
            " 11  is_open         55963 non-null  int64  \n",
            " 12  attributes      48188 non-null  object \n",
            " 13  categories      55963 non-null  object \n",
            " 14  hours           45045 non-null  object \n",
            " 15  url             55963 non-null  object \n",
            " 16  webpage_text    50380 non-null  object \n",
            " 17  1.0             55963 non-null  int64  \n",
            " 18  1.5             55963 non-null  int64  \n",
            " 19  2.0             55963 non-null  int64  \n",
            " 20  2.5             55963 non-null  int64  \n",
            " 21  3.0             55963 non-null  int64  \n",
            " 22  3.5             55963 non-null  int64  \n",
            " 23  4.0             55963 non-null  int64  \n",
            " 24  4.5             55963 non-null  int64  \n",
            " 25  5.0             55963 non-null  int64  \n",
            " 26  is_eng          55963 non-null  bool   \n",
            " 27  webpage_corpus  32531 non-null  object \n",
            "dtypes: bool(1), float64(3), int64(12), object(12)\n",
            "memory usage: 12.0+ MB\n"
          ],
          "name": "stdout"
        }
      ]
    },
    {
      "cell_type": "code",
      "metadata": {
        "id": "-iJF5Z8m3gAU",
        "colab_type": "code",
        "colab": {}
      },
      "source": [
        "df['categories'] = df['categories'].apply(lambda x: re.split('[,;&]', x))"
      ],
      "execution_count": 6,
      "outputs": []
    },
    {
      "cell_type": "code",
      "metadata": {
        "scrolled": true,
        "id": "oUQ-FWMJ3gAZ",
        "colab_type": "code",
        "colab": {
          "base_uri": "https://localhost:8080/",
          "height": 335
        },
        "outputId": "7c612150-8cc5-4a6d-a23c-a0f448589738"
      },
      "source": [
        "Categories={}\n",
        "\n",
        "for x in df.categories:\n",
        "    for cls in x:\n",
        "        cls = cls.strip()\n",
        "        if len(cls) < 2: continue\n",
        "        if cls not in Categories: Categories[cls]=1\n",
        "        else: Categories[cls]+=1\n",
        "\n",
        "All_categories=list(Categories.keys())\n",
        "classes=[[x,Categories[x]] for x in All_categories]\n",
        "classes=sorted(classes, key=lambda x: x[1], reverse=True)\n",
        "all_classes = classes\n",
        "classes=classes[:10]\n",
        "plt.bar(range(len(classes)),[x[1] for x in classes] ,align='center', color='rgybk')\n",
        "plt.xticks(range(len(classes)), [x[0] for x in classes], rotation=30);"
      ],
      "execution_count": 7,
      "outputs": [
        {
          "output_type": "stream",
          "text": [
            "/opt/conda/lib/python3.7/site-packages/ipykernel_launcher.py:15: MatplotlibDeprecationWarning: Using a string of single character colors as a color sequence is deprecated. Use an explicit list instead.\n",
            "  from ipykernel import kernelapp as app\n"
          ],
          "name": "stderr"
        },
        {
          "output_type": "display_data",
          "data": {
            "text/plain": [
              "<Figure size 432x288 with 1 Axes>"
            ],
            "image/png": "[encoded data removed]"
          },
          "metadata": {
            "tags": [],
            "image/png": {
              "width": 388,
              "height": 284
            },
            "needs_background": "light"
          }
        }
      ]
    },
    {
      "cell_type": "code",
      "metadata": {
        "id": "62nEyCTf3gAe",
        "colab_type": "code",
        "colab": {}
      },
      "source": [
        "all_classes=sorted(all_classes, key=lambda x: x[1], reverse=True)"
      ],
      "execution_count": 8,
      "outputs": []
    },
    {
      "cell_type": "code",
      "metadata": {
        "id": "YfMkgb6-3gAi",
        "colab_type": "code",
        "colab": {}
      },
      "source": [
        "map_classes = {\n",
        "                'Restaurants': 'Food', 'Food': 'Food', 'Frozen Yogurt': 'Food', 'Pizza': 'Food', 'Bars': 'Food', 'Coffee': 'Food',\n",
        "                'Cafes': 'Food', 'Fast Food': 'Food', 'Bakeries': 'Food', 'Tea' : 'Food', 'Breakfast': 'Food',\n",
        "                'Wine': 'Food', 'Sandwiches': 'Food', 'Burgers': 'Food', 'Brunch': 'Food', 'Breakfast': 'Food', 'Desserts': 'Food',\n",
        "                'Vegetarian': 'Food', 'Vegan': 'Food', \n",
        "\n",
        "                'Health': 'Health', 'Dentists': 'Health', 'Doctors': 'Health', 'Medical Centers': 'Health', 'Drugstores': 'Health',\n",
        "                'Local Services': 'Health', \n",
        "\n",
        "                'Local Services': 'Local Services', 'Car Dealers': 'Local Services', 'Professional Services': 'Local Services', \n",
        "                'Home Services': 'Local Services','Garden': 'Local Services', 'Real Estate': 'Local Services',\n",
        "                'Auto Repair': 'Local Services', 'Pet Services': 'Local Services', 'Home Cleaning': 'Local Services', \n",
        "                'Public Services': 'Local Services', 'Home Decor': 'Local Services', \n",
        "                'Automotive': 'Local Services', 'Pets': 'Local Services',\n",
        "    \n",
        "                'Hair Salons': 'Salons', 'Nail Salons': 'Salons', 'Beauty': 'Salons', 'Hair Salons': 'Salons', 'Makeup Artists': 'Salons',\n",
        "                'Hair Removal': 'Salons', 'Massage': 'Salons', 'Barbers': 'Salons', 'Beauty Supply': 'Salons',\n",
        "                \n",
        "                'Entertainment': 'Entertainment', 'Event Planning': 'Entertainment', 'Golf': 'Entertainment',\n",
        "                'Active Life': 'Entertainment', 'Nightlife': 'Entertainment',\n",
        "\n",
        "                'Hotels': 'Travel', 'Travel': 'Travel',\n",
        "    \n",
        "                'Jewelry': 'Shopping', 'Shopping': 'Shopping', 'Hobby Shops': 'Shopping', \n",
        "\n",
        "                'Fitness': 'Fitness', 'Sporting Goods': 'Fitness', 'Gyms': 'Fitness', 'Sports Bars': 'Fitness', \n",
        "    \n",
        "                'Churches': 'Religious','Religious Organizations': 'Religious',\n",
        "    \n",
        "                'Education': 'Education',\n",
        "    \n",
        "                'Banks': 'Financial Services', 'Financial Services': 'Financial Services',\n",
        "    \n",
        "                'Mass Media': 'Media'\n",
        "        }"
      ],
      "execution_count": 9,
      "outputs": []
    },
    {
      "cell_type": "code",
      "metadata": {
        "id": "XF1XRoSq3gAm",
        "colab_type": "code",
        "colab": {}
      },
      "source": [
        "map_classes = {\n",
        "                'Restaurants': 'Food', 'Food': 'Food', 'Frozen Yogurt': 'Food', 'Pizza': 'Food', 'Bars': 'Food', 'Coffee': 'Food',\n",
        "                'Cafes': 'Food', 'Fast Food': 'Food', 'Bakeries': 'Food', 'Tea' : 'Food', 'Breakfast': 'Food',\n",
        "                'Wine': 'Food', 'Sandwiches': 'Food', 'Burgers': 'Food', 'Brunch': 'Food', 'Breakfast': 'Food', 'Desserts': 'Food',\n",
        "                'Vegetarian': 'Food', 'Vegan': 'Food', \n",
        "\n",
        "                'Health': 'Health', 'Dentists': 'Health', 'Doctors': 'Health', 'Medical Centers': 'Health', 'Drugstores': 'Health',\n",
        "                'Local Services': 'Health', \n",
        "\n",
        "                'Local Services': 'Local Services', 'Car Dealers': 'Local Services', 'Professional Services': 'Local Services', \n",
        "                'Home Services': 'Local Services','Garden': 'Local Services', 'Real Estate': 'Local Services',\n",
        "                'Auto Repair': 'Local Services', 'Pet Services': 'Local Services', 'Home Cleaning': 'Local Services', \n",
        "                'Public Services': 'Local Services', 'Home Decor': 'Local Services', \n",
        "                'Automotive': 'Local Services', 'Pets': 'Local Services',\n",
        "    \n",
        "                'Hair Salons': 'Local Services', 'Nail Salons': 'Local Services', 'Beauty': 'Local Services', 'Hair Salons': 'Local Services', 'Makeup Artists': 'Local Services',\n",
        "                'Hair Removal': 'Local Services', 'Massage': 'Local Services', 'Barbers': 'Local Services', 'Beauty Supply': 'Local Services',\n",
        "                \n",
        "                'Entertainment': 'Entertainment', 'Event Planning': 'Entertainment', 'Golf': 'Entertainment',\n",
        "                'Active Life': 'Entertainment', 'Nightlife': 'Entertainment',\n",
        "\n",
        "                'Hotels': 'Entertainment', 'Travel': 'Entertainment',\n",
        "    \n",
        "                'Jewelry': 'Entertainment', 'Shopping': 'Entertainment', 'Hobby Shops': 'Entertainment', \n",
        "\n",
        "                'Fitness': 'Entertainment', 'Sporting Goods': 'Entertainment', 'Gyms': 'Entertainment', 'Sports Bars': 'Entertainment', \n",
        "            \n",
        "                'Banks': 'Financial Services', 'Financial Services': 'Financial Services',\n",
        "    \n",
        "                'Mass Media': 'Entertainment'\n",
        "        }"
      ],
      "execution_count": 10,
      "outputs": []
    },
    {
      "cell_type": "code",
      "metadata": {
        "scrolled": false,
        "id": "XHa3lBd-3gAq",
        "colab_type": "code",
        "colab": {
          "base_uri": "https://localhost:8080/",
          "height": 1000
        },
        "outputId": "00416077-4061-4994-a4fc-617762880245"
      },
      "source": [
        "cat = {}\n",
        "bad = []\n",
        "for x in df.categories:\n",
        "    flg = False\n",
        "    for cls in x:\n",
        "        cls = cls.strip()\n",
        "        if not cls in map_classes: continue\n",
        "        flg = True\n",
        "        mapped_cls = map_classes[cls]\n",
        "        if mapped_cls not in cat: cat[mapped_cls]=1\n",
        "        else: cat[mapped_cls]+=1\n",
        "    if flg is False:\n",
        "        bad.append(x)\n",
        "        \n",
        "print(len(bad))\n",
        "bad[:100]"
      ],
      "execution_count": 11,
      "outputs": [
        {
          "output_type": "stream",
          "text": [
            "450\n"
          ],
          "name": "stdout"
        },
        {
          "output_type": "execute_result",
          "data": {
            "text/plain": [
              "[['Education', ' Tutoring Centers'],\n",
              " ['Education', ' Middle Schools ', ' High Schools', ' Elementary Schools'],\n",
              " ['Education', ' Preschools', ' Montessori Schools'],\n",
              " ['Religious Organizations'],\n",
              " ['Specialty Schools', ' Education', ' Driving Schools'],\n",
              " ['Religious Organizations',\n",
              "  ' Elementary Schools',\n",
              "  ' Education',\n",
              "  ' Middle Schools ',\n",
              "  ' High Schools'],\n",
              " ['Specialty Schools', ' Tutoring Centers', ' Education'],\n",
              " ['Education', ' Colleges ', ' Universities'],\n",
              " ['Preschools', ' Education'],\n",
              " ['Education',\n",
              "  ' Colleges ',\n",
              "  ' Universities',\n",
              "  ' Elementary Schools',\n",
              "  ' Middle Schools ',\n",
              "  ' High Schools'],\n",
              " ['Colleges ', ' Universities', ' Education'],\n",
              " ['Test Preparation',\n",
              "  ' Private Tutors',\n",
              "  ' Educational Services',\n",
              "  ' Tutoring Centers',\n",
              "  ' Education'],\n",
              " ['Colleges ',\n",
              "  ' Universities',\n",
              "  ' Specialty Schools',\n",
              "  ' Education',\n",
              "  ' Art Schools'],\n",
              " ['Education', ' Elementary Schools'],\n",
              " ['Specialty Schools', ' Traffic Schools', ' Education'],\n",
              " ['Churches', ' Religious Organizations'],\n",
              " ['Religious Organizations'],\n",
              " ['Education', ' Preschools'],\n",
              " ['Religious Organizations', ' Churches'],\n",
              " ['Education', ' Preschools', ' Elementary Schools', ' Montessori Schools'],\n",
              " ['Religious Organizations', ' Churches'],\n",
              " ['Churches', ' Religious Organizations'],\n",
              " ['Elementary Schools', ' Education', ' Middle Schools ', ' High Schools'],\n",
              " ['Education', ' Colleges ', ' Universities'],\n",
              " ['Middle Schools ', ' High Schools', ' Elementary Schools', ' Education'],\n",
              " ['Education', ' Preschools'],\n",
              " ['Education', ' Specialty Schools'],\n",
              " ['Education', ' Special Education', ' Specialty Schools'],\n",
              " ['Religious Organizations', ' Churches'],\n",
              " ['Test Preparation',\n",
              "  ' Educational Services',\n",
              "  ' Tutoring Centers',\n",
              "  ' Education'],\n",
              " ['Education',\n",
              "  ' Middle Schools ',\n",
              "  ' High Schools',\n",
              "  ' Preschools',\n",
              "  ' Elementary Schools'],\n",
              " ['Preschools',\n",
              "  ' Middle Schools ',\n",
              "  ' High Schools',\n",
              "  ' Elementary Schools',\n",
              "  ' Education'],\n",
              " ['Local Flavor'],\n",
              " ['Education',\n",
              "  ' Colleges ',\n",
              "  ' Universities',\n",
              "  ' Specialty Schools',\n",
              "  ' Adult Education',\n",
              "  ' Vocational ',\n",
              "  ' Technical School'],\n",
              " ['Education',\n",
              "  ' Specialty Schools',\n",
              "  ' Adult Education',\n",
              "  ' Massage Schools',\n",
              "  ' Vocational ',\n",
              "  ' Technical School'],\n",
              " ['Middle Schools ',\n",
              "  ' High Schools',\n",
              "  ' Education',\n",
              "  ' Colleges ',\n",
              "  ' Universities'],\n",
              " ['Education', ' Middle Schools ', ' High Schools', ' Elementary Schools'],\n",
              " ['Religious Organizations', ' Churches'],\n",
              " ['Local Flavor', ' Yelp Events'],\n",
              " ['Education', ' Middle Schools ', ' High Schools'],\n",
              " ['Local Flavor', ' Yelp Events'],\n",
              " ['Religious Organizations', ' Churches'],\n",
              " ['Education', ' Elementary Schools'],\n",
              " ['Dance Schools', ' Specialty Schools', ' Education'],\n",
              " ['Education', ' Driving Schools', ' Specialty Schools'],\n",
              " ['Driving Schools', ' Education', ' Specialty Schools'],\n",
              " ['Education', ' Preschools'],\n",
              " ['Religious Organizations', ' Churches'],\n",
              " ['Colleges ', ' Universities', ' Education'],\n",
              " ['Test Preparation', ' Tutoring Centers', ' Private Tutors', ' Education'],\n",
              " ['Education', ' Elementary Schools', ' Middle Schools ', ' High Schools'],\n",
              " ['Education', ' Middle Schools ', ' High Schools'],\n",
              " ['Art Schools', ' Education', ' Educational Services', ' Specialty Schools'],\n",
              " ['Churches', ' Religious Organizations'],\n",
              " ['Churches', ' Religious Organizations'],\n",
              " ['Preschools', ' Elementary Schools', ' Education'],\n",
              " ['Religious Organizations', ' Churches'],\n",
              " ['Education', ' Specialty Schools', ' Driving Schools'],\n",
              " ['Art Schools', ' Education', ' Specialty Schools'],\n",
              " ['Childbirth Education',\n",
              "  ' Specialty Schools',\n",
              "  ' Special Education',\n",
              "  ' Educational Services',\n",
              "  ' Education',\n",
              "  ' Parenting Classes'],\n",
              " ['Colleges ',\n",
              "  ' Universities',\n",
              "  ' Education',\n",
              "  ' Adult Education',\n",
              "  ' Vocational ',\n",
              "  ' Technical School',\n",
              "  ' Specialty Schools'],\n",
              " ['Specialty Schools', ' Education', ' Driving Schools'],\n",
              " ['Churches', ' Religious Organizations'],\n",
              " ['Education',\n",
              "  ' Educational Services',\n",
              "  ' Specialty Schools',\n",
              "  ' First Aid Classes',\n",
              "  ' CPR Classes'],\n",
              " ['Middle Schools ',\n",
              "  ' High Schools',\n",
              "  ' Churches',\n",
              "  ' Religious Organizations',\n",
              "  ' Education'],\n",
              " ['Preschools',\n",
              "  ' Elementary Schools',\n",
              "  ' Education',\n",
              "  ' Middle Schools ',\n",
              "  ' High Schools',\n",
              "  ' Educational Services'],\n",
              " ['Local Flavor'],\n",
              " ['Adult Education', ' Education'],\n",
              " ['Colleges ',\n",
              "  ' Universities',\n",
              "  ' Education',\n",
              "  ' Vocational ',\n",
              "  ' Technical School',\n",
              "  ' Specialty Schools'],\n",
              " ['Local Flavor'],\n",
              " ['Religious Organizations', ' Churches'],\n",
              " ['Elementary Schools',\n",
              "  ' Preschools',\n",
              "  ' Middle Schools ',\n",
              "  ' High Schools',\n",
              "  ' Education',\n",
              "  ' Private Schools'],\n",
              " ['Education', ' CPR Classes', ' First Aid Classes', ' Specialty Schools'],\n",
              " ['Churches', ' Religious Organizations'],\n",
              " ['Yelp Events', ' Local Flavor'],\n",
              " ['Specialty Schools', ' Education', ' Art Classes', ' Art Schools'],\n",
              " ['Elementary Schools', ' Middle Schools ', ' High Schools', ' Education'],\n",
              " ['Churches',\n",
              "  ' Preschools',\n",
              "  ' Education',\n",
              "  ' Religious Organizations',\n",
              "  ' Elementary Schools',\n",
              "  ' Middle Schools ',\n",
              "  ' High Schools'],\n",
              " ['Religious Organizations', ' Synagogues'],\n",
              " ['Churches', ' Religious Organizations'],\n",
              " ['Synagogues', ' Religious Organizations'],\n",
              " ['Churches', ' Religious Organizations'],\n",
              " ['Churches', ' Religious Organizations'],\n",
              " ['Elementary Schools', ' Education', ' Middle Schools ', ' High Schools'],\n",
              " ['Colleges ', ' Universities', ' Education'],\n",
              " ['Private Tutors', ' Education'],\n",
              " ['Specialty Schools', ' Cosmetology Schools', ' Education'],\n",
              " ['Language Schools',\n",
              "  ' Colleges ',\n",
              "  ' Universities',\n",
              "  ' Education',\n",
              "  ' Specialty Schools'],\n",
              " ['Education', ' Elementary Schools'],\n",
              " ['Colleges ', ' Universities', ' Education'],\n",
              " ['Elementary Schools', ' Education', ' Middle Schools ', ' High Schools'],\n",
              " ['Private Tutors', ' Test Preparation', ' Tutoring Centers', ' Education'],\n",
              " ['Education', ' Tutoring Centers'],\n",
              " ['Middle Schools ',\n",
              "  ' High Schools',\n",
              "  ' Adult Education',\n",
              "  ' Education',\n",
              "  ' Educational Services',\n",
              "  ' Private Tutors',\n",
              "  ' Preschools'],\n",
              " ['Education', ' Colleges ', ' Universities', ' Adult Education'],\n",
              " ['Religious Organizations', ' Churches'],\n",
              " ['Religious Organizations', ' Churches'],\n",
              " ['Elementary Schools', ' Education'],\n",
              " ['Colleges ', ' Universities', ' Education'],\n",
              " ['Preschools', ' Education']]"
            ]
          },
          "metadata": {
            "tags": []
          },
          "execution_count": 11
        }
      ]
    },
    {
      "cell_type": "code",
      "metadata": {
        "id": "vyjjWVx23gAv",
        "colab_type": "code",
        "colab": {
          "base_uri": "https://localhost:8080/",
          "height": 34
        },
        "outputId": "6d8ef9b0-6a3a-434f-d28d-832e9b44edd0"
      },
      "source": [
        "classes_set = set(map_classes.values())\n",
        "classes_set"
      ],
      "execution_count": 12,
      "outputs": [
        {
          "output_type": "execute_result",
          "data": {
            "text/plain": [
              "{'Entertainment', 'Financial Services', 'Food', 'Health', 'Local Services'}"
            ]
          },
          "metadata": {
            "tags": []
          },
          "execution_count": 12
        }
      ]
    },
    {
      "cell_type": "code",
      "metadata": {
        "id": "1IiDFnyG3gAz",
        "colab_type": "code",
        "colab": {}
      },
      "source": [
        "test = []\n",
        "val = 0\n",
        "for arr in df['categories']:\n",
        "    test.append(None)\n",
        "    for x in arr:\n",
        "        cls = x.strip()\n",
        "        if not cls in map_classes:\n",
        "            continue\n",
        "        val += 1\n",
        "        test[-1] = map_classes[cls]\n",
        "        break"
      ],
      "execution_count": 13,
      "outputs": []
    },
    {
      "cell_type": "code",
      "metadata": {
        "id": "UtqMrfrP3gA3",
        "colab_type": "code",
        "colab": {}
      },
      "source": [
        "df['categories'] = test\n",
        "df = df[df['categories'].notnull()]"
      ],
      "execution_count": 14,
      "outputs": []
    },
    {
      "cell_type": "code",
      "metadata": {
        "scrolled": true,
        "id": "F4IiiLo23gA7",
        "colab_type": "code",
        "colab": {
          "base_uri": "https://localhost:8080/",
          "height": 374
        },
        "outputId": "8294ed54-4f8d-4eee-d328-66308cfa2c81"
      },
      "source": [
        "chart = sns.countplot(df['categories'], palette='hls')\n",
        "plt.title('Number of business per Category')\n",
        "chart.set_xticklabels(chart.get_xticklabels(), horizontalalignment='center', rotation=90);"
      ],
      "execution_count": 15,
      "outputs": [
        {
          "output_type": "display_data",
          "data": {
            "text/plain": [
              "<Figure size 432x288 with 1 Axes>"
            ],
            "image/png": "[encoded data removed]"
          },
          "metadata": {
            "tags": [],
            "image/png": {
              "width": 401,
              "height": 357
            },
            "needs_background": "light"
          }
        }
      ]
    },
    {
      "cell_type": "code",
      "metadata": {
        "id": "tvYiYLRA3gA_",
        "colab_type": "code",
        "colab": {
          "base_uri": "https://localhost:8080/",
          "height": 612
        },
        "outputId": "0b6c0190-74a8-4e29-942c-5950c120652d"
      },
      "source": [
        "df.info()"
      ],
      "execution_count": 16,
      "outputs": [
        {
          "output_type": "stream",
          "text": [
            "<class 'pandas.core.frame.DataFrame'>\n",
            "Int64Index: 55513 entries, 26583 to 49416\n",
            "Data columns (total 28 columns):\n",
            " #   Column          Non-Null Count  Dtype  \n",
            "---  ------          --------------  -----  \n",
            " 0   Unnamed: 0      55513 non-null  int64  \n",
            " 1   business_id     55513 non-null  object \n",
            " 2   name            55513 non-null  object \n",
            " 3   address         53149 non-null  object \n",
            " 4   city            55513 non-null  object \n",
            " 5   state           55513 non-null  object \n",
            " 6   postal_code     55405 non-null  object \n",
            " 7   latitude        55513 non-null  float64\n",
            " 8   longitude       55513 non-null  float64\n",
            " 9   stars           55513 non-null  float64\n",
            " 10  review_count    55513 non-null  int64  \n",
            " 11  is_open         55513 non-null  int64  \n",
            " 12  attributes      48106 non-null  object \n",
            " 13  categories      55513 non-null  object \n",
            " 14  hours           44794 non-null  object \n",
            " 15  url             55513 non-null  object \n",
            " 16  webpage_text    49966 non-null  object \n",
            " 17  1.0             55513 non-null  int64  \n",
            " 18  1.5             55513 non-null  int64  \n",
            " 19  2.0             55513 non-null  int64  \n",
            " 20  2.5             55513 non-null  int64  \n",
            " 21  3.0             55513 non-null  int64  \n",
            " 22  3.5             55513 non-null  int64  \n",
            " 23  4.0             55513 non-null  int64  \n",
            " 24  4.5             55513 non-null  int64  \n",
            " 25  5.0             55513 non-null  int64  \n",
            " 26  is_eng          55513 non-null  bool   \n",
            " 27  webpage_corpus  32245 non-null  object \n",
            "dtypes: bool(1), float64(3), int64(12), object(12)\n",
            "memory usage: 14.4+ MB\n"
          ],
          "name": "stdout"
        }
      ]
    },
    {
      "cell_type": "code",
      "metadata": {
        "id": "eO9NSXvX3gBD",
        "colab_type": "code",
        "colab": {
          "base_uri": "https://localhost:8080/",
          "height": 68
        },
        "outputId": "522ff69d-d55e-4f61-eca8-44f624185335"
      },
      "source": [
        "folder_path = os.path.join('/home/vahidsanei_google_com/data', 'uncased_L-12_H-768_A-12')\n",
        "\n",
        "print (folder_path)\n",
        "tokenizer = FullTokenizer(vocab_file=os.path.join(folder_path, 'vocab.txt'))\n",
        "\n",
        "bert_ckpt_file = os.path.join(folder_path, 'bert_model.ckpt')\n",
        "bert_config_file = os.path.join(folder_path, 'bert_config.json')\n",
        "\n",
        "tokens_test = tokenizer.tokenize('This is an open-source project for category detection of businesses based on their website contents!')\n",
        "print(tokens_test)\n",
        "print(tokenizer.convert_tokens_to_ids(tokens_test))"
      ],
      "execution_count": 17,
      "outputs": [
        {
          "output_type": "stream",
          "text": [
            "/home/vahidsanei_google_com/data/uncased_L-12_H-768_A-12\n",
            "['this', 'is', 'an', 'open', '-', 'source', 'project', 'for', 'category', 'detection', 'of', 'businesses', 'based', 'on', 'their', 'website', 'contents', '!']\n",
            "[2023, 2003, 2019, 2330, 1011, 3120, 2622, 2005, 4696, 10788, 1997, 5661, 2241, 2006, 2037, 4037, 8417, 999]\n"
          ],
          "name": "stdout"
        }
      ]
    },
    {
      "cell_type": "code",
      "metadata": {
        "id": "w7GdEPVmWazn",
        "colab_type": "code",
        "colab": {}
      },
      "source": [
        "def flatten_layers(root_layer):\n",
        "    if isinstance(root_layer, keras.layers.Layer):\n",
        "        yield root_layer\n",
        "    for layer in root_layer._layers:\n",
        "        for sub_layer in flatten_layers(layer):\n",
        "            yield sub_layer\n",
        "\n",
        "\n",
        "def freeze_bert_layers(l_bert):\n",
        "    \"\"\"\n",
        "    Freezes all but LayerNorm and adapter layers - see arXiv:1902.00751.\n",
        "    \"\"\"\n",
        "    for layer in flatten_layers(l_bert):\n",
        "        if layer.name in [\"LayerNorm\", \"adapter-down\", \"adapter-up\"]:\n",
        "            layer.trainable = True\n",
        "        elif len(layer._layers) == 0:\n",
        "            layer.trainable = False\n",
        "        l_bert.embeddings_layer.trainable = False"
      ],
      "execution_count": 18,
      "outputs": []
    },
    {
      "cell_type": "code",
      "metadata": {
        "id": "JXXZLnLC3gBH",
        "colab_type": "code",
        "colab": {}
      },
      "source": [
        "class categoryDetection:    \n",
        "    def __init__(self, train, test, tokenizer: FullTokenizer, text_colname=None, label_colname=None, max_seq_len=128):\n",
        "        \"\"\"  \n",
        "        \"\"\"\n",
        "        self.text_colname = 'webpage_corpus' if text_colname is None else text_colname\n",
        "        if not self.text_colname in train.columns or not self.text_colname in test.columns:\n",
        "            print('Error: Please specify a proper column name in the input dataframe as the corpus.')\n",
        "            return\n",
        "        \n",
        "        self.label_colname = 'categories' if label_colname is None else label_colname\n",
        "        if not self.label_colname in train.columns or not self.label_colname in test.columns:\n",
        "            print('Error: Please specify a proper column name in the input dataframe as the labels.')\n",
        "            return\n",
        "        \n",
        "        self.classes = train[self.label_colname].unique().tolist()\n",
        "        self.classes.sort()\n",
        "        \n",
        "        train = train.dropna(subset=[self.text_colname])\n",
        "        test = test.dropna(subset=[self.text_colname])\n",
        "        \n",
        "        self.max_seq_len = 512\n",
        "        self.tokenizer = tokenizer\n",
        "        (self.train_x, self.train_y), (self.test_x, self.test_y) = map(self._tokanize, [train, test])\n",
        "        self.max_seq_len = min(self.max_seq_len, max_seq_len)\n",
        "        self.train_x, self.test_x = map(self._cut_with_padding, [self.train_x, self.test_x])\n",
        "    \n",
        "    def build_model(self, bert_config_file, bert_ckpt_file, dropout=0.6, adapter_size=64):\n",
        "        \"\"\"\n",
        "        \"\"\"\n",
        "        bert = self._load_bert(bert_config_file, bert_ckpt_file, adapter_size)\n",
        "        input_ = keras.layers.Input(shape=(self.max_seq_len, ), dtype='int64', name=\"input_ids\")\n",
        "        x = bert(input_)\n",
        "        #get the first embedding from the output of BERT\n",
        "        x = keras.layers.Lambda(lambda seq: seq[:,0,:])(x)\n",
        "        \n",
        "        x = keras.layers.Dropout(dropout)(x)\n",
        "        #x = keras.layers.Dense(300, activation='relu')(x)\n",
        "        #x = keras.layers.Dense(300, activation='relu')(x)\n",
        "        output_ = keras.layers.Dense(units=len(self.classes), activation='relu')(x)\n",
        "        \n",
        "        model = keras.Model(inputs=input_, outputs=output_)\n",
        "        model.build(input_shape=(None, self.max_seq_len))\n",
        "        \n",
        "        load_stock_weights(bert, bert_ckpt_file)\n",
        "        \n",
        "        if adapter_size is not None:\n",
        "          freeze_bert_layers(bert)\n",
        " \n",
        "        return model\n",
        "    \n",
        "    def _load_bert(self, bert_config_file, bert_ckpt_file, adapter_size):\n",
        "        try:\n",
        "            with tf.io.gfile.GFile(bert_config_file, 'r') as gf:\n",
        "                bert_config = StockBertConfig.from_json_string(gf.read())\n",
        "                bert_params = map_stock_config_to_params(bert_config)\n",
        "                bert_params.adapter_size = adapter_size\n",
        "                bert = BertModelLayer.from_params(bert_params, name='bert')\n",
        "                return bert\n",
        "        except Exception as e:\n",
        "            print(e)\n",
        "    \n",
        "    def _tokanize(self, df):\n",
        "        \"\"\"\n",
        "        \"\"\"\n",
        "        X, y = [], []\n",
        "        all_tokens = []\n",
        "        for _, entry in tqdm(df.iterrows()):\n",
        "            corpus, label = entry[self.text_colname], entry[self.label_colname]\n",
        "            tokens = self.tokenizer.tokenize(corpus)\n",
        "            tokens = self._clean_tokens(tokens)\n",
        "            tokens = ['[CLS]'] + tokens + ['[SEP]']\n",
        "            L = 0\n",
        "            for x in tokens:\n",
        "                if '#' in x: continue\n",
        "                L += 1\n",
        "            L -= 2\n",
        "            if L <= 50:\n",
        "            #    print(tokens)\n",
        "                continue\n",
        "            all_tokens.append(tokens)\n",
        "            ids = self.tokenizer.convert_tokens_to_ids(tokens)\n",
        "            self.max_seq_len = max(self.max_seq_len, len(ids))\n",
        "            X.append(ids)\n",
        "            y.append(self.classes.index(label))\n",
        "            \n",
        "        print('{}%'.format(len(X) / len(df) * 100.0))\n",
        "        all_tokens = sorted(all_tokens, key=lambda x: len(x))\n",
        "        print(all_tokens[:20])\n",
        "        \n",
        "        return np.asarray(X), np.asarray(y)\n",
        "    \n",
        "    \n",
        "    def _clean_tokens(self, tokens):\n",
        "        # STOPS = set(stopwords.words('english'))\n",
        "        clean_tokens = []\n",
        "        for token in tokens:\n",
        "            if any(map(str.isdigit, token)): \n",
        "                continue\n",
        "            clean_tokens.append(token)\n",
        "        return clean_tokens\n",
        "    def _cut_with_padding(self, ids):\n",
        "        \"\"\"\n",
        "        \"\"\"\n",
        "        X = []\n",
        "        CLS_id = self.tokenizer.convert_tokens_to_ids(['[CLS]'])\n",
        "        SEP_id = self.tokenizer.convert_tokens_to_ids(['[SEP]'])\n",
        "        for token_id in ids:\n",
        "            # ignore tokens '[CLS]' and '[SEP]' for now\n",
        "            arr = token_id[1:-1]\n",
        "            sz = min(len(arr), self.max_seq_len - 2)\n",
        "            arr = CLS_id + arr[:sz] + SEP_id\n",
        "            # pad the remaining cells with zero\n",
        "            arr = arr + [0] * (self.max_seq_len - len(arr))\n",
        "            X.append(np.asarray(arr))\n",
        "        return np.asarray(X)"
      ],
      "execution_count": 19,
      "outputs": []
    },
    {
      "cell_type": "code",
      "metadata": {
        "id": "NK7LwduhV25Y",
        "colab_type": "code",
        "colab": {}
      },
      "source": [
        ""
      ],
      "execution_count": 19,
      "outputs": []
    },
    {
      "cell_type": "code",
      "metadata": {
        "id": "m-vbMu8Q3gBN",
        "colab_type": "code",
        "colab": {}
      },
      "source": [
        "def compile_model(cat:categoryDetection, model, validation_split=0.05, batch_size=16, n_epochs=50, shuffle=True):\n",
        "    log_dir = \"/home/wliang_google_com/Documents/workspace/notebook/.log/website_rating/\" + datetime.datetime.now().strftime(\"%Y%m%d-%H%M%s\")\n",
        "    tensorboard_callback = keras.callbacks.TensorBoard(log_dir=log_dir)\n",
        "\n",
        "    model.compile(optimizer=keras.optimizers.Adam(1e-5),\n",
        "              loss=keras.losses.SparseCategoricalCrossentropy(from_logits=True),\n",
        "              metrics=[keras.metrics.SparseCategoricalAccuracy(name='acc')])\n",
        "    print(model.summary())\n",
        "    # early_stopping = tf.keras.callbacks.EarlyStopping(monitor='loss', patience=5)\n",
        "    history = model.fit(\n",
        "        x=cat.train_x,\n",
        "        y=cat.train_y,\n",
        "        validation_split=validation_split,\n",
        "        batch_size=batch_size,\n",
        "        shuffle=shuffle,\n",
        "        verbose=1,\n",
        "        epochs=n_epochs,\n",
        "        callbacks=[tensorboard_callback],\n",
        "    )"
      ],
      "execution_count": 20,
      "outputs": []
    },
    {
      "cell_type": "code",
      "metadata": {
        "id": "I_KI1aqt3gBS",
        "colab_type": "code",
        "colab": {}
      },
      "source": [
        "split_sz = int(len(df) * 0.8)\n",
        "train = df[:split_sz]\n",
        "test = df[split_sz:]"
      ],
      "execution_count": 21,
      "outputs": []
    },
    {
      "cell_type": "code",
      "metadata": {
        "id": "jd9IT57A3gBW",
        "colab_type": "code",
        "colab": {
          "base_uri": "https://localhost:8080/",
          "height": 139
        },
        "outputId": "53e9eb41-0311-481b-cc3e-3e02b597f28d"
      },
      "source": [
        "cat = categoryDetection(train, test, tokenizer, max_seq_len=256)"
      ],
      "execution_count": 22,
      "outputs": [
        {
          "output_type": "stream",
          "text": [
            "25676it [05:23, 79.43it/s] \n"
          ],
          "name": "stderr"
        },
        {
          "output_type": "stream",
          "text": [
            "81.28213117307992%\n",
            "[['[CLS]', 'newman', 'arms', 'vegas', 'home', 'about', 'newman', 'contact', 'products', 'used', 'guns', 'specials', 'coating', '##s', 'modifications', 'events', 'home', 'about', 'newman', 'contact', 'products', 'used', 'guns', 'specials', 'coating', '##s', 'modifications', 'events', 'home', 'click', 'here', 'click', 'here', 'click', 'here', 'click', 'here', 'click', 'here', 'location', 'north', 'boulder', 'highway', 'suite', 'a', 'henderson', 'nevada', 'follow', 'contact', 'us', 'powered', 'by', 'red', 'wing', 'solutions', '[SEP]'], ['[CLS]', 'new', 'york', 'fries', 'accessible', 'customer', 'service', 'policy', 'privacy', 'policy', 'menu', 'our', 'food', 'loyalty', 'program', 'gift', 'cards', 'locations', 'international', 'locations', 'view', 'all', 'ny', '##f', 'locations', 'work', 'here', 'franchise', 'contact', 'contact', 'information', 'customer', 'service', 'work', 'here', 'franchise', 'information', 'promotions', 'facebook', 'twitter', 'ins', '##tagram', 'ny', '##f', 'location', 'south', 'centre', 'mall', 'open', 'anderson', 'road', 'se', 'calgary', 'alberta', 'canada', '[SEP]'], ['[CLS]', 'sunrise', 'coffee', 'main', 'mail', '##ing', 'list', 'drink', 'menu', 'food', 'menu', 'about', 'contact', 'online', 'ordering', 'menu', 'e', 'sunset', 'rd', 'ste', 'a', 'las', 'vegas', 'n', '##v', 'your', 'neighborhood', 'coffee', 'shop', 'your', 'custom', 'text', 'here', 'main', 'mail', '##ing', 'list', 'drink', 'menu', 'food', 'menu', 'about', 'contact', 'online', 'ordering', 'you', 'must', 'select', 'a', 'collection', 'to', 'display', 'powered', 'by', 'squares', '##pace', '[SEP]'], ['[CLS]', 'page', 'not', 'found', 'page', 'not', 'found', 'sorry', 'for', 'the', 'inc', '##on', '##ven', '##ience', 'the', 'page', 'you', 'are', 'trying', 'to', 'view', 'is', 'not', 'at', 'this', 'link', 'the', 'page', 'location', 'may', 'have', 'changed', 'or', 'the', 'ur', '##l', 'may', 'be', 'entered', 'incorrectly', 'here', 'are', 'some', 'alternatives', 'to', 'locate', 'the', 'information', 'you', 'seek', 'home', 'page', 'contact', 'us', 'site', 'map', '[SEP]'], ['[CLS]', 'hard', 'rock', 'hotel', 'casino', 'in', 'las', 'vegas', 'is', 'closed', 'get', 'on', 'the', 'list', 'click', 'here', 'to', 'get', 'exciting', 'updates', 'on', 'our', 'transformation', 'guest', 'relations', 'call', 'or', 'email', 'email', 'protected', 'billing', 'questions', 'call', 'or', 'email', 'email', 'protected', 'for', 'events', 'meetings', 'conventions', 'click', 'here', 'for', 'all', 'other', 'group', 'inquiries', 'click', 'here', 'contact', 'us', 'monday', 'friday', '##am', '##pm', 'call', '[SEP]'], ['[CLS]', 'hard', 'rock', 'hotel', 'casino', 'in', 'las', 'vegas', 'is', 'closed', 'get', 'on', 'the', 'list', 'click', 'here', 'to', 'get', 'exciting', 'updates', 'on', 'our', 'transformation', 'guest', 'relations', 'call', 'or', 'email', 'email', 'protected', 'billing', 'questions', 'call', 'or', 'email', 'email', 'protected', 'for', 'events', 'meetings', 'conventions', 'click', 'here', 'for', 'all', 'other', 'group', 'inquiries', 'click', 'here', 'contact', 'us', 'monday', 'friday', '##am', '##pm', 'call', '[SEP]'], ['[CLS]', 'hard', 'rock', 'hotel', 'casino', 'in', 'las', 'vegas', 'is', 'closed', 'get', 'on', 'the', 'list', 'click', 'here', 'to', 'get', 'exciting', 'updates', 'on', 'our', 'transformation', 'guest', 'relations', 'call', 'or', 'email', 'email', 'protected', 'billing', 'questions', 'call', 'or', 'email', 'email', 'protected', 'for', 'events', 'meetings', 'conventions', 'click', 'here', 'for', 'all', 'other', 'group', 'inquiries', 'click', 'here', 'contact', 'us', 'monday', 'friday', '##am', '##pm', 'call', '[SEP]'], ['[CLS]', 'hampton', 'hampton', 'collections', 'home', 'reports', 'nr', '##s', 'contact', 'us', 'who', 'we', 'are', 'hampton', 'hampton', 'collections', 'llc', 'collects', 'del', '##in', '##quent', 'assessments', 'for', 'community', 'associations', 'in', 'nevada', 'we', 'believe', 'our', 'experienced', 'and', 'professional', 'staff', 'provides', 'the', 'highest', 'quality', 'service', 'to', 'community', 'associations', 'please', 'contact', 'our', 'office', 'for', 'more', 'information', 'regarding', 'our', 'services', 'x', '##c', '##xa', 'hampton', 'hampton', '[SEP]'], ['[CLS]', 'hard', 'rock', 'hotel', 'casino', 'in', 'las', 'vegas', 'is', 'closed', 'get', 'on', 'the', 'list', 'click', 'here', 'to', 'get', 'exciting', 'updates', 'on', 'our', 'transformation', 'guest', 'relations', 'call', 'or', 'email', 'email', 'protected', 'billing', 'questions', 'call', 'or', 'email', 'email', 'protected', 'for', 'events', 'meetings', 'conventions', 'click', 'here', 'for', 'all', 'other', 'group', 'inquiries', 'click', 'here', 'contact', 'us', 'monday', 'friday', '##am', '##pm', 'call', '[SEP]'], ['[CLS]', 'page', 'not', 'found', 'pa', '##vao', 'meat', '##s', 'del', '##i', 'home', 'about', 'blog', 'careers', 'contact', 'shop', 'online', 'select', 'page', 'no', 'results', 'found', 'the', 'page', 'you', 'requested', 'could', 'not', 'be', 'found', 'try', 'refining', 'your', 'search', 'or', 'use', 'the', 'navigation', 'above', 'to', 'locate', 'the', 'post', 'facebook', 'twitter', 'google', 'ins', '##tagram', 'rs', '##s', 'designed', 'by', 'elegant', 'themes', 'powered', 'by', 'word', '##press', '[SEP]'], ['[CLS]', 'new', 'york', 'fries', 'accessible', 'customer', 'service', 'policy', 'privacy', 'policy', 'menu', 'our', 'food', 'loyalty', 'program', 'gift', 'cards', 'locations', 'international', 'locations', 'view', 'all', 'ny', '##f', 'locations', 'work', 'here', 'franchise', 'contact', 'contact', 'information', 'customer', 'service', 'work', 'here', 'franchise', 'information', 'promotions', 'facebook', 'twitter', 'ins', '##tagram', 'ny', '##f', 'location', 'mark', '##ville', 'shopping', 'centre', 'open', 'highway', 'at', 'mcc', '##owa', '##n', 'markham', 'ontario', 'canada', '[SEP]'], ['[CLS]', 'l', '##ve', '##eve', '##gas', 'copyright', 'all', 'rights', 'reserved', 'the', 'sponsored', 'listings', 'displayed', 'above', 'are', 'served', 'automatically', 'by', 'a', 'third', 'party', 'neither', 'the', 'service', 'provider', 'nor', 'the', 'domain', 'owner', 'maintain', 'any', 'relationship', 'with', 'the', 'ad', '##vert', '##iser', '##s', 'in', 'case', 'of', 'trademark', 'issues', 'please', 'contact', 'the', 'domain', 'owner', 'directly', 'contact', 'information', 'can', 'be', 'found', 'in', 'who', '##is', 'privacy', 'policy', '[SEP]'], ['[CLS]', 'foley', '##s', 'ac', 'serving', 'the', 'east', 'valley', 'heating', 'cooling', 'for', 'fast', 'service', 'call', 'us', 'to', '##ggle', 'navigation', 'home', 'services', 'reviews', 'contact', 'us', 'free', 'instant', 'quote', 'thank', 'you', 'for', 'your', 'interest', 'in', 'a', 'new', 'unit', 'your', 'name', 'required', 'your', 'email', 'required', 'size', 'of', 'unit', 'needed', 'required', 'subject', 'your', 'message', 'home', 'have', 'any', 'questions', 'call', 'now', 'foley', '##sa', '##cco', '##m', '[SEP]'], ['[CLS]', 'two', 'bucks', 'happy', 'hour', 'every', 'hour', 'detroit', 'road', 'avon', 'ohio', 'home', 'menu', 'locations', 'order', 'online', 'gallery', 'fundraising', 'jobs', 'contact', 'us', 'more', 'follow', 'us', 'all', 'dining', 'rooms', 'and', 'patio', '##s', 'are', 'open', 'with', 'social', 'di', '##stan', '##cing', 'rules', 'in', 'effect', 'thank', 'you', 'for', 'your', 'continued', 'support', 'curb', '##side', 'pickup', 'delivery', 'available', 'now', 'place', 'an', 'order', 'check', 'us', 'out', 'on', '[SEP]'], ['[CLS]', 'dancing', 'leaf', 'spa', 'escape', 'cornelius', 'north', 'carolina', 'welcome', 'about', 'us', 'salon', 'services', 'skin', 'care', 'classic', 'facial', 'treatments', 'pu', '##ri', '##fying', 'age', 'def', '##ying', 'spa', 'extras', 'body', 'treatments', 'massage', 'therapy', 'general', 'spa', 'info', 'join', 'our', 'team', 'gift', 'certificates', 'contact', 'us', 'take', 'a', 'virtual', 'tour', 'click', 'here', 'for', 'an', 'online', 'tour', 'of', 'our', 'salon', 'dancing', 'leaf', 'spa', 'all', 'rights', 'reserved', '[SEP]'], ['[CLS]', 'the', 'barker', 'lounge', 'dogg', '##y', 'day', '##care', 'boarding', 'groom', '##ing', 'and', 'training', 'find', 'your', 'lounge', 'florida', 'fort', 'myers', 'jupiter', 'coming', 'soon', 'georgia', 'alpha', '##ret', '##ta', 'new', 'jersey', 'cr', '##an', '##ford', 'east', 'brunswick', 'livingston', 'coming', 'soon', 'south', 'morris', 'county', 'coming', 'soon', 'north', 'carolina', 'charlotte', 'east', 'charlotte', 'south', 'carolina', 'charleston', 'find', 'your', 'location', 'why', 'tb', '##l', 'sign', 'up', 'now', 'reserve', 'online', '[SEP]'], ['[CLS]', 'breakout', 'calgary', 'escape', 'game', 'close', 'form', 'no', 'wi', '##dget', 'add', 'the', 'wi', '##dgets', 'here', 'close', 'form', 'breakout', 'calgary', 'is', 'now', 'closed', 'breakout', 'calgary', 'is', 'officially', 'closed', 'please', 'visit', 'our', 'other', 'locations', 'in', 'edmonton', 'our', 'edmonton', 'locations', 'would', 'gladly', 'red', '##eem', 'any', 'gift', 'cards', 'purchased', 'at', 'our', 'calgary', 'location', 'view', 'edmonton', '##s', 'website', 'copyright', 'x', '##c', '##xa', 'by', 'breakout', 'entertainment', '[SEP]'], ['[CLS]', 'reasons', 'banquet', 'and', 'events', 'hall', 'were', 'open', 'the', 'state', 'of', 'nevada', 'has', 'given', 'our', 'hall', 'permission', 'to', 're', '##open', 'under', 'specific', 'limitations', 'we', 'will', 'start', 'accepting', 'reservations', 'for', 'dates', 'starting', 'in', 'late', 'june', 'the', 'state', 'has', 'currently', 'placed', 'a', 'limit', 'on', 'the', 'number', 'of', 'occupants', 'please', 'call', 'or', 'email', 'for', 'more', 'information', 'thank', 'you', 'explore', 'our', 'website', 'contact', 'us', '[SEP]'], ['[CLS]', 'food', 'society', 'x', 'home', 'beauty', 'chronic', 'pain', 'weight', 'loss', 'contact', 'us', 'home', 'beauty', 'chronic', 'pain', 'weight', 'loss', 'contact', 'us', 'no', 'results', 'were', 'sorry', 'but', 'your', 'query', 'did', 'not', 'match', 'can', '##t', 'find', 'what', 'you', 'need', 'take', 'a', 'moment', 'and', 'do', 'a', 'search', 'below', 'or', 'start', 'from', 'our', 'home', '##page', 'search', 'for', 'recent', 'comments', 'copyright', 'x', '##c', '##xa', 'all', 'rights', 'reserved', '[SEP]'], ['[CLS]', 'simply', 'wellness', '##si', '##mp', '##ly', 'yoga', 'wellness', 'join', 'us', 'private', 'in', '##person', 'sessions', 'or', 'virtual', 'june', 'visit', 'our', 'schedule', 'to', 'register', 'check', 'the', 'how', 'to', 'register', 'page', 'to', 'get', 'plug', '##ged', 'into', 'class', 'may', 'you', 'be', 'happy', 'may', 'you', 'be', 'healthy', 'may', 'you', 'be', 'safe', 'may', 'you', 'live', 'with', 'ease', 'app', 'store', 'or', 'google', 'schedule', 'enter', 'site', 'y', '##tt', 'purchase', '[SEP]']]\n"
          ],
          "name": "stdout"
        },
        {
          "output_type": "stream",
          "text": [
            "6569it [01:23, 78.55it/s] \n"
          ],
          "name": "stderr"
        },
        {
          "output_type": "stream",
          "text": [
            "80.45364591261989%\n",
            "[['[CLS]', 'hard', 'rock', 'hotel', 'casino', 'in', 'las', 'vegas', 'is', 'closed', 'get', 'on', 'the', 'list', 'click', 'here', 'to', 'get', 'exciting', 'updates', 'on', 'our', 'transformation', 'guest', 'relations', 'call', 'or', 'email', 'email', 'protected', 'billing', 'questions', 'call', 'or', 'email', 'email', 'protected', 'for', 'events', 'meetings', 'conventions', 'click', 'here', 'for', 'all', 'other', 'group', 'inquiries', 'click', 'here', 'contact', 'us', 'monday', 'friday', '##am', '##pm', 'call', '[SEP]'], ['[CLS]', 'dance', 'and', 'fitness', 'studio', 'cornerstone', 'studio', 'east', 'toronto', 'dance', 'fitness', 'together', 'welcome', 'to', 'the', 'cornerstone', 'studio', 'a', 'boutique', 'east', 'end', 'community', 'hub', 'offering', 'dance', 'and', 'fitness', 'programs', 'to', 'the', 'families', 'of', 'the', 'ge', '##rrard', 'india', 'bazaar', 'since', 'im', 'interested', 'in', 'dance', 'im', 'interested', 'in', 'fitness', 'im', 'interested', 'in', 'dance', 'im', 'interested', 'in', 'fitness', 'facebook', 'twitter', 'ins', '##tagram', 'youtube', '[SEP]'], ['[CLS]', 'el', 'tori', '##to', 'we', 'know', 'mexican', 'skip', 'to', 'main', 'content', 'online', 'order', 'online', 'catering', 'menu', 'online', 'order', 'online', 'catering', 'menu', 'locations', 'catering', 'private', 'events', 'careers', 'order', 'now', 'facebook', 'ins', '##tagram', 'twitter', 'about', 'us', 'careers', 'contact', 'us', 'accessibility', 'privacy', 'policy', 'gift', 'cards', 'el', 'tori', '##to', 'ec', '##lub', 'x', '##c', '##xa', 'xp', '##erie', '##nce', 'restaurant', 'group', 'all', 'rights', 'reserved', 'back', 'to', 'top', '[SEP]'], ['[CLS]', 'howard', 'johnson', 'hotels', 'site', 'temporarily', 'unavailable', 'this', 'website', 'is', 'temporarily', 'unavailable', 'but', 'well', 'be', 'back', 'soon', 'for', 'reservations', 'dial', 'when', 'calling', 'outside', 'of', 'the', 'us', 'or', 'canada', 'dial', 'we', 'apologize', 'for', 'any', 'inc', '##on', '##ven', '##ience', 'and', 'appreciate', 'your', 'patience', 'thank', 'you', 'for', 'visiting', 'howard', 'johnson', 'hotels', 'howard', 'johnson', 'international', 'inc', 'all', 'rights', 'reserved', 'all', 'hotels', 'are', 'independently', 'owned', 'and', 'operated', '[SEP]'], ['[CLS]', 'spa', 'doctor', 'of', 'las', 'vegas', 'spa', 'doctor', 'of', 'las', 'vegas', 'you', 'have', 'come', 'to', 'the', 'right', 'place', 'yes', 'we', 'are', 'open', 'our', 'website', 'is', 'under', 'construction', 'please', 'use', 'out', 'contact', 'line', 'for', 'any', 'spa', 'related', 'service', 'request', 'we', 'look', 'forward', 'to', 'serving', 'you', 'soon', 'online', 'thank', 'you', 'rick', 'the', 'spa', 'doctor', 'contact', 'information', 'contact', '##uss', '##pad', '##oc', '##tor', '##l', '##vc', '##om', '[SEP]'], ['[CLS]', 'a', 'separate', 'reality', 'records', 'a', 'separate', 'reality', 'records', 'detroit', 'ave', 'cleveland', '##oh', 'we', 'buy', 'records', 'record', 'collections', 'more', 'home', 'about', 'contact', 'services', 'articles', 'web', 'store', 'rare', 'collect', '##able', 'records', '##to', '##day', 'buys', '##ell', '##tra', '##de', 'we', 'buy', 'records', 'and', 'large', 'record', 'collections', 'click', 'here', 'to', 'edit', 'text', 'thanks', 'for', 'visiting', 'we', 'are', 'always', 'buying', 'records', 'quality', 'record', 'collections', 'detroit', 'ave', 'cleveland', '##oh', '[SEP]'], ['[CLS]', 'the', 'tea', '##pot', 'a', 'family', 'friendly', 'coffee', 'shop', 'event', 'space', 'about', 'hours', 'events', 'contact', 'lets', 'get', 'social', 'the', 'tea', '##pot', 'blog', 'shop', 'the', 'coffee', 'shop', 'is', 'now', 'closed', 'for', 'summer', 'we', 'start', 'back', 'in', 'action', 'september', 'follow', 'us', 'here', 'hours', 'th', '##urs', '##sun', 'email', 'info', '##the', '##tea', '##pot', '##us', '##com', 'about', 'hours', 'events', 'contact', 'lets', 'get', 'social', 'the', 'tea', '##pot', 'blog', 'shop', '[SEP]'], ['[CLS]', 'hobby', '##pe', '##ople', '##net', 'hobby', '##pe', '##ople', '##net', 'copyright', 'all', 'rights', 'reserved', 'the', 'sponsored', 'listings', 'displayed', 'above', 'are', 'served', 'automatically', 'by', 'a', 'third', 'party', 'neither', 'the', 'service', 'provider', 'nor', 'the', 'domain', 'owner', 'maintain', 'any', 'relationship', 'with', 'the', 'ad', '##vert', '##iser', '##s', 'in', 'case', 'of', 'trademark', 'issues', 'please', 'contact', 'the', 'domain', 'owner', 'directly', 'contact', 'information', 'can', 'be', 'found', 'in', 'who', '##is', 'privacy', 'policy', '[SEP]'], ['[CLS]', 'accredited', 'family', 'healthcare', 'located', 'in', 'gilbert', 'az', 'serving', 'the', 'east', 'valley', 'skip', 'to', 'content', 'accredited', 'family', 'healthcare', 'located', 'in', 'gilbert', 'az', 'serving', 'the', 'east', 'valley', 'welcome', 'patient', 'information', 'contact', 'information', 'tel', '##eme', '##d', 'visits', 'welcome', 'tel', '##e', 'med', 'visits', 'portal', 'log', '##in', 'w', 'elliot', 'rd', 'b', '##ld', '##g', 'suite', 'search', 'for', 'copyright', 'accredited', 'family', 'healthcare', 'ascension', 'word', '##press', 'theme', 'by', 'god', '##ad', '##dy', '[SEP]'], ['[CLS]', 'ga', '##rgan', '##os', 'catering', 'home', 'welcome', 'to', 'ga', '##ragan', '##os', 'open', 'days', 'a', 'week', '##am', '##pm', 'located', 'at', 'west', 'street', 'cleveland', 'ohio', 'ph', 'ph', 'check', 'your', 'gift', 'card', 'balance', 'copyright', 'x', '##c', '##xa', 'ga', '##rgan', '##os', 'all', 'rights', 'reserved', 'new', 'gift', 'loyalty', 'program', 'spend', 'get', 'cash', '##back', 'visit', 'times', 'get', 'off', 'next', 'visit', 'contact', 'us', 'for', 'more', 'details', 'home', 'restaurant', 'menu', 'catering', 'menu', '[SEP]'], ['[CLS]', 'counsel', '##ling', 'therapy', 'and', 'wellness', 'x', '##c', '##xa', 'now', 'feel', 'good', 'counsel', '##ling', 'therapy', 'services', 'calgary', 'alberta', 'canada', 'now', 'available', 'in', 'the', 'comfort', 'of', 'your', 'own', 'home', 'book', 'an', 'appointment', 'i', 'offer', 'an', 'array', 'of', 'online', 'remote', 'distance', 'counsel', '##ling', 'and', 'therapy', 'options', 'phone', 'web', '##cam', 'sky', '##pe', 'duo', 'zoom', 'etc', 'home', 'contact', 'about', 'services', 'resources', 'events', 'veterans', 'and', 'groups', 'view', 'on', 'mobile', '[SEP]'], ['[CLS]', 'internal', 'server', 'error', 'internal', 'server', 'error', 'the', 'server', 'encountered', 'an', 'internal', 'error', 'or', 'mis', '##con', '##fi', '##gur', '##ation', 'and', 'was', 'unable', 'to', 'complete', 'your', 'request', 'please', 'contact', 'the', 'server', 'administrator', 'and', 'inform', 'them', 'of', 'the', 'time', 'the', 'error', 'occurred', 'and', 'anything', 'you', 'might', 'have', 'done', 'that', 'may', 'have', 'caused', 'the', 'error', 'more', 'information', 'about', 'this', 'error', 'may', 'be', 'available', 'in', 'the', 'server', 'error', 'log', '[SEP]'], ['[CLS]', 'your', 'favorite', 'food', 'restaurants', 'hotels', 'travel', 'more', 'the', 'green', 'house', 'tavern', 'search', 'search', 'above', 'for', 'anything', 'on', 'the', 'internet', 'be', 'it', 'hotels', 'restaurants', 'travel', 'just', 'any', 'damn', 'thing', 'under', 'the', 'sun', 'copyright', 'the', 'green', 'house', 'tavern', 'your', 'ultimate', 'destination', 'for', 'food', 'restaurants', 'hotels', 'vacation', '##s', 'search', 'anything', 'everything', 'on', 'the', 'web', 'privacy', 'policy', 'contact', 'us', 'contact', 'at', 'the', '##gree', '##nh', '##ouse', '##ta', '##vern', '##com', '[SEP]'], ['[CLS]', 'internal', 'server', 'error', 'internal', 'server', 'error', 'the', 'server', 'encountered', 'an', 'internal', 'error', 'or', 'mis', '##con', '##fi', '##gur', '##ation', 'and', 'was', 'unable', 'to', 'complete', 'your', 'request', 'please', 'contact', 'the', 'server', 'administrator', 'and', 'inform', 'them', 'of', 'the', 'time', 'the', 'error', 'occurred', 'and', 'anything', 'you', 'might', 'have', 'done', 'that', 'may', 'have', 'caused', 'the', 'error', 'more', 'information', 'about', 'this', 'error', 'may', 'be', 'available', 'in', 'the', 'server', 'error', 'log', '[SEP]'], ['[CLS]', 'internal', 'server', 'error', 'internal', 'server', 'error', 'the', 'server', 'encountered', 'an', 'internal', 'error', 'or', 'mis', '##con', '##fi', '##gur', '##ation', 'and', 'was', 'unable', 'to', 'complete', 'your', 'request', 'please', 'contact', 'the', 'server', 'administrator', 'and', 'inform', 'them', 'of', 'the', 'time', 'the', 'error', 'occurred', 'and', 'anything', 'you', 'might', 'have', 'done', 'that', 'may', 'have', 'caused', 'the', 'error', 'more', 'information', 'about', 'this', 'error', 'may', 'be', 'available', 'in', 'the', 'server', 'error', 'log', '[SEP]'], ['[CLS]', 'internal', 'server', 'error', 'internal', 'server', 'error', 'the', 'server', 'encountered', 'an', 'internal', 'error', 'or', 'mis', '##con', '##fi', '##gur', '##ation', 'and', 'was', 'unable', 'to', 'complete', 'your', 'request', 'please', 'contact', 'the', 'server', 'administrator', 'and', 'inform', 'them', 'of', 'the', 'time', 'the', 'error', 'occurred', 'and', 'anything', 'you', 'might', 'have', 'done', 'that', 'may', 'have', 'caused', 'the', 'error', 'more', 'information', 'about', 'this', 'error', 'may', 'be', 'available', 'in', 'the', 'server', 'error', 'log', '[SEP]'], ['[CLS]', 'home', 'long', '##os', 'italian', 'restaurant', 'and', 'pi', '##zz', '##eria', 'the', 'best', 'since', 'the', 'long', '##os', 'have', 'been', 'serving', 'up', 'italian', 'dishes', 'in', 'northeast', 'ohio', 'and', 'is', 'mentor', '##s', 'oldest', 'pizza', 'place', 'we', 'opened', 'up', 'our', 'second', 'location', 'and', 'have', 'been', 'focusing', 'on', 'using', 'fresh', 'ingredients', 'providing', 'good', 'value', 'offering', 'friendly', 'service', 'and', 'supporting', 'the', 'community', 'choose', 'your', 'location', 'lakes', '##hore', 'boulevard', 'mentor', 'avenue', 'our', 'locations', '[SEP]'], ['[CLS]', 'd', '##ns', 'update', 'required', 'd', '##ns', 'update', 'required', 'the', 'site', 'you', 'were', 'looking', 'for', 'is', 'no', 'longer', 'available', 'at', 'this', 'ip', 'address', 'this', 'ip', 'address', 'is', 'de', '##pre', '##cated', 'and', 'is', 'no', 'longer', 'able', 'to', 'serve', 'the', 'requested', 'domain', 'if', 'this', 'is', 'your', 'site', 'please', 'update', 'your', 'd', '##ns', 'to', 'use', 'the', 'correct', 'ip', 'address', 'or', 'cn', '##ame', 'still', 'have', 'questions', 'contact', 'us', 'hosted', 'by', '[SEP]'], ['[CLS]', 'ke', '##ssler', 'optical', 'home', 'meet', 'dr', 'ke', '##ssler', 'read', 'our', 'reviews', 'location', 'hours', 'contact', 'new', 'patient', 'center', 'specialty', 'services', 'our', 'products', 'frames', 'contact', 'lenses', 'our', 'partners', 'home', 'meet', 'dr', 'ke', '##ssler', 'read', 'our', 'reviews', 'location', 'hours', 'contact', 'new', 'patient', 'center', 'specialty', 'services', 'our', 'products', 'frames', 'contact', 'lenses', 'our', 'partners', 'treat', 'your', 'eyes', 'well', 'east', 'main', 'street', 'suite', 'champaign', 'il', 'info', '##kes', '##sler', '##op', '##tical', '##com', '[SEP]'], ['[CLS]', 'your', '##bu', '##y', '##backs', '##com', 'your', '##bu', '##y', '##backs', '##com', 'imprint', 'copyright', 'all', 'rights', 'reserved', 'the', 'sponsored', 'listings', 'displayed', 'above', 'are', 'served', 'automatically', 'by', 'a', 'third', 'party', 'neither', 'the', 'service', 'provider', 'nor', 'the', 'domain', 'owner', 'maintain', 'any', 'relationship', 'with', 'the', 'ad', '##vert', '##iser', '##s', 'in', 'case', 'of', 'trademark', 'issues', 'please', 'contact', 'the', 'domain', 'owner', 'directly', 'contact', 'information', 'can', 'be', 'found', 'in', 'who', '##is', 'privacy', 'policy', '[SEP]']]\n"
          ],
          "name": "stdout"
        }
      ]
    },
    {
      "cell_type": "code",
      "metadata": {
        "id": "66tzgg72IdtE",
        "colab_type": "code",
        "colab": {
          "base_uri": "https://localhost:8080/",
          "height": 34
        },
        "outputId": "8ef6eaea-ffa9-4632-9fda-2e525092e06f"
      },
      "source": [
        "len(cat.train_x)"
      ],
      "execution_count": 23,
      "outputs": [
        {
          "output_type": "execute_result",
          "data": {
            "text/plain": [
              "20870"
            ]
          },
          "metadata": {
            "tags": []
          },
          "execution_count": 23
        }
      ]
    },
    {
      "cell_type": "code",
      "metadata": {
        "id": "6A5mFyJN3gBa",
        "colab_type": "code",
        "colab": {
          "base_uri": "https://localhost:8080/",
          "height": 1000
        },
        "outputId": "ba03b08d-75c3-4805-bfe4-64f6e3bea28c"
      },
      "source": [
        "model = cat.build_model(bert_config_file, bert_ckpt_file, adapter_size=256)"
      ],
      "execution_count": 28,
      "outputs": [
        {
          "output_type": "stream",
          "text": [
            "loader: No value for:[bert_1/encoder/layer_0/attention/output/adapter-down/kernel:0], i.e.:[bert/encoder/layer_0/attention/output/adapter-down/kernel] in:[/home/vahidsanei_google_com/data/uncased_L-12_H-768_A-12/bert_model.ckpt]\n",
            "loader: No value for:[bert_1/encoder/layer_0/attention/output/adapter-down/bias:0], i.e.:[bert/encoder/layer_0/attention/output/adapter-down/bias] in:[/home/vahidsanei_google_com/data/uncased_L-12_H-768_A-12/bert_model.ckpt]\n",
            "loader: No value for:[bert_1/encoder/layer_0/attention/output/adapter-up/kernel:0], i.e.:[bert/encoder/layer_0/attention/output/adapter-up/kernel] in:[/home/vahidsanei_google_com/data/uncased_L-12_H-768_A-12/bert_model.ckpt]\n",
            "loader: No value for:[bert_1/encoder/layer_0/attention/output/adapter-up/bias:0], i.e.:[bert/encoder/layer_0/attention/output/adapter-up/bias] in:[/home/vahidsanei_google_com/data/uncased_L-12_H-768_A-12/bert_model.ckpt]\n",
            "loader: No value for:[bert_1/encoder/layer_0/output/adapter-down/kernel:0], i.e.:[bert/encoder/layer_0/output/adapter-down/kernel] in:[/home/vahidsanei_google_com/data/uncased_L-12_H-768_A-12/bert_model.ckpt]\n",
            "loader: No value for:[bert_1/encoder/layer_0/output/adapter-down/bias:0], i.e.:[bert/encoder/layer_0/output/adapter-down/bias] in:[/home/vahidsanei_google_com/data/uncased_L-12_H-768_A-12/bert_model.ckpt]\n",
            "loader: No value for:[bert_1/encoder/layer_0/output/adapter-up/kernel:0], i.e.:[bert/encoder/layer_0/output/adapter-up/kernel] in:[/home/vahidsanei_google_com/data/uncased_L-12_H-768_A-12/bert_model.ckpt]\n",
            "loader: No value for:[bert_1/encoder/layer_0/output/adapter-up/bias:0], i.e.:[bert/encoder/layer_0/output/adapter-up/bias] in:[/home/vahidsanei_google_com/data/uncased_L-12_H-768_A-12/bert_model.ckpt]\n",
            "loader: No value for:[bert_1/encoder/layer_1/attention/output/adapter-down/kernel:0], i.e.:[bert/encoder/layer_1/attention/output/adapter-down/kernel] in:[/home/vahidsanei_google_com/data/uncased_L-12_H-768_A-12/bert_model.ckpt]\n",
            "loader: No value for:[bert_1/encoder/layer_1/attention/output/adapter-down/bias:0], i.e.:[bert/encoder/layer_1/attention/output/adapter-down/bias] in:[/home/vahidsanei_google_com/data/uncased_L-12_H-768_A-12/bert_model.ckpt]\n",
            "loader: No value for:[bert_1/encoder/layer_1/attention/output/adapter-up/kernel:0], i.e.:[bert/encoder/layer_1/attention/output/adapter-up/kernel] in:[/home/vahidsanei_google_com/data/uncased_L-12_H-768_A-12/bert_model.ckpt]\n",
            "loader: No value for:[bert_1/encoder/layer_1/attention/output/adapter-up/bias:0], i.e.:[bert/encoder/layer_1/attention/output/adapter-up/bias] in:[/home/vahidsanei_google_com/data/uncased_L-12_H-768_A-12/bert_model.ckpt]\n",
            "loader: No value for:[bert_1/encoder/layer_1/output/adapter-down/kernel:0], i.e.:[bert/encoder/layer_1/output/adapter-down/kernel] in:[/home/vahidsanei_google_com/data/uncased_L-12_H-768_A-12/bert_model.ckpt]\n",
            "loader: No value for:[bert_1/encoder/layer_1/output/adapter-down/bias:0], i.e.:[bert/encoder/layer_1/output/adapter-down/bias] in:[/home/vahidsanei_google_com/data/uncased_L-12_H-768_A-12/bert_model.ckpt]\n",
            "loader: No value for:[bert_1/encoder/layer_1/output/adapter-up/kernel:0], i.e.:[bert/encoder/layer_1/output/adapter-up/kernel] in:[/home/vahidsanei_google_com/data/uncased_L-12_H-768_A-12/bert_model.ckpt]\n",
            "loader: No value for:[bert_1/encoder/layer_1/output/adapter-up/bias:0], i.e.:[bert/encoder/layer_1/output/adapter-up/bias] in:[/home/vahidsanei_google_com/data/uncased_L-12_H-768_A-12/bert_model.ckpt]\n",
            "loader: No value for:[bert_1/encoder/layer_2/attention/output/adapter-down/kernel:0], i.e.:[bert/encoder/layer_2/attention/output/adapter-down/kernel] in:[/home/vahidsanei_google_com/data/uncased_L-12_H-768_A-12/bert_model.ckpt]\n",
            "loader: No value for:[bert_1/encoder/layer_2/attention/output/adapter-down/bias:0], i.e.:[bert/encoder/layer_2/attention/output/adapter-down/bias] in:[/home/vahidsanei_google_com/data/uncased_L-12_H-768_A-12/bert_model.ckpt]\n",
            "loader: No value for:[bert_1/encoder/layer_2/attention/output/adapter-up/kernel:0], i.e.:[bert/encoder/layer_2/attention/output/adapter-up/kernel] in:[/home/vahidsanei_google_com/data/uncased_L-12_H-768_A-12/bert_model.ckpt]\n",
            "loader: No value for:[bert_1/encoder/layer_2/attention/output/adapter-up/bias:0], i.e.:[bert/encoder/layer_2/attention/output/adapter-up/bias] in:[/home/vahidsanei_google_com/data/uncased_L-12_H-768_A-12/bert_model.ckpt]\n",
            "loader: No value for:[bert_1/encoder/layer_2/output/adapter-down/kernel:0], i.e.:[bert/encoder/layer_2/output/adapter-down/kernel] in:[/home/vahidsanei_google_com/data/uncased_L-12_H-768_A-12/bert_model.ckpt]\n",
            "loader: No value for:[bert_1/encoder/layer_2/output/adapter-down/bias:0], i.e.:[bert/encoder/layer_2/output/adapter-down/bias] in:[/home/vahidsanei_google_com/data/uncased_L-12_H-768_A-12/bert_model.ckpt]\n",
            "loader: No value for:[bert_1/encoder/layer_2/output/adapter-up/kernel:0], i.e.:[bert/encoder/layer_2/output/adapter-up/kernel] in:[/home/vahidsanei_google_com/data/uncased_L-12_H-768_A-12/bert_model.ckpt]\n",
            "loader: No value for:[bert_1/encoder/layer_2/output/adapter-up/bias:0], i.e.:[bert/encoder/layer_2/output/adapter-up/bias] in:[/home/vahidsanei_google_com/data/uncased_L-12_H-768_A-12/bert_model.ckpt]\n",
            "loader: No value for:[bert_1/encoder/layer_3/attention/output/adapter-down/kernel:0], i.e.:[bert/encoder/layer_3/attention/output/adapter-down/kernel] in:[/home/vahidsanei_google_com/data/uncased_L-12_H-768_A-12/bert_model.ckpt]\n",
            "loader: No value for:[bert_1/encoder/layer_3/attention/output/adapter-down/bias:0], i.e.:[bert/encoder/layer_3/attention/output/adapter-down/bias] in:[/home/vahidsanei_google_com/data/uncased_L-12_H-768_A-12/bert_model.ckpt]\n",
            "loader: No value for:[bert_1/encoder/layer_3/attention/output/adapter-up/kernel:0], i.e.:[bert/encoder/layer_3/attention/output/adapter-up/kernel] in:[/home/vahidsanei_google_com/data/uncased_L-12_H-768_A-12/bert_model.ckpt]\n",
            "loader: No value for:[bert_1/encoder/layer_3/attention/output/adapter-up/bias:0], i.e.:[bert/encoder/layer_3/attention/output/adapter-up/bias] in:[/home/vahidsanei_google_com/data/uncased_L-12_H-768_A-12/bert_model.ckpt]\n",
            "loader: No value for:[bert_1/encoder/layer_3/output/adapter-down/kernel:0], i.e.:[bert/encoder/layer_3/output/adapter-down/kernel] in:[/home/vahidsanei_google_com/data/uncased_L-12_H-768_A-12/bert_model.ckpt]\n",
            "loader: No value for:[bert_1/encoder/layer_3/output/adapter-down/bias:0], i.e.:[bert/encoder/layer_3/output/adapter-down/bias] in:[/home/vahidsanei_google_com/data/uncased_L-12_H-768_A-12/bert_model.ckpt]\n",
            "loader: No value for:[bert_1/encoder/layer_3/output/adapter-up/kernel:0], i.e.:[bert/encoder/layer_3/output/adapter-up/kernel] in:[/home/vahidsanei_google_com/data/uncased_L-12_H-768_A-12/bert_model.ckpt]\n",
            "loader: No value for:[bert_1/encoder/layer_3/output/adapter-up/bias:0], i.e.:[bert/encoder/layer_3/output/adapter-up/bias] in:[/home/vahidsanei_google_com/data/uncased_L-12_H-768_A-12/bert_model.ckpt]\n",
            "loader: No value for:[bert_1/encoder/layer_4/attention/output/adapter-down/kernel:0], i.e.:[bert/encoder/layer_4/attention/output/adapter-down/kernel] in:[/home/vahidsanei_google_com/data/uncased_L-12_H-768_A-12/bert_model.ckpt]\n",
            "loader: No value for:[bert_1/encoder/layer_4/attention/output/adapter-down/bias:0], i.e.:[bert/encoder/layer_4/attention/output/adapter-down/bias] in:[/home/vahidsanei_google_com/data/uncased_L-12_H-768_A-12/bert_model.ckpt]\n",
            "loader: No value for:[bert_1/encoder/layer_4/attention/output/adapter-up/kernel:0], i.e.:[bert/encoder/layer_4/attention/output/adapter-up/kernel] in:[/home/vahidsanei_google_com/data/uncased_L-12_H-768_A-12/bert_model.ckpt]\n",
            "loader: No value for:[bert_1/encoder/layer_4/attention/output/adapter-up/bias:0], i.e.:[bert/encoder/layer_4/attention/output/adapter-up/bias] in:[/home/vahidsanei_google_com/data/uncased_L-12_H-768_A-12/bert_model.ckpt]\n",
            "loader: No value for:[bert_1/encoder/layer_4/output/adapter-down/kernel:0], i.e.:[bert/encoder/layer_4/output/adapter-down/kernel] in:[/home/vahidsanei_google_com/data/uncased_L-12_H-768_A-12/bert_model.ckpt]\n",
            "loader: No value for:[bert_1/encoder/layer_4/output/adapter-down/bias:0], i.e.:[bert/encoder/layer_4/output/adapter-down/bias] in:[/home/vahidsanei_google_com/data/uncased_L-12_H-768_A-12/bert_model.ckpt]\n",
            "loader: No value for:[bert_1/encoder/layer_4/output/adapter-up/kernel:0], i.e.:[bert/encoder/layer_4/output/adapter-up/kernel] in:[/home/vahidsanei_google_com/data/uncased_L-12_H-768_A-12/bert_model.ckpt]\n",
            "loader: No value for:[bert_1/encoder/layer_4/output/adapter-up/bias:0], i.e.:[bert/encoder/layer_4/output/adapter-up/bias] in:[/home/vahidsanei_google_com/data/uncased_L-12_H-768_A-12/bert_model.ckpt]\n",
            "loader: No value for:[bert_1/encoder/layer_5/attention/output/adapter-down/kernel:0], i.e.:[bert/encoder/layer_5/attention/output/adapter-down/kernel] in:[/home/vahidsanei_google_com/data/uncased_L-12_H-768_A-12/bert_model.ckpt]\n",
            "loader: No value for:[bert_1/encoder/layer_5/attention/output/adapter-down/bias:0], i.e.:[bert/encoder/layer_5/attention/output/adapter-down/bias] in:[/home/vahidsanei_google_com/data/uncased_L-12_H-768_A-12/bert_model.ckpt]\n",
            "loader: No value for:[bert_1/encoder/layer_5/attention/output/adapter-up/kernel:0], i.e.:[bert/encoder/layer_5/attention/output/adapter-up/kernel] in:[/home/vahidsanei_google_com/data/uncased_L-12_H-768_A-12/bert_model.ckpt]\n",
            "loader: No value for:[bert_1/encoder/layer_5/attention/output/adapter-up/bias:0], i.e.:[bert/encoder/layer_5/attention/output/adapter-up/bias] in:[/home/vahidsanei_google_com/data/uncased_L-12_H-768_A-12/bert_model.ckpt]\n",
            "loader: No value for:[bert_1/encoder/layer_5/output/adapter-down/kernel:0], i.e.:[bert/encoder/layer_5/output/adapter-down/kernel] in:[/home/vahidsanei_google_com/data/uncased_L-12_H-768_A-12/bert_model.ckpt]\n",
            "loader: No value for:[bert_1/encoder/layer_5/output/adapter-down/bias:0], i.e.:[bert/encoder/layer_5/output/adapter-down/bias] in:[/home/vahidsanei_google_com/data/uncased_L-12_H-768_A-12/bert_model.ckpt]\n",
            "loader: No value for:[bert_1/encoder/layer_5/output/adapter-up/kernel:0], i.e.:[bert/encoder/layer_5/output/adapter-up/kernel] in:[/home/vahidsanei_google_com/data/uncased_L-12_H-768_A-12/bert_model.ckpt]\n",
            "loader: No value for:[bert_1/encoder/layer_5/output/adapter-up/bias:0], i.e.:[bert/encoder/layer_5/output/adapter-up/bias] in:[/home/vahidsanei_google_com/data/uncased_L-12_H-768_A-12/bert_model.ckpt]\n",
            "loader: No value for:[bert_1/encoder/layer_6/attention/output/adapter-down/kernel:0], i.e.:[bert/encoder/layer_6/attention/output/adapter-down/kernel] in:[/home/vahidsanei_google_com/data/uncased_L-12_H-768_A-12/bert_model.ckpt]\n",
            "loader: No value for:[bert_1/encoder/layer_6/attention/output/adapter-down/bias:0], i.e.:[bert/encoder/layer_6/attention/output/adapter-down/bias] in:[/home/vahidsanei_google_com/data/uncased_L-12_H-768_A-12/bert_model.ckpt]\n",
            "loader: No value for:[bert_1/encoder/layer_6/attention/output/adapter-up/kernel:0], i.e.:[bert/encoder/layer_6/attention/output/adapter-up/kernel] in:[/home/vahidsanei_google_com/data/uncased_L-12_H-768_A-12/bert_model.ckpt]\n",
            "loader: No value for:[bert_1/encoder/layer_6/attention/output/adapter-up/bias:0], i.e.:[bert/encoder/layer_6/attention/output/adapter-up/bias] in:[/home/vahidsanei_google_com/data/uncased_L-12_H-768_A-12/bert_model.ckpt]\n",
            "loader: No value for:[bert_1/encoder/layer_6/output/adapter-down/kernel:0], i.e.:[bert/encoder/layer_6/output/adapter-down/kernel] in:[/home/vahidsanei_google_com/data/uncased_L-12_H-768_A-12/bert_model.ckpt]\n",
            "loader: No value for:[bert_1/encoder/layer_6/output/adapter-down/bias:0], i.e.:[bert/encoder/layer_6/output/adapter-down/bias] in:[/home/vahidsanei_google_com/data/uncased_L-12_H-768_A-12/bert_model.ckpt]\n",
            "loader: No value for:[bert_1/encoder/layer_6/output/adapter-up/kernel:0], i.e.:[bert/encoder/layer_6/output/adapter-up/kernel] in:[/home/vahidsanei_google_com/data/uncased_L-12_H-768_A-12/bert_model.ckpt]\n",
            "loader: No value for:[bert_1/encoder/layer_6/output/adapter-up/bias:0], i.e.:[bert/encoder/layer_6/output/adapter-up/bias] in:[/home/vahidsanei_google_com/data/uncased_L-12_H-768_A-12/bert_model.ckpt]\n",
            "loader: No value for:[bert_1/encoder/layer_7/attention/output/adapter-down/kernel:0], i.e.:[bert/encoder/layer_7/attention/output/adapter-down/kernel] in:[/home/vahidsanei_google_com/data/uncased_L-12_H-768_A-12/bert_model.ckpt]\n",
            "loader: No value for:[bert_1/encoder/layer_7/attention/output/adapter-down/bias:0], i.e.:[bert/encoder/layer_7/attention/output/adapter-down/bias] in:[/home/vahidsanei_google_com/data/uncased_L-12_H-768_A-12/bert_model.ckpt]\n",
            "loader: No value for:[bert_1/encoder/layer_7/attention/output/adapter-up/kernel:0], i.e.:[bert/encoder/layer_7/attention/output/adapter-up/kernel] in:[/home/vahidsanei_google_com/data/uncased_L-12_H-768_A-12/bert_model.ckpt]\n",
            "loader: No value for:[bert_1/encoder/layer_7/attention/output/adapter-up/bias:0], i.e.:[bert/encoder/layer_7/attention/output/adapter-up/bias] in:[/home/vahidsanei_google_com/data/uncased_L-12_H-768_A-12/bert_model.ckpt]\n",
            "loader: No value for:[bert_1/encoder/layer_7/output/adapter-down/kernel:0], i.e.:[bert/encoder/layer_7/output/adapter-down/kernel] in:[/home/vahidsanei_google_com/data/uncased_L-12_H-768_A-12/bert_model.ckpt]\n",
            "loader: No value for:[bert_1/encoder/layer_7/output/adapter-down/bias:0], i.e.:[bert/encoder/layer_7/output/adapter-down/bias] in:[/home/vahidsanei_google_com/data/uncased_L-12_H-768_A-12/bert_model.ckpt]\n",
            "loader: No value for:[bert_1/encoder/layer_7/output/adapter-up/kernel:0], i.e.:[bert/encoder/layer_7/output/adapter-up/kernel] in:[/home/vahidsanei_google_com/data/uncased_L-12_H-768_A-12/bert_model.ckpt]\n",
            "loader: No value for:[bert_1/encoder/layer_7/output/adapter-up/bias:0], i.e.:[bert/encoder/layer_7/output/adapter-up/bias] in:[/home/vahidsanei_google_com/data/uncased_L-12_H-768_A-12/bert_model.ckpt]\n",
            "loader: No value for:[bert_1/encoder/layer_8/attention/output/adapter-down/kernel:0], i.e.:[bert/encoder/layer_8/attention/output/adapter-down/kernel] in:[/home/vahidsanei_google_com/data/uncased_L-12_H-768_A-12/bert_model.ckpt]\n",
            "loader: No value for:[bert_1/encoder/layer_8/attention/output/adapter-down/bias:0], i.e.:[bert/encoder/layer_8/attention/output/adapter-down/bias] in:[/home/vahidsanei_google_com/data/uncased_L-12_H-768_A-12/bert_model.ckpt]\n",
            "loader: No value for:[bert_1/encoder/layer_8/attention/output/adapter-up/kernel:0], i.e.:[bert/encoder/layer_8/attention/output/adapter-up/kernel] in:[/home/vahidsanei_google_com/data/uncased_L-12_H-768_A-12/bert_model.ckpt]\n",
            "loader: No value for:[bert_1/encoder/layer_8/attention/output/adapter-up/bias:0], i.e.:[bert/encoder/layer_8/attention/output/adapter-up/bias] in:[/home/vahidsanei_google_com/data/uncased_L-12_H-768_A-12/bert_model.ckpt]\n",
            "loader: No value for:[bert_1/encoder/layer_8/output/adapter-down/kernel:0], i.e.:[bert/encoder/layer_8/output/adapter-down/kernel] in:[/home/vahidsanei_google_com/data/uncased_L-12_H-768_A-12/bert_model.ckpt]\n",
            "loader: No value for:[bert_1/encoder/layer_8/output/adapter-down/bias:0], i.e.:[bert/encoder/layer_8/output/adapter-down/bias] in:[/home/vahidsanei_google_com/data/uncased_L-12_H-768_A-12/bert_model.ckpt]\n",
            "loader: No value for:[bert_1/encoder/layer_8/output/adapter-up/kernel:0], i.e.:[bert/encoder/layer_8/output/adapter-up/kernel] in:[/home/vahidsanei_google_com/data/uncased_L-12_H-768_A-12/bert_model.ckpt]\n",
            "loader: No value for:[bert_1/encoder/layer_8/output/adapter-up/bias:0], i.e.:[bert/encoder/layer_8/output/adapter-up/bias] in:[/home/vahidsanei_google_com/data/uncased_L-12_H-768_A-12/bert_model.ckpt]\n",
            "loader: No value for:[bert_1/encoder/layer_9/attention/output/adapter-down/kernel:0], i.e.:[bert/encoder/layer_9/attention/output/adapter-down/kernel] in:[/home/vahidsanei_google_com/data/uncased_L-12_H-768_A-12/bert_model.ckpt]\n",
            "loader: No value for:[bert_1/encoder/layer_9/attention/output/adapter-down/bias:0], i.e.:[bert/encoder/layer_9/attention/output/adapter-down/bias] in:[/home/vahidsanei_google_com/data/uncased_L-12_H-768_A-12/bert_model.ckpt]\n",
            "loader: No value for:[bert_1/encoder/layer_9/attention/output/adapter-up/kernel:0], i.e.:[bert/encoder/layer_9/attention/output/adapter-up/kernel] in:[/home/vahidsanei_google_com/data/uncased_L-12_H-768_A-12/bert_model.ckpt]\n",
            "loader: No value for:[bert_1/encoder/layer_9/attention/output/adapter-up/bias:0], i.e.:[bert/encoder/layer_9/attention/output/adapter-up/bias] in:[/home/vahidsanei_google_com/data/uncased_L-12_H-768_A-12/bert_model.ckpt]\n",
            "loader: No value for:[bert_1/encoder/layer_9/output/adapter-down/kernel:0], i.e.:[bert/encoder/layer_9/output/adapter-down/kernel] in:[/home/vahidsanei_google_com/data/uncased_L-12_H-768_A-12/bert_model.ckpt]\n",
            "loader: No value for:[bert_1/encoder/layer_9/output/adapter-down/bias:0], i.e.:[bert/encoder/layer_9/output/adapter-down/bias] in:[/home/vahidsanei_google_com/data/uncased_L-12_H-768_A-12/bert_model.ckpt]\n",
            "loader: No value for:[bert_1/encoder/layer_9/output/adapter-up/kernel:0], i.e.:[bert/encoder/layer_9/output/adapter-up/kernel] in:[/home/vahidsanei_google_com/data/uncased_L-12_H-768_A-12/bert_model.ckpt]\n",
            "loader: No value for:[bert_1/encoder/layer_9/output/adapter-up/bias:0], i.e.:[bert/encoder/layer_9/output/adapter-up/bias] in:[/home/vahidsanei_google_com/data/uncased_L-12_H-768_A-12/bert_model.ckpt]\n",
            "loader: No value for:[bert_1/encoder/layer_10/attention/output/adapter-down/kernel:0], i.e.:[bert/encoder/layer_10/attention/output/adapter-down/kernel] in:[/home/vahidsanei_google_com/data/uncased_L-12_H-768_A-12/bert_model.ckpt]\n",
            "loader: No value for:[bert_1/encoder/layer_10/attention/output/adapter-down/bias:0], i.e.:[bert/encoder/layer_10/attention/output/adapter-down/bias] in:[/home/vahidsanei_google_com/data/uncased_L-12_H-768_A-12/bert_model.ckpt]\n",
            "loader: No value for:[bert_1/encoder/layer_10/attention/output/adapter-up/kernel:0], i.e.:[bert/encoder/layer_10/attention/output/adapter-up/kernel] in:[/home/vahidsanei_google_com/data/uncased_L-12_H-768_A-12/bert_model.ckpt]\n",
            "loader: No value for:[bert_1/encoder/layer_10/attention/output/adapter-up/bias:0], i.e.:[bert/encoder/layer_10/attention/output/adapter-up/bias] in:[/home/vahidsanei_google_com/data/uncased_L-12_H-768_A-12/bert_model.ckpt]\n",
            "loader: No value for:[bert_1/encoder/layer_10/output/adapter-down/kernel:0], i.e.:[bert/encoder/layer_10/output/adapter-down/kernel] in:[/home/vahidsanei_google_com/data/uncased_L-12_H-768_A-12/bert_model.ckpt]\n",
            "loader: No value for:[bert_1/encoder/layer_10/output/adapter-down/bias:0], i.e.:[bert/encoder/layer_10/output/adapter-down/bias] in:[/home/vahidsanei_google_com/data/uncased_L-12_H-768_A-12/bert_model.ckpt]\n",
            "loader: No value for:[bert_1/encoder/layer_10/output/adapter-up/kernel:0], i.e.:[bert/encoder/layer_10/output/adapter-up/kernel] in:[/home/vahidsanei_google_com/data/uncased_L-12_H-768_A-12/bert_model.ckpt]\n",
            "loader: No value for:[bert_1/encoder/layer_10/output/adapter-up/bias:0], i.e.:[bert/encoder/layer_10/output/adapter-up/bias] in:[/home/vahidsanei_google_com/data/uncased_L-12_H-768_A-12/bert_model.ckpt]\n",
            "loader: No value for:[bert_1/encoder/layer_11/attention/output/adapter-down/kernel:0], i.e.:[bert/encoder/layer_11/attention/output/adapter-down/kernel] in:[/home/vahidsanei_google_com/data/uncased_L-12_H-768_A-12/bert_model.ckpt]\n",
            "loader: No value for:[bert_1/encoder/layer_11/attention/output/adapter-down/bias:0], i.e.:[bert/encoder/layer_11/attention/output/adapter-down/bias] in:[/home/vahidsanei_google_com/data/uncased_L-12_H-768_A-12/bert_model.ckpt]\n",
            "loader: No value for:[bert_1/encoder/layer_11/attention/output/adapter-up/kernel:0], i.e.:[bert/encoder/layer_11/attention/output/adapter-up/kernel] in:[/home/vahidsanei_google_com/data/uncased_L-12_H-768_A-12/bert_model.ckpt]\n",
            "loader: No value for:[bert_1/encoder/layer_11/attention/output/adapter-up/bias:0], i.e.:[bert/encoder/layer_11/attention/output/adapter-up/bias] in:[/home/vahidsanei_google_com/data/uncased_L-12_H-768_A-12/bert_model.ckpt]\n",
            "loader: No value for:[bert_1/encoder/layer_11/output/adapter-down/kernel:0], i.e.:[bert/encoder/layer_11/output/adapter-down/kernel] in:[/home/vahidsanei_google_com/data/uncased_L-12_H-768_A-12/bert_model.ckpt]\n",
            "loader: No value for:[bert_1/encoder/layer_11/output/adapter-down/bias:0], i.e.:[bert/encoder/layer_11/output/adapter-down/bias] in:[/home/vahidsanei_google_com/data/uncased_L-12_H-768_A-12/bert_model.ckpt]\n",
            "loader: No value for:[bert_1/encoder/layer_11/output/adapter-up/kernel:0], i.e.:[bert/encoder/layer_11/output/adapter-up/kernel] in:[/home/vahidsanei_google_com/data/uncased_L-12_H-768_A-12/bert_model.ckpt]\n",
            "loader: No value for:[bert_1/encoder/layer_11/output/adapter-up/bias:0], i.e.:[bert/encoder/layer_11/output/adapter-up/bias] in:[/home/vahidsanei_google_com/data/uncased_L-12_H-768_A-12/bert_model.ckpt]\n",
            "Done loading 196 BERT weights from: /home/vahidsanei_google_com/data/uncased_L-12_H-768_A-12/bert_model.ckpt into <bert.model.BertModelLayer object at 0x7f75f62e9b90> (prefix:bert_1). Count of weights not found in the checkpoint was: [96]. Count of weights with mismatched shape: [0]\n",
            "Unused weights from checkpoint: \n",
            "\tbert/embeddings/token_type_embeddings\n",
            "\tbert/pooler/dense/bias\n",
            "\tbert/pooler/dense/kernel\n",
            "\tcls/predictions/output_bias\n",
            "\tcls/predictions/transform/LayerNorm/beta\n",
            "\tcls/predictions/transform/LayerNorm/gamma\n",
            "\tcls/predictions/transform/dense/bias\n",
            "\tcls/predictions/transform/dense/kernel\n",
            "\tcls/seq_relationship/output_bias\n",
            "\tcls/seq_relationship/output_weights\n"
          ],
          "name": "stdout"
        }
      ]
    },
    {
      "cell_type": "code",
      "metadata": {
        "id": "iWgHWDoE3gBd",
        "colab_type": "code",
        "colab": {
          "base_uri": "https://localhost:8080/",
          "height": 1000
        },
        "outputId": "466a06f2-ec0e-4f4a-ec1e-2a499bbdb3b1"
      },
      "source": [
        "compile_model(cat, model)"
      ],
      "execution_count": 25,
      "outputs": [
        {
          "output_type": "stream",
          "text": [
            "Model: \"model\"\n",
            "_________________________________________________________________\n",
            "Layer (type)                 Output Shape              Param #   \n",
            "=================================================================\n",
            "input_ids (InputLayer)       [(None, 256)]             0         \n",
            "_________________________________________________________________\n",
            "bert (BertModelLayer)        (None, 256, 768)          118351872 \n",
            "_________________________________________________________________\n",
            "lambda (Lambda)              (None, 768)               0         \n",
            "_________________________________________________________________\n",
            "dropout (Dropout)            (None, 768)               0         \n",
            "_________________________________________________________________\n",
            "dense (Dense)                (None, 5)                 3845      \n",
            "=================================================================\n",
            "Total params: 118,355,717\n",
            "Trainable params: 9,502,469\n",
            "Non-trainable params: 108,853,248\n",
            "_________________________________________________________________\n",
            "None\n",
            "Epoch 1/50\n",
            "1240/1240 [==============================] - 365s 294ms/step - loss: 1.4655 - acc: 0.3195 - val_loss: 1.3863 - val_acc: 0.3496\n",
            "Epoch 2/50\n",
            "1240/1240 [==============================] - 356s 287ms/step - loss: 1.3837 - acc: 0.3389 - val_loss: 1.3835 - val_acc: 0.3487\n",
            "Epoch 3/50\n",
            "1240/1240 [==============================] - 355s 286ms/step - loss: 1.3711 - acc: 0.3560 - val_loss: 1.3756 - val_acc: 0.3496\n",
            "Epoch 4/50\n",
            "1240/1240 [==============================] - 354s 286ms/step - loss: 1.3469 - acc: 0.3849 - val_loss: 1.3509 - val_acc: 0.3860\n",
            "Epoch 5/50\n",
            "1240/1240 [==============================] - 355s 286ms/step - loss: 1.3274 - acc: 0.4088 - val_loss: 1.3435 - val_acc: 0.3975\n",
            "Epoch 6/50\n",
            "1240/1240 [==============================] - 354s 286ms/step - loss: 1.3167 - acc: 0.4128 - val_loss: 1.3250 - val_acc: 0.3975\n",
            "Epoch 7/50\n",
            "1240/1240 [==============================] - 355s 286ms/step - loss: 1.3010 - acc: 0.4231 - val_loss: 1.3162 - val_acc: 0.3966\n",
            "Epoch 8/50\n",
            "1240/1240 [==============================] - 355s 287ms/step - loss: 1.2953 - acc: 0.4254 - val_loss: 1.3161 - val_acc: 0.4061\n",
            "Epoch 9/50\n",
            "1240/1240 [==============================] - 357s 288ms/step - loss: 1.2884 - acc: 0.4311 - val_loss: 1.3169 - val_acc: 0.4013\n",
            "Epoch 10/50\n",
            "1240/1240 [==============================] - 356s 287ms/step - loss: 1.2871 - acc: 0.4331 - val_loss: 1.3166 - val_acc: 0.3975\n",
            "Epoch 11/50\n",
            "1240/1240 [==============================] - 355s 286ms/step - loss: 1.2820 - acc: 0.4343 - val_loss: 1.3132 - val_acc: 0.4100\n",
            "Epoch 12/50\n",
            "1240/1240 [==============================] - 357s 288ms/step - loss: 1.2800 - acc: 0.4355 - val_loss: 1.3125 - val_acc: 0.4090\n",
            "Epoch 13/50\n",
            "1240/1240 [==============================] - 356s 287ms/step - loss: 1.2744 - acc: 0.4442 - val_loss: 1.3155 - val_acc: 0.4052\n",
            "Epoch 14/50\n",
            "1240/1240 [==============================] - 355s 286ms/step - loss: 1.2734 - acc: 0.4442 - val_loss: 1.3119 - val_acc: 0.4100\n",
            "Epoch 15/50\n",
            "1240/1240 [==============================] - 355s 286ms/step - loss: 1.2715 - acc: 0.4398 - val_loss: 1.3141 - val_acc: 0.4080\n",
            "Epoch 16/50\n",
            "1240/1240 [==============================] - 354s 285ms/step - loss: 1.2699 - acc: 0.4441 - val_loss: 1.3108 - val_acc: 0.4052\n",
            "Epoch 17/50\n",
            "1240/1240 [==============================] - 353s 285ms/step - loss: 1.2663 - acc: 0.4489 - val_loss: 1.3156 - val_acc: 0.4119\n",
            "Epoch 18/50\n",
            "1240/1240 [==============================] - 353s 285ms/step - loss: 1.2636 - acc: 0.4462 - val_loss: 1.3061 - val_acc: 0.4109\n",
            "Epoch 19/50\n",
            "1240/1240 [==============================] - 353s 285ms/step - loss: 1.2610 - acc: 0.4493 - val_loss: 1.3080 - val_acc: 0.4157\n",
            "Epoch 20/50\n",
            "1240/1240 [==============================] - 354s 285ms/step - loss: 1.2572 - acc: 0.4527 - val_loss: 1.3100 - val_acc: 0.4186\n",
            "Epoch 21/50\n",
            "1240/1240 [==============================] - 354s 285ms/step - loss: 1.2564 - acc: 0.4514 - val_loss: 1.3070 - val_acc: 0.4195\n",
            "Epoch 22/50\n",
            "1240/1240 [==============================] - 355s 286ms/step - loss: 1.2547 - acc: 0.4548 - val_loss: 1.3105 - val_acc: 0.4167\n",
            "Epoch 23/50\n",
            "1240/1240 [==============================] - 355s 286ms/step - loss: 1.2535 - acc: 0.4533 - val_loss: 1.3077 - val_acc: 0.4301\n",
            "Epoch 24/50\n",
            "1240/1240 [==============================] - 357s 288ms/step - loss: 1.2523 - acc: 0.4537 - val_loss: 1.3069 - val_acc: 0.4205\n",
            "Epoch 25/50\n",
            "1240/1240 [==============================] - 356s 287ms/step - loss: 1.2484 - acc: 0.4575 - val_loss: 1.3070 - val_acc: 0.4224\n",
            "Epoch 26/50\n",
            "1240/1240 [==============================] - 354s 285ms/step - loss: 1.2468 - acc: 0.4609 - val_loss: 1.3098 - val_acc: 0.4138\n",
            "Epoch 27/50\n",
            "1240/1240 [==============================] - 354s 286ms/step - loss: 1.2458 - acc: 0.4604 - val_loss: 1.3120 - val_acc: 0.4128\n",
            "Epoch 28/50\n",
            "1240/1240 [==============================] - 354s 285ms/step - loss: 1.2405 - acc: 0.4609 - val_loss: 1.3074 - val_acc: 0.4253\n",
            "Epoch 29/50\n",
            "1240/1240 [==============================] - 357s 288ms/step - loss: 1.2411 - acc: 0.4621 - val_loss: 1.3072 - val_acc: 0.4234\n",
            "Epoch 30/50\n",
            "1240/1240 [==============================] - 358s 288ms/step - loss: 1.2394 - acc: 0.4604 - val_loss: 1.3087 - val_acc: 0.4167\n",
            "Epoch 31/50\n",
            "1240/1240 [==============================] - 356s 287ms/step - loss: 1.2374 - acc: 0.4635 - val_loss: 1.3159 - val_acc: 0.4224\n",
            "Epoch 32/50\n",
            "1240/1240 [==============================] - 355s 286ms/step - loss: 1.2346 - acc: 0.4658 - val_loss: 1.3095 - val_acc: 0.4262\n",
            "Epoch 33/50\n",
            "1240/1240 [==============================] - 354s 285ms/step - loss: 1.2329 - acc: 0.4688 - val_loss: 1.3163 - val_acc: 0.4224\n",
            "Epoch 34/50\n",
            "1240/1240 [==============================] - 356s 287ms/step - loss: 1.2301 - acc: 0.4699 - val_loss: 1.3165 - val_acc: 0.4253\n",
            "Epoch 35/50\n",
            "1240/1240 [==============================] - 357s 288ms/step - loss: 1.2292 - acc: 0.4700 - val_loss: 1.3094 - val_acc: 0.4215\n",
            "Epoch 36/50\n",
            "1240/1240 [==============================] - 357s 288ms/step - loss: 1.2274 - acc: 0.4711 - val_loss: 1.3144 - val_acc: 0.3985\n",
            "Epoch 37/50\n",
            "1240/1240 [==============================] - 357s 288ms/step - loss: 1.2255 - acc: 0.4694 - val_loss: 1.3210 - val_acc: 0.4224\n",
            "Epoch 38/50\n",
            "1240/1240 [==============================] - 356s 287ms/step - loss: 1.2236 - acc: 0.4709 - val_loss: 1.3098 - val_acc: 0.4234\n",
            "Epoch 39/50\n",
            "1240/1240 [==============================] - 359s 289ms/step - loss: 1.2216 - acc: 0.4720 - val_loss: 1.3167 - val_acc: 0.4186\n",
            "Epoch 40/50\n",
            "1240/1240 [==============================] - 359s 290ms/step - loss: 1.2163 - acc: 0.4768 - val_loss: 1.3167 - val_acc: 0.4215\n",
            "Epoch 41/50\n",
            "1240/1240 [==============================] - 353s 285ms/step - loss: 1.2155 - acc: 0.4750 - val_loss: 1.3273 - val_acc: 0.4138\n",
            "Epoch 42/50\n",
            "1240/1240 [==============================] - 355s 286ms/step - loss: 1.2138 - acc: 0.4783 - val_loss: 1.3157 - val_acc: 0.4148\n",
            "Epoch 43/50\n",
            "1240/1240 [==============================] - 355s 287ms/step - loss: 1.2073 - acc: 0.4830 - val_loss: 1.3162 - val_acc: 0.4061\n",
            "Epoch 44/50\n",
            "1240/1240 [==============================] - 356s 287ms/step - loss: 1.2108 - acc: 0.4808 - val_loss: 1.3204 - val_acc: 0.4023\n",
            "Epoch 45/50\n",
            "1240/1240 [==============================] - 356s 287ms/step - loss: 1.2063 - acc: 0.4818 - val_loss: 1.3240 - val_acc: 0.4195\n",
            "Epoch 46/50\n",
            "1240/1240 [==============================] - 354s 286ms/step - loss: 1.2041 - acc: 0.4831 - val_loss: 1.3223 - val_acc: 0.4033\n",
            "Epoch 47/50\n",
            "1240/1240 [==============================] - 355s 286ms/step - loss: 1.1991 - acc: 0.4836 - val_loss: 1.3267 - val_acc: 0.4052\n",
            "Epoch 48/50\n",
            "1240/1240 [==============================] - 355s 286ms/step - loss: 1.1962 - acc: 0.4881 - val_loss: 1.3292 - val_acc: 0.4023\n",
            "Epoch 49/50\n",
            "1240/1240 [==============================] - 354s 286ms/step - loss: 1.1949 - acc: 0.4859 - val_loss: 1.3275 - val_acc: 0.3975\n",
            "Epoch 50/50\n",
            "1240/1240 [==============================] - 354s 285ms/step - loss: 1.1931 - acc: 0.4873 - val_loss: 1.3324 - val_acc: 0.4071\n"
          ],
          "name": "stdout"
        }
      ]
    },
    {
      "cell_type": "code",
      "metadata": {
        "id": "tMGfk9Us3gBh",
        "colab_type": "code",
        "colab": {
          "base_uri": "https://localhost:8080/",
          "height": 51
        },
        "outputId": "e72b2cea-6423-4f83-e5a8-fde97aac52d6"
      },
      "source": [
        "model.evaluate(cat.test_x, cat.test_y)"
      ],
      "execution_count": 26,
      "outputs": [
        {
          "output_type": "stream",
          "text": [
            "166/166 [==============================] - 38s 232ms/step - loss: 1.3108 - acc: 0.4265\n"
          ],
          "name": "stdout"
        },
        {
          "output_type": "execute_result",
          "data": {
            "text/plain": [
              "[1.3107560873031616, 0.42649006843566895]"
            ]
          },
          "metadata": {
            "tags": []
          },
          "execution_count": 26
        }
      ]
    },
    {
      "cell_type": "code",
      "metadata": {
        "id": "vhYZ03Pq3gBk",
        "colab_type": "code",
        "colab": {
          "base_uri": "https://localhost:8080/",
          "height": 34
        },
        "outputId": "52f80a74-9db1-4241-c44f-df2eb37255fe"
      },
      "source": [
        "len(cat.test_y)"
      ],
      "execution_count": 27,
      "outputs": [
        {
          "output_type": "execute_result",
          "data": {
            "text/plain": [
              "5285"
            ]
          },
          "metadata": {
            "tags": []
          },
          "execution_count": 27
        }
      ]
    }
  ]
}